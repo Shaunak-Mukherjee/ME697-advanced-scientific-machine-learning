{
  "cells": [
    {
      "cell_type": "code",
      "execution_count": 91,
      "metadata": {
        "id": "sRtHpRmEnBCY",
        "tags": [
          "hide-input"
        ]
      },
      "outputs": [],
      "source": [
        "import matplotlib.pyplot as plt\n",
        "%matplotlib inline\n",
        "import matplotlib_inline\n",
        "matplotlib_inline.backend_inline.set_matplotlib_formats('png')\n",
        "import seaborn as sns\n",
        "sns.set_context(\"paper\")\n",
        "sns.set_style(\"ticks\");"
      ]
    },
    {
      "cell_type": "markdown",
      "metadata": {
        "id": "6u0uy1jXnBCZ"
      },
      "source": [
        "# Homework 1\n",
        "\n",
        "## References\n",
        "\n",
        "+ Module 1: Introduction\n",
        "+ Module 2: Modern Machine Learning Software\n",
        "\n",
        "## Instructions\n",
        "\n",
        "+ Type your name and email in the \"Student details\" section below.\n",
        "+ Develop the code and generate the figures you need to solve the problems using this notebook.\n",
        "+ For the answers that require a mathematical proof or derivation you should type them using latex. If you have never written latex before and you find it exceedingly difficult, we will likely accept handwritten solutions.\n",
        "+ The total homework points are 100. Please note that the problems are not weighed equally.\n",
        "\n",
        "## Student details\n",
        "\n",
        "+ **First Name: Shaunak**\n",
        "+ **Last Name:Mukherjee**\n",
        "+ **Email:mukher86@purdue.edu**\n",
        "+ **Used generative AI to complete this assignment (Yes/No): No**\n",
        "+ **Which generative AI tool did you use (if applicable)?:  NA**"
      ]
    },
    {
      "cell_type": "markdown",
      "metadata": {
        "id": "xdpdO4yrnBCa"
      },
      "source": [
        "## Problem 1 - Recursion vs Iteration\n",
        "\n",
        "This problem adjusted from the [Structure and Interpretation of Computer Programs](https://mitpress.mit.edu/sites/default/files/sicp/full-text/book/book.html) book.\n",
        "In particular from [this section](https://mitp-content-server.mit.edu/books/content/sectbyfn/books_pres_0/6515/sicp.zip/full-text/book/book-Z-H-11.html#%_sec_1.2.1).\n",
        "\n",
        "Imagine you are working with a programming language that does not have loops.\n",
        "This is how you have to think when writing code in `Jax`.\n",
        "Let's say we want to write a function that calculates the factorial of a number:\n",
        "\n",
        "$$\n",
        "n! = n \\times (n-1) \\times (n-2) \\times \\dots \\times 1\n",
        "$$\n",
        "\n",
        "The standard recursive definition of the factorial function is:"
      ]
    },
    {
      "cell_type": "code",
      "execution_count": 92,
      "metadata": {
        "id": "9b9LrY75nBCa"
      },
      "outputs": [],
      "source": [
        "\n",
        "def factorial(n):\n",
        "    if n == 0:\n",
        "        return 1\n",
        "    else:\n",
        "        return n * factorial(n-1)"
      ]
    },
    {
      "cell_type": "markdown",
      "metadata": {
        "id": "gku35XeynBCa"
      },
      "source": [
        "Here is how it can be used:"
      ]
    },
    {
      "cell_type": "code",
      "execution_count": 93,
      "metadata": {
        "colab": {
          "base_uri": "https://localhost:8080/"
        },
        "id": "qgMuP1B5nBCa",
        "outputId": "f209260e-d9d4-43da-f5c3-3190c07cfa66"
      },
      "outputs": [
        {
          "data": {
            "text/plain": [
              "120"
            ]
          },
          "execution_count": 93,
          "metadata": {},
          "output_type": "execute_result"
        }
      ],
      "source": [
        "factorial(5)"
      ]
    },
    {
      "cell_type": "markdown",
      "metadata": {
        "id": "-oYN7OsInBCa"
      },
      "source": [
        "Let's unroll what actually happens behind the scenes:\n",
        "\n",
        "```python\n",
        "factorial(5)\n",
        "5 * factorial(4)\n",
        "5 * (4 * factorial(3))\n",
        "5 * (4 * (3 * factorial(2)))\n",
        "5 * (4 * (3 * (2 * factorial(1))))\n",
        "5 * (4 * (3 * (2 * 1)))\n",
        "5 * (4 * (3 * 2))\n",
        "5 * (4 * 6)\n",
        "5 * 24\n",
        "120\n",
        "```\n",
        "\n",
        "You quickly notice, that the amount of intermediate results that are stored in memory grows exponentially with the input.\n",
        "This won't work for large inputs, because you will run out of memory.\n",
        "But, there is another way to achieve the same result without exploding memory usage.\n",
        "We could start by multiplying 1 by 2, then the result with 3, then the result with 4, and so on.\n",
        "So, we keep track of a running product that we update.\n",
        "We don't need a loop to do this kind of iteration.\n",
        "We can do it with recursion:"
      ]
    },
    {
      "cell_type": "code",
      "execution_count": 94,
      "metadata": {
        "id": "jIjQw7Q2nBCa"
      },
      "outputs": [],
      "source": [
        "def fact_iter(product, counter, max_iter):\n",
        "    if counter > max_iter:\n",
        "        return product\n",
        "    else:\n",
        "        return fact_iter(counter * product, counter + 1, max_iter)\n",
        "\n",
        "def good_factorial(n):\n",
        "    return fact_iter(1, 1, n)"
      ]
    },
    {
      "cell_type": "markdown",
      "metadata": {
        "id": "h626z3n_nBCb"
      },
      "source": [
        "Check that this works as before:"
      ]
    },
    {
      "cell_type": "code",
      "execution_count": 95,
      "metadata": {
        "colab": {
          "base_uri": "https://localhost:8080/"
        },
        "id": "vVKVxb3bnBCb",
        "outputId": "25ebb7db-a6c9-43b1-8cbc-f4f876305235"
      },
      "outputs": [
        {
          "data": {
            "text/plain": [
              "120"
            ]
          },
          "execution_count": 95,
          "metadata": {},
          "output_type": "execute_result"
        }
      ],
      "source": [
        "good_factorial(5)"
      ]
    },
    {
      "cell_type": "markdown",
      "metadata": {
        "id": "Z1CfsIobnBCb"
      },
      "source": [
        "Here is how this unrolls:\n",
        "\n",
        "```python\n",
        "factorial(5)\n",
        "fact_iter(1, 1, 5)\n",
        "fact_iter(1, 2, 5)\n",
        "fact_iter(2, 3, 5)\n",
        "fact_iter(6, 4, 5)\n",
        "fact_iter(24, 5, 5)\n",
        "fact_iter(120, 6, 5)\n",
        "120\n",
        "```\n",
        "\n",
        "We say that the second approach is *iterative* and the first approach is *recursive*.\n",
        "We want to be writing iterative code, because it is more efficient.\n",
        "\n",
        "Write iterative code that, given $n$, computes the fibonacci number:\n",
        "\n",
        "$$\n",
        "f_n = f_{n-1} + f_{n-2}\n",
        "$$\n",
        "\n",
        "where $f_0 = 0$ and $f_1 = 1$.\n",
        "You should not use a loop!\n",
        "\n",
        "**Answer:**"
      ]
    },
    {
      "cell_type": "code",
      "execution_count": 96,
      "metadata": {
        "id": "IIdj-3-inBCb"
      },
      "outputs": [],
      "source": [
        "# Your code here - Demonstrate that it works\n",
        "\n",
        "# Define main function (no loop or recusion)\n",
        "def fibonacci_iterative(n):\n",
        "\n",
        "  if n < 0:\n",
        "\n",
        "      print(\"n must be a non-negative integer.\")\n",
        "\n",
        "  if n == 0:\n",
        "      return 0\n",
        "  if n == 1:\n",
        "      return 1\n",
        "\n",
        "  def fibo_step(a, b, counter, max_iter):\n",
        "      if counter == max_iter:\n",
        "          return b\n",
        "      return fibo_step(b, a + b, counter + 1, max_iter)\n",
        "\n",
        "  # Initial state need to be defined: (f0 = 0, f1 = 1, current step = 1, max_iter = n)\n",
        "  return fibo_step(0, 1, 1, n)"
      ]
    },
    {
      "cell_type": "markdown",
      "metadata": {
        "id": "AbXBmf73nBCb"
      },
      "source": [
        " *Here show how your code works for $n=5$ like I did above with the factorial example.*"
      ]
    },
    {
      "cell_type": "code",
      "execution_count": 97,
      "metadata": {
        "colab": {
          "base_uri": "https://localhost:8080/"
        },
        "id": "hdZRJ1WZx5Qs",
        "outputId": "ed0df0e7-8e59-4b4b-9cea-944829614289"
      },
      "outputs": [
        {
          "data": {
            "text/plain": [
              "5"
            ]
          },
          "execution_count": 97,
          "metadata": {},
          "output_type": "execute_result"
        }
      ],
      "source": [
        "# Demonstration\n",
        "fibonacci_iterative(5)"
      ]
    },
    {
      "cell_type": "markdown",
      "metadata": {
        "id": "Zio1T0hXx7PQ"
      },
      "source": [
        "This is how it should compute\n",
        "\n",
        "```\n",
        "fibonacci_iterative(5)\n",
        "fibo_step(0, 1, 1, 5)\n",
        "fibo_step(1, 1, 2, 5)\n",
        "fibo_step(1, 2, 3, 5)\n",
        "fibo_step(2, 3, 4, 5)\n",
        "fibo_step(3, 5, 5, 5)\n",
        "5\n",
        "```\n"
      ]
    },
    {
      "cell_type": "markdown",
      "metadata": {
        "id": "_VMTh02BnBCb"
      },
      "source": [
        "## Problem 2 - The `foldl` function\n",
        "\n",
        "The `foldl` function is a higher order function that is used to implement iteration.\n",
        "It is defined as follows:\n",
        "\n",
        "$$\n",
        "\\text{foldl}(f, z, [x_1, x_2, \\dots, x_n]) = f(f(\\dots f(f(z, x_1), x_2), \\dots), x_n)\n",
        "$$\n",
        "\n",
        "where $f$ is a function that takes two arguments and $z$ is the initial value.\n",
        "In words, `foldl` takes a function $f$, an initial value $z$, and a list $[x_1, x_2, \\dots, x_n]$.\n",
        "It then applies $f$ to $z$ and the first element of the list, then applies $f$ to the result of the previous application and the second element of the list, and so on.\n",
        "\n",
        "Implement `foldl` in `Python`. Pay attention to create an iterative implementation.\n",
        "\n",
        "**Answer:**"
      ]
    },
    {
      "cell_type": "code",
      "execution_count": 98,
      "metadata": {
        "id": "IQnaWg_FnBCb"
      },
      "outputs": [],
      "source": [
        "# Your code here - Demonstrate that it works\n",
        "\n",
        "# Iterative\n",
        "def foldl(f, z, lst):\n",
        "  iterator = iter(lst)\n",
        "  result = z\n",
        "\n",
        "  while True:\n",
        "      try:\n",
        "          result = f(result, next(iterator))\n",
        "      except StopIteration:\n",
        "          return result"
      ]
    },
    {
      "cell_type": "markdown",
      "metadata": {
        "id": "WnDZ7E6inBCc"
      },
      "source": [
        "Use your `foldl` function to implement the `sum` function and the `product` function.\n",
        "\n",
        "**Answer:**"
      ]
    },
    {
      "cell_type": "code",
      "execution_count": 99,
      "metadata": {
        "id": "PKyC-Ym0AEeg"
      },
      "outputs": [],
      "source": [
        "# Defining sum and product functions using foldl function\n",
        "\n",
        "def sum_list(lst):\n",
        "    return foldl(lambda x, y: x + y, 0, lst) #The initial value is 0\n",
        "\n",
        "def product_list(lst):\n",
        "  return foldl(lambda x, y: x * y, 1, lst) # The initial value is 1\n"
      ]
    },
    {
      "cell_type": "code",
      "execution_count": 100,
      "metadata": {
        "colab": {
          "base_uri": "https://localhost:8080/"
        },
        "id": "jrnUMzRQnBCc",
        "outputId": "c792a3f5-3819-4802-db4b-109eb606a91c"
      },
      "outputs": [
        {
          "name": "stdout",
          "output_type": "stream",
          "text": [
            " Sum:15\n",
            " Product:120\n"
          ]
        }
      ],
      "source": [
        "# Your code here - Demonstrate that it works\n",
        "lst = [3, 1, 2, 5, 4]\n",
        "\n",
        "print(f\" Sum:{sum_list(lst)}\")\n",
        "\n",
        "print(f\" Product:{product_list(lst)}\")"
      ]
    },
    {
      "cell_type": "markdown",
      "metadata": {
        "id": "zLLbwrtdnBCc"
      },
      "source": [
        "## Problem 3 - No Loops in Jax\n",
        "\n",
        "Use `Jax`'s [`jax.lax.scan`](https://jax.readthedocs.io/en/latest/_autosummary/jax.lax.scan.html) to implement and `jit` a function that returns the Fibonacci sequence up to a given number.\n",
        "Don't bother using integer types, just use `float32` for everything.\n",
        "\n",
        "**Answer:**"
      ]
    },
    {
      "cell_type": "code",
      "execution_count": 101,
      "metadata": {},
      "outputs": [],
      "source": [
        "# pip install -U \"jax[cpu]\""
      ]
    },
    {
      "cell_type": "code",
      "execution_count": 102,
      "metadata": {},
      "outputs": [],
      "source": [
        "# %load_ext autoreload\n",
        "# %autoreload 2"
      ]
    },
    {
      "cell_type": "code",
      "execution_count": 103,
      "metadata": {
        "colab": {
          "base_uri": "https://localhost:8080/"
        },
        "id": "ykgUfrNltSpV",
        "outputId": "33742032-13b0-491e-d43e-ea20b757d4a0"
      },
      "outputs": [
        {
          "name": "stdout",
          "output_type": "stream",
          "text": [
            " For n = 10 Fibonacci sequence is: [ 0  1  1  2  3  5  8 13 21 34]\n"
          ]
        }
      ],
      "source": [
        "import jax\n",
        "import jax.numpy as jnp\n",
        "from jax import lax\n",
        "import functools as ft\n",
        "\n",
        "# Function definition with jit, making n static\n",
        "@ft.partial(jax.jit, static_argnums=(0,))\n",
        "def fibonacci_sequence(n):\n",
        "  def f(carry, _):\n",
        "      a, b = carry\n",
        "      return (b, a + b), b\n",
        "\n",
        "  # Used jax.lax.scan here calculate the Fibonacci sequence\n",
        "  _, fibo_sequence = lax.scan(f, (jnp.float32(0), jnp.float32(1)), None, length= n-1)\n",
        "  return jnp.concatenate([jnp.array([0.], dtype=jnp.float32), fibo_sequence])\n",
        "\n",
        "\n",
        "n = 10  # Length of the Fibonacci sequence\n",
        "result = fibonacci_sequence(n)\n",
        "print(f\" For n = {n} Fibonacci sequence is: {jnp.int32(jnp.round(result))}\")\n"
      ]
    },
    {
      "cell_type": "code",
      "execution_count": 104,
      "metadata": {
        "colab": {
          "base_uri": "https://localhost:8080/"
        },
        "id": "4R7jTRRRItge",
        "outputId": "72fa26d7-a4b4-40d2-c46a-86dcd503c2aa"
      },
      "outputs": [
        {
          "name": "stdout",
          "output_type": "stream",
          "text": [
            "For n = 1, Fibonacci sequence is: [0]\n",
            "For n = 2, Fibonacci sequence is: [0 1]\n",
            "For n = 3, Fibonacci sequence is: [0 1 1]\n",
            "For n = 4, Fibonacci sequence is: [0 1 1 2]\n",
            "For n = 5, Fibonacci sequence is: [0 1 1 2 3]\n",
            "For n = 6, Fibonacci sequence is: [0 1 1 2 3 5]\n",
            "For n = 7, Fibonacci sequence is: [0 1 1 2 3 5 8]\n",
            "For n = 8, Fibonacci sequence is: [ 0  1  1  2  3  5  8 13]\n",
            "For n = 9, Fibonacci sequence is: [ 0  1  1  2  3  5  8 13 21]\n",
            "For n = 10, Fibonacci sequence is: [ 0  1  1  2  3  5  8 13 21 34]\n"
          ]
        }
      ],
      "source": [
        "# More demonstration below\n",
        "n = 10\n",
        "\n",
        "for i in range(1, n+1):\n",
        "  result = fibonacci_sequence(i)\n",
        "  int_result = jnp.int32(jnp.round(result))\n",
        "  print(f\"For n = {i}, Fibonacci sequence is: {int_result}\")"
      ]
    },
    {
      "cell_type": "markdown",
      "metadata": {
        "id": "GRLIYWwfnBCc"
      },
      "source": [
        "## Problem 4 - Feigenbaum Map\n",
        "\n",
        "Consider the function:\n",
        "\n",
        "$$\n",
        "f(x; r) = r x (1 - x)\n",
        "$$\n",
        "\n",
        "where $r$ is a parameter.\n",
        "One can define dynamics on the real line by iterating this function:\n",
        "\n",
        "$$\n",
        "x_{n+1} = f(x_n; r)\n",
        "$$\n",
        "\n",
        "where $x_n$ is the state at time $n$.\n",
        "\n",
        "This map exhibits a [period doubling cascade](https://en.wikipedia.org/wiki/Feigenbaum_constants) as $r$ increases.\n",
        "\n",
        "Write a function in `jax`, call it `logistic_map`, that takes a lot of $r$'s and $x_0$'s as inputs and returns the first $n$ states of the system.\n",
        "You should independently vectorize for the $r$'s and the $x_0$'s.\n",
        "And you should `jit`.\n",
        "Use `jax.lax.scan` to implement the iteration.\n",
        "\n",
        "**Answer:**"
      ]
    },
    {
      "cell_type": "markdown",
      "metadata": {
        "id": "nz1TAM6Ka0hh"
      },
      "source": [
        "I found a better article https://arpita95b.medium.com/feigenbaum-constant-60fe5e5b4c72"
      ]
    },
    {
      "cell_type": "code",
      "execution_count": 105,
      "metadata": {},
      "outputs": [
        {
          "name": "stderr",
          "output_type": "stream",
          "text": [
            "/home/alkai/miniconda3/lib/python3.12/pty.py:95: RuntimeWarning: os.fork() was called. os.fork() is incompatible with multithreaded code, and JAX is multithreaded, so this will likely lead to a deadlock.\n",
            "  pid, fd = os.forkpty()\n"
          ]
        },
        {
          "name": "stdout",
          "output_type": "stream",
          "text": [
            "Name: jax\n",
            "Version: 0.5.0\n",
            "Summary: Differentiate, compile, and transform Numpy code.\n",
            "Home-page: https://github.com/jax-ml/jax\n",
            "Author: JAX team\n",
            "Author-email: jax-dev@google.com\n",
            "License: Apache-2.0\n",
            "Location: /home/alkai/miniconda3/lib/python3.12/site-packages\n",
            "Requires: jaxlib, ml_dtypes, numpy, opt_einsum, scipy\n",
            "Required-by: chex, diffrax, equinox, lineax, optax, optimistix\n",
            "---\n",
            "Name: jaxlib\n",
            "Version: 0.5.0\n",
            "Summary: XLA library for JAX\n",
            "Home-page: https://github.com/jax-ml/jax\n",
            "Author: JAX team\n",
            "Author-email: jax-dev@google.com\n",
            "License: Apache-2.0\n",
            "Location: /home/alkai/miniconda3/lib/python3.12/site-packages\n",
            "Requires: ml-dtypes, numpy, scipy\n",
            "Required-by: chex, jax, optax\n"
          ]
        }
      ],
      "source": [
        "!pip show jax jaxlib"
      ]
    },
    {
      "cell_type": "code",
      "execution_count": 106,
      "metadata": {},
      "outputs": [],
      "source": [
        "# Install Cuda 12\n",
        "# !pip install --upgrade \"jax[cuda12]\" -f https://storage.googleapis.com/jax-releases/jax_cuda_releases.html\n"
      ]
    },
    {
      "cell_type": "code",
      "execution_count": 107,
      "metadata": {},
      "outputs": [
        {
          "name": "stdout",
          "output_type": "stream",
          "text": [
            "Sat Feb  1 23:07:18 2025       \n",
            "+-----------------------------------------------------------------------------------------+\n",
            "| NVIDIA-SMI 570.86.10              Driver Version: 570.86.10      CUDA Version: 12.8     |\n",
            "|-----------------------------------------+------------------------+----------------------+\n",
            "| GPU  Name                 Persistence-M | Bus-Id          Disp.A | Volatile Uncorr. ECC |\n",
            "| Fan  Temp   Perf          Pwr:Usage/Cap |           Memory-Usage | GPU-Util  Compute M. |\n",
            "|                                         |                        |               MIG M. |\n",
            "|=========================================+========================+======================|\n",
            "|   0  NVIDIA GeForce RTX 4070 ...    Off |   00000000:01:00.0  On |                  N/A |\n",
            "| N/A   45C    P0             15W /   80W |    6080MiB /   8188MiB |      5%      Default |\n",
            "|                                         |                        |                  N/A |\n",
            "+-----------------------------------------+------------------------+----------------------+\n",
            "                                                                                         \n",
            "+-----------------------------------------------------------------------------------------+\n",
            "| Processes:                                                                              |\n",
            "|  GPU   GI   CI              PID   Type   Process name                        GPU Memory |\n",
            "|        ID   ID                                                               Usage      |\n",
            "|=========================================================================================|\n",
            "|    0   N/A  N/A            2862      G   /usr/lib/xorg/Xorg                       53MiB |\n",
            "|    0   N/A  N/A            5241      C   ...e/alkai/miniconda3/bin/python       6000MiB |\n",
            "+-----------------------------------------------------------------------------------------+\n",
            "nvcc: NVIDIA (R) Cuda compiler driver\n",
            "Copyright (c) 2005-2025 NVIDIA Corporation\n",
            "Built on Wed_Jan_15_19:20:09_PST_2025\n",
            "Cuda compilation tools, release 12.8, V12.8.61\n",
            "Build cuda_12.8.r12.8/compiler.35404655_0\n"
          ]
        }
      ],
      "source": [
        "!nvidia-smi\n",
        "!nvcc --version\n"
      ]
    },
    {
      "cell_type": "code",
      "execution_count": 108,
      "metadata": {},
      "outputs": [],
      "source": [
        "# !pip install jax jaxlib==0.1.71+cuda110 -f https://storage.googleapis.com/jax-releases/jax_releases.html"
      ]
    },
    {
      "cell_type": "code",
      "execution_count": 109,
      "metadata": {},
      "outputs": [
        {
          "name": "stdout",
          "output_type": "stream",
          "text": [
            "GPU Device: cuda:0, CPU Device: TFRT_CPU_0\n"
          ]
        }
      ],
      "source": [
        "import jax\n",
        "gpu_device = jax.devices('gpu')[0]\n",
        "cpu_device = jax.devices('cpu')[0]\n",
        "print(f\"GPU Device: {gpu_device}, CPU Device: {cpu_device}\")"
      ]
    },
    {
      "cell_type": "code",
      "execution_count": 110,
      "metadata": {
        "id": "f031CLkRnBCc"
      },
      "outputs": [],
      "source": [
        "# Your code here - Demonstrate that it works\n",
        "import jax\n",
        "import jax.numpy as jnp\n",
        "from jax import lax, vmap\n",
        "import functools as ft\n",
        "\n",
        "gpu_device = jax.devices('gpu')[0]\n",
        "cpu_device = jax.devices('cpu')[0]\n",
        "\n",
        "@ft.partial(jax.jit, static_argnums=(2,), device=cpu_device)\n",
        "def logistic_map(rs, x0s, n):\n",
        "  def f(x, r):\n",
        "      result = r * x * (1 - x)\n",
        "      # jax.debug.print(\"f(x, r) -> r: {r}, x: {x}, result: {result}\", r=r, x=x, result=result) \n",
        "      return result\n",
        "\n",
        "  def scan(carry, _):\n",
        "      x, r = carry\n",
        "      next_x = f(x, r)\n",
        "      # jax.debug.print(\"step -> x: {x}, r: {r}, next_x: {next_x}\", x=x, r=r, next_x=next_x)\n",
        "      return (next_x, r), next_x\n",
        "\n",
        "  @vmap\n",
        "  def outer_vmap(r):\n",
        "    @vmap\n",
        "    def inner_vmap(x0):\n",
        "        _, track = jax.lax.scan(scan, (x0, r), None, length=n)\n",
        "        # jax.debug.print(\"inner_vmap -> r: {r}, x0: {x0}, track: {track}\", r=r, x0=x0, track=track[:5])\n",
        "\n",
        "        return track\n",
        "\n",
        "    return inner_vmap(x0s)\n",
        "    print(inner_vmap(x0s))\n",
        "\n",
        "  return outer_vmap(rs)\n",
        "  print(outer_vmap(rs))"
      ]
    },
    {
      "cell_type": "markdown",
      "metadata": {
        "id": "Nu5MfKXynBCc"
      },
      "source": [
        "Test your code here:"
      ]
    },
    {
      "cell_type": "code",
      "execution_count": 111,
      "metadata": {
        "id": "P502ItbRnBCc"
      },
      "outputs": [],
      "source": [
        "x0s = jnp.linspace(0, 1, 100)\n",
        "rs = jnp.linspace(0, 4, 1_000)\n",
        "n = 10_000\n",
        "data = logistic_map(rs, x0s, n)"
      ]
    },
    {
      "cell_type": "markdown",
      "metadata": {
        "id": "W3p2PX9UnBCc"
      },
      "source": [
        "Your shape should  be `(1000, 100, 10000)`:"
      ]
    },
    {
      "cell_type": "code",
      "execution_count": 112,
      "metadata": {
        "colab": {
          "base_uri": "https://localhost:8080/"
        },
        "id": "2PuUCEGZnBCc",
        "outputId": "655f20a2-3a46-4f9c-d920-5baa331584c9"
      },
      "outputs": [
        {
          "data": {
            "text/plain": [
              "(1000, 100, 10000)"
            ]
          },
          "execution_count": 112,
          "metadata": {},
          "output_type": "execute_result"
        }
      ],
      "source": [
        "data.shape"
      ]
    },
    {
      "cell_type": "markdown",
      "metadata": {
        "id": "V0TaBOZEnBCc"
      },
      "source": [
        "Discard all but the last iteration:"
      ]
    },
    {
      "cell_type": "code",
      "execution_count": 113,
      "metadata": {
        "colab": {
          "base_uri": "https://localhost:8080/"
        },
        "id": "HLSFGrmynBCc",
        "outputId": "3062f55b-9e61-4432-cd8a-ff44bcf9d30c"
      },
      "outputs": [
        {
          "data": {
            "text/plain": [
              "(1000, 100, 1)"
            ]
          },
          "execution_count": 113,
          "metadata": {},
          "output_type": "execute_result"
        }
      ],
      "source": [
        "data = data[:, :, -1:]\n",
        "data.shape"
      ]
    },
    {
      "cell_type": "markdown",
      "metadata": {
        "id": "9kcnin3mnBCc"
      },
      "source": [
        "Make the famous period doubling plot. The plot will take a while and it will take a lot of memory. I suggest you restart your kernel before moving to the next problem."
      ]
    },
    {
      "cell_type": "code",
      "execution_count": 114,
      "metadata": {
        "colab": {
          "base_uri": "https://localhost:8080/",
          "height": 431
        },
        "id": "HOpxgOacnBCc",
        "outputId": "7812db1f-b573-4317-bc3e-497f836ad243"
      },
      "outputs": [
        {
          "data": {
            "image/png": "[encoded data removed]",
            "text/plain": [
              "<Figure size 640x480 with 1 Axes>"
            ]
          },
          "metadata": {},
          "output_type": "display_data"
        }
      ],
      "source": [
        "fig, ax = plt.subplots()\n",
        "ax.plot(rs,\n",
        "        data.reshape(data.shape[0], data.shape[1] * data.shape[2]),\n",
        "        '.k',\n",
        "        ms=0.1,\n",
        "        alpha=0.5\n",
        ");"
      ]
    },
    {
      "cell_type": "markdown",
      "metadata": {
        "id": "GETJRQg5nBCc"
      },
      "source": [
        "## Problem 5 - Implement autoencoders in `jax`, `equinox`, and `optax`\n",
        "\n",
        "Implement [autoencoders](https://en.wikipedia.org/wiki/Autoencoder) in `jax` and train it on the MNIST dataset.\n",
        "Autoencoders, consist of two neural networks, an encoder and a decoder. The encoder maps the input to a latent space (typically of a much smaller dimension than the input), and the decoder maps the latent space back to the input space.\n",
        "You can think of the encoder as a compression algorithm and the decoder as a decompression algorithm.\n",
        "Alternatively, you can think of the encoder as the projection of the input data onto a lower-dimensional manifold, and the decoder as the reconstruction operator.\n",
        "\n",
        "### Part A\n",
        "Follow these directions:\n",
        "+ Pick the dimension of the latent space to be 2. This means that the encoder will map the input to a 2-dimensional space, and the decoder will map the 2-dimensional space back to the input space.\n",
        "+ Your encoder should work on a flattened version of the input image. This means that the input to the encoder is a vector of 784 elements (28x28).\n",
        "+ Start by picking your encoder $z = f(x;\\theta_f)$ to be a neural network with 2 hidden layers, each with 128 units and ReLU activations. Increase the number of units and layers if you think it is necessary.\n",
        "+ Start by picking your decoder $x' = g(z;\\theta_g)$ to be a neural network with 2 hidden layers, each with 128 units and ReLU activations. Increase the number of units and layers if you think it is necessary.\n",
        "+ Make all your neural networks in `equinox`.\n",
        "+ The loss function is the mean squared error between the input and the output of the decoder:\n",
        "\n",
        "$$\n",
        "\\mathcal{L} = \\frac{1}{N}\\sum_{i=1}^N ||x_i - g(f(x_i;\\theta_f);\\theta_g)||^2.\n",
        "$$\n",
        "\n",
        "where $N$ is the number of samples in the dataset.\n",
        "+ Split the MNIST dataset into a training and a test set.\n",
        "+ Use `optax` for the optimization.\n",
        "+ Train the autoencoder using the Adam optimizer with a learning rate of 0.001 for 1 epoch to debug. Use a batch size of 32. Feel free to play with the learning rate and batch size.\n",
        "+ Monitor the loss function on the training and test set. Increase the number of epochs up to the point where the loss function on the test set stops decreasing.\n",
        "\n",
        "Here is the dataset:"
      ]
    },
    {
      "cell_type": "code",
      "execution_count": 115,
      "metadata": {},
      "outputs": [],
      "source": [
        "# !pip install scikit-learn\n",
        "# !pip install torch\n",
        "# !pip install optax\n",
        "# !pip install torchvision"
      ]
    },
    {
      "cell_type": "code",
      "execution_count": 116,
      "metadata": {
        "id": "Stkoc3gFnBCc"
      },
      "outputs": [],
      "source": [
        "# Download the MNIST dataset\n",
        "from sklearn.datasets import fetch_openml\n",
        "import torch\n",
        "\n",
        "mnist = fetch_openml('mnist_784', version=1, parser='auto')\n",
        "\n",
        "# Split the dataset into training and test sets\n",
        "from sklearn.model_selection import train_test_split\n",
        "\n",
        "X_train_val, X_test, y_train_val, y_test = train_test_split(\n",
        "    mnist.data, mnist.target, test_size=10000, random_state=42)\n",
        "\n",
        "X_train, X_val, y_train, y_val = train_test_split(\n",
        "    X_train_val, y_train_val, test_size=10000, random_state=42)\n"
      ]
    },
    {
      "cell_type": "markdown",
      "metadata": {
        "id": "wseYfzP7nBCc"
      },
      "source": [
        "**Answer:**\n",
        "\n",
        "*Put your answer here. Use as many markdown and code blocks as you want.*"
      ]
    },
    {
      "cell_type": "code",
      "execution_count": 117,
      "metadata": {
        "id": "YR0oQYrWLQ4R"
      },
      "outputs": [],
      "source": [
        "# Import libraries\n",
        "import jax\n",
        "import jax.numpy as jnp\n",
        "from jax import lax, vmap\n",
        "import equinox as eqx\n",
        "import optax\n",
        "from sklearn.datasets import fetch_openml\n",
        "from sklearn.model_selection import train_test_split\n",
        "from sklearn.preprocessing import StandardScaler\n",
        "import numpy as np\n",
        "from tqdm import tqdm\n",
        "from torch.utils.data import Dataset, DataLoader\n",
        "from torchvision import transforms\n",
        "import jax.random as jrandom\n",
        "from sklearn.mixture import GaussianMixture"
      ]
    },
    {
      "cell_type": "markdown",
      "metadata": {},
      "source": [
        "Defined hyperparameters"
      ]
    },
    {
      "cell_type": "code",
      "execution_count": 118,
      "metadata": {},
      "outputs": [],
      "source": [
        "# Define Hyperparameters\n",
        "LEARNING_RATE = 1e-3\n",
        "NUM_EPOCHS = 200 # epoch to debug\n",
        "SEED = 42\n",
        "BATCH_SIZE = 64\n",
        "key = jrandom.PRNGKey(SEED)"
      ]
    },
    {
      "cell_type": "markdown",
      "metadata": {
        "id": "NMQi68b0zP0L"
      },
      "source": [
        "Convert to Dataloader, transform and normalize (sources https://docs.kidger.site/equinox/examples/mnist/ and https://predictivesciencelab.github.io/advanced-scientific-machine-learning/ml-software/optimization/09_gpu_training.html )"
      ]
    },
    {
      "cell_type": "code",
      "execution_count": 119,
      "metadata": {
        "id": "zI5APUfkfAWB"
      },
      "outputs": [
        {
          "name": "stdout",
          "output_type": "stream",
          "text": [
            "torch.Size([1, 28, 28])\n"
          ]
        },
        {
          "data": {
            "image/png": "[encoded data removed]",
            "text/plain": [
              "<Figure size 1000x200 with 5 Axes>"
            ]
          },
          "metadata": {},
          "output_type": "display_data"
        }
      ],
      "source": [
        "# Convert data to torch tensors and normalize\n",
        "X_train = torch.tensor(X_train.values, dtype=torch.float32) / 255.0\n",
        "X_val = torch.tensor(X_val.values, dtype=torch.float32) / 255.0\n",
        "X_test = torch.tensor(X_test.values, dtype=torch.float32) / 255.0\n",
        "y_train = torch.tensor(y_train.astype(int).values, dtype=torch.long)\n",
        "y_val = torch.tensor(y_val.astype(int).values, dtype=torch.long)\n",
        "y_test = torch.tensor(y_test.astype(int).values, dtype=torch.long)\n",
        "\n",
        "# Create a custom Dataset class for MNIST\n",
        "class MNISTDataset(Dataset):\n",
        "    def __init__(self, X, y, transform=None):\n",
        "        self.X = X\n",
        "        self.y = y\n",
        "        self.transform = transform\n",
        "\n",
        "    def __len__(self):\n",
        "        return len(self.X)\n",
        "\n",
        "    def __getitem__(self, idx):\n",
        "        image = self.X[idx].view(28, 28)\n",
        "        label = self.y[idx]\n",
        "\n",
        "        if self.transform:\n",
        "            image = self.transform(image)\n",
        "\n",
        "        return image, label\n",
        "\n",
        "# Define  transformations\n",
        "transform = transforms.Compose([\n",
        "    transforms.ToPILImage(),\n",
        "    transforms.Resize((28, 28)),\n",
        "    transforms.ToTensor(),\n",
        "])\n",
        "\n",
        "# Create DataLoader instances for training, validation, and testing\n",
        "train_dataset = MNISTDataset(X_train, y_train, transform=transform)\n",
        "val_dataset = MNISTDataset(X_val, y_val, transform=transform)\n",
        "test_dataset = MNISTDataset(X_test, y_test, transform=transform)\n",
        "\n",
        "train_loader = DataLoader(train_dataset, batch_size=BATCH_SIZE, shuffle=True)\n",
        "val_loader = DataLoader(val_dataset, batch_size=BATCH_SIZE, shuffle=False)\n",
        "test_loader = DataLoader(test_dataset, batch_size=BATCH_SIZE, shuffle=False)\n",
        "\n",
        "\n",
        "for data, labels in train_dataset:\n",
        "    print(data.shape)  # Shape of the data in the first batch\n",
        "    break\n",
        "\n",
        "# Plot and vizualize dataset\n",
        "def show_images(images, labels):\n",
        "    ncols = len(labels)\n",
        "    nrows = int(np.ceil(len(images) / ncols))\n",
        "    fig, axes = plt.subplots(nrows, ncols, figsize=(ncols * 2, nrows * 2))\n",
        "    for ax in axes.ravel():\n",
        "        ax.axis(\"off\")\n",
        "    for ax, image, label in zip(axes.ravel(), images, labels):\n",
        "        ax.imshow(image.squeeze(), cmap=\"gray\")\n",
        "        ax.set_title(int(label))\n",
        "    plt.tight_layout()\n",
        "\n",
        "# Select 5 random images and vizualize\n",
        "k = 5\n",
        "images, labels = next(iter(train_loader))\n",
        "images = images[:k]\n",
        "labels = labels[:k]\n",
        "\n",
        "# Visualize the images\n",
        "show_images(images, labels)"
      ]
    },
    {
      "cell_type": "markdown",
      "metadata": {},
      "source": [
        "Create the model"
      ]
    },
    {
      "cell_type": "code",
      "execution_count": 120,
      "metadata": {
        "id": "nr72SPoMnBCc"
      },
      "outputs": [],
      "source": [
        "# Define the encoder z=f(x;θf)  to be a neural network with 2 hidden layers, each with 128 units and ReLU activations.\n",
        "class Encoder(eqx.Module):\n",
        "    layers: list\n",
        "\n",
        "    def __init__(self, key):\n",
        "        key1, key2, key3 = jax.random.split(key, 3)\n",
        "        self.layers = [\n",
        "            eqx.nn.Linear(784, 128, key=key1),\n",
        "            eqx.nn.Linear(128, 128, key=key2),\n",
        "            eqx.nn.Linear(128, 2, key=key3),\n",
        "        ]\n",
        "\n",
        "    def __call__(self, x):\n",
        "        x = self.layers[0](x)\n",
        "        for layer in self.layers[1:]:\n",
        "            x = jax.nn.relu(layer(x))\n",
        "        return x\n",
        "\n",
        "# Define the decoder x′=g(z;θg)  to be a neural network with 2 hidden layers, each with 128 units and ReLU activations.\n",
        "class Decoder(eqx.Module):\n",
        "    layers: list\n",
        "\n",
        "    def __init__(self, key):\n",
        "        key1, key2, key3 = jax.random.split(key, 3)\n",
        "        self.layers = [\n",
        "            eqx.nn.Linear(2, 128, key=key1),\n",
        "            eqx.nn.Linear(128, 128, key=key2),\n",
        "            eqx.nn.Linear(128, 784, key=key3),\n",
        "        ]\n",
        "\n",
        "    def __call__(self, z):\n",
        "        for layer in self.layers[:-1]:\n",
        "            z = jax.nn.relu(layer(z))\n",
        "        return self.layers[-1](z)\n",
        "\n",
        "## Main model function\n",
        "class Autoencoder(eqx.Module):\n",
        "    encoder: Encoder\n",
        "    decoder: Decoder\n",
        "\n",
        "    def __init__(self, x):\n",
        "        key1, key2 = jax.random.split(key, 2)\n",
        "        self.encoder = Encoder(key)\n",
        "        self.decoder = Decoder(key)\n",
        "\n",
        "    def __call__(self, x):\n",
        "        z = self.encoder(x)\n",
        "        x_recon = self.decoder(z)\n",
        "        return x_recon\n",
        "\n",
        "# Initialize the model\n",
        "model = Autoencoder(key)"
      ]
    },
    {
      "cell_type": "markdown",
      "metadata": {
        "id": "hfZ4_VdqketC"
      },
      "source": [
        "Define MSE loss and Adam optimizer"
      ]
    },
    {
      "cell_type": "code",
      "execution_count": 121,
      "metadata": {
        "id": "8XV08VViYiBA"
      },
      "outputs": [],
      "source": [
        "# Loss function is the mean squared error between the input and the output of the decoder\n",
        "@eqx.filter_jit\n",
        "def mse_loss(model, x):\n",
        "    z = vmap(model.encoder)(x)\n",
        "    x_recon = vmap(model.decoder)(z)\n",
        "    return jnp.mean(jnp.sum((x - x_recon) ** 2, axis=1))\n",
        "\n",
        "\n",
        "# optimizer using optax done!\n",
        "optim = optax.adamw(LEARNING_RATE)"
      ]
    },
    {
      "cell_type": "markdown",
      "metadata": {
        "id": "4-Y6X_yAl5LX"
      },
      "source": [
        "Evaluate loss"
      ]
    },
    {
      "cell_type": "code",
      "execution_count": 122,
      "metadata": {
        "id": "2t77RGBkags6"
      },
      "outputs": [],
      "source": [
        "# Define function to update the model losses\n",
        "def evaluate(model,test_data):\n",
        "    avg_loss = 0\n",
        "\n",
        "    for x, y in test_loader:\n",
        "        x = x.numpy()\n",
        "        x = x.reshape(x.shape[0], -1)\n",
        "        avg_loss += mse_loss(model, x)\n",
        "    return avg_loss / len(test_data)"
      ]
    },
    {
      "cell_type": "markdown",
      "metadata": {},
      "source": [
        "Define Training loop"
      ]
    },
    {
      "cell_type": "code",
      "execution_count": 123,
      "metadata": {},
      "outputs": [],
      "source": [
        "# Define main training loop\n",
        "import time\n",
        "\n",
        "def train(model, train_loader, test_loader, optim, num_epochs, batch_size):\n",
        "    opt_state = optim.init(eqx.filter(model, eqx.is_array))\n",
        "\n",
        "    # Lists to store the losses\n",
        "    epoch_train_losses = []\n",
        "    epoch_test_losses = []\n",
        "\n",
        "    @eqx.filter_jit\n",
        "    def make_step(model, opt_state, x):\n",
        "        loss_value, grads = eqx.filter_value_and_grad(mse_loss)(model, x)\n",
        "        updates, opt_state = optim.update(grads, opt_state, model)\n",
        "        model = eqx.apply_updates(model, updates)\n",
        "        return model, opt_state, loss_value\n",
        "    \n",
        "    # Overall training time\n",
        "    start_time = time.time()\n",
        "    \n",
        "    # Training loop with tqdm\n",
        "    for epoch in range(num_epochs):\n",
        "        epoch_start_time = time.time()\n",
        "        epoch_train_loss = 0\n",
        "        with tqdm(total=len(train_loader), desc=f\"Epoch {epoch+1}/{num_epochs}\", unit=\"batch\") as pbar:\n",
        "            for step, (x, y) in enumerate(train_loader):\n",
        "\n",
        "                x = x.numpy()\n",
        "                x = x.reshape(x.shape[0], -1)  # Flatten the images\n",
        "\n",
        "                model = eqx.nn.inference_mode(model, value=False)\n",
        "                model, opt_state, batch_loss = make_step(model, opt_state, x)\n",
        "\n",
        "                epoch_train_loss += batch_loss  \n",
        "\n",
        "                pbar.set_postfix(batch_loss=f\"{batch_loss:.4f}\")\n",
        "                pbar.update(1)\n",
        "\n",
        "        # Compute average loss for the epoch\n",
        "        epoch_train_loss /= len(train_loader)\n",
        "        epoch_train_losses.append(epoch_train_loss)\n",
        "\n",
        "        # Evaluate on the test set\n",
        "        model = eqx.nn.inference_mode(model, value=True)\n",
        "        test_loss = evaluate(model, test_loader)\n",
        "        epoch_test_losses.append(test_loss)\n",
        "        \n",
        "        \n",
        "        epoch_end_time = time.time()\n",
        "        epoch_duration = epoch_end_time - epoch_start_time\n",
        "\n",
        "        # Print epoch losses\n",
        "        print(f\"Epoch {epoch+1}/{num_epochs}: Train Loss = {epoch_train_loss:.4f}, Test Loss = {test_loss:.4f}\")\\\n",
        "    # Overall training time\n",
        "    total_training_time = time.time() - start_time\n",
        "    print(f\"\\nTotal Training Time: {total_training_time:.2f} seconds\")\n",
        "    \n",
        "    # Plot the loss curve after training\n",
        "    plt.figure(figsize=(10, 6))\n",
        "    plt.plot(range(1, num_epochs+1), epoch_train_losses, label=\"Training Loss\", color='blue')\n",
        "    plt.plot(range(1, num_epochs+1), epoch_test_losses, label=\"Test Loss\", color='red')\n",
        "    plt.xlabel('Epochs')\n",
        "    plt.ylabel('Loss')\n",
        "    plt.title('Epoch vs. Loss')\n",
        "    plt.legend()\n",
        "    plt.grid(True)\n",
        "    plt.show()\n",
        "    return model"
      ]
    },
    {
      "cell_type": "markdown",
      "metadata": {},
      "source": [
        "Moving model to either CPU or GPU (https://predictivesciencelab.github.io/advanced-scientific-machine-learning/ml-software/optimization/09_gpu_training.html)."
      ]
    },
    {
      "cell_type": "code",
      "execution_count": 124,
      "metadata": {
        "colab": {
          "base_uri": "https://localhost:8080/"
        },
        "id": "LK96K_GRrB5q",
        "outputId": "3bc48e07-af05-40f0-fd98-70682778beeb"
      },
      "outputs": [
        {
          "name": "stdout",
          "output_type": "stream",
          "text": [
            "The model is on GPU: cuda:0\n"
          ]
        }
      ],
      "source": [
        "# Check if GPU is available\n",
        "is_gpu_avail = len(jax.devices('gpu')) > 0\n",
        "\n",
        "# Helper functions for committing JAX arrays to a GPU or CPU\n",
        "trained_model_cpu = lambda x: jax.device_put(x, jax.devices('cpu')[0]) if isinstance(x, jax.Array) else x\n",
        "trained_model_gpu = lambda x: jax.device_put(x, jax.devices('gpu')[0]) if isinstance(x, jax.Array) else x\n",
        "\n",
        "# Define functions to transfer model to CPU or GPU\n",
        "def commit_model_to_device(model, is_gpu_avail):\n",
        "    if is_gpu_avail:\n",
        "        model = jax.tree.map(trained_model_gpu, model)\n",
        "    else:\n",
        "        model = jax.tree.map(trained_model_cpu, model)\n",
        "    return model\n",
        "\n",
        "# Commit model to appropriate device (CPU or GPU)\n",
        "model = commit_model_to_device(model, is_gpu_avail)\n",
        "\n",
        "# Print where the model is located\n",
        "if is_gpu_avail:\n",
        "    print('The model is on GPU:', jax.devices('gpu')[0])\n",
        "else:\n",
        "    print('The model is on CPU:', jax.devices('cpu')[0])"
      ]
    },
    {
      "cell_type": "markdown",
      "metadata": {
        "id": "2Y3IqFnaLZ2M"
      },
      "source": [
        "Let me training begin!"
      ]
    },
    {
      "cell_type": "code",
      "execution_count": 125,
      "metadata": {
        "colab": {
          "base_uri": "https://localhost:8080/"
        },
        "id": "0Gco-ylxspyX",
        "outputId": "73c0ac83-e879-4234-b5bd-2e64fa5f45aa"
      },
      "outputs": [
        {
          "name": "stdout",
          "output_type": "stream",
          "text": [
            "Begin training\n"
          ]
        },
        {
          "name": "stderr",
          "output_type": "stream",
          "text": [
            "Epoch 1/200: 100%|██████████| 782/782 [00:13<00:00, 56.95batch/s, batch_loss=45.5358] \n"
          ]
        },
        {
          "name": "stdout",
          "output_type": "stream",
          "text": [
            "Epoch 1/200: Train Loss = 43.2514, Test Loss = 38.3500\n"
          ]
        },
        {
          "name": "stderr",
          "output_type": "stream",
          "text": [
            "Epoch 2/200: 100%|██████████| 782/782 [00:05<00:00, 133.26batch/s, batch_loss=41.1727]\n"
          ]
        },
        {
          "name": "stdout",
          "output_type": "stream",
          "text": [
            "Epoch 2/200: Train Loss = 37.0030, Test Loss = 35.8383\n"
          ]
        },
        {
          "name": "stderr",
          "output_type": "stream",
          "text": [
            "Epoch 3/200: 100%|██████████| 782/782 [00:05<00:00, 138.85batch/s, batch_loss=33.2965]\n"
          ]
        },
        {
          "name": "stdout",
          "output_type": "stream",
          "text": [
            "Epoch 3/200: Train Loss = 35.2650, Test Loss = 34.5413\n"
          ]
        },
        {
          "name": "stderr",
          "output_type": "stream",
          "text": [
            "Epoch 4/200: 100%|██████████| 782/782 [00:05<00:00, 137.76batch/s, batch_loss=33.6847]\n"
          ]
        },
        {
          "name": "stdout",
          "output_type": "stream",
          "text": [
            "Epoch 4/200: Train Loss = 34.3241, Test Loss = 33.9509\n"
          ]
        },
        {
          "name": "stderr",
          "output_type": "stream",
          "text": [
            "Epoch 5/200: 100%|██████████| 782/782 [00:05<00:00, 140.99batch/s, batch_loss=37.1772]\n"
          ]
        },
        {
          "name": "stdout",
          "output_type": "stream",
          "text": [
            "Epoch 5/200: Train Loss = 33.7083, Test Loss = 33.7620\n"
          ]
        },
        {
          "name": "stderr",
          "output_type": "stream",
          "text": [
            "Epoch 6/200: 100%|██████████| 782/782 [00:05<00:00, 134.71batch/s, batch_loss=28.9542]\n"
          ]
        },
        {
          "name": "stdout",
          "output_type": "stream",
          "text": [
            "Epoch 6/200: Train Loss = 33.2768, Test Loss = 33.1029\n"
          ]
        },
        {
          "name": "stderr",
          "output_type": "stream",
          "text": [
            "Epoch 7/200: 100%|██████████| 782/782 [00:05<00:00, 140.51batch/s, batch_loss=32.8363]\n"
          ]
        },
        {
          "name": "stdout",
          "output_type": "stream",
          "text": [
            "Epoch 7/200: Train Loss = 32.8980, Test Loss = 33.0585\n"
          ]
        },
        {
          "name": "stderr",
          "output_type": "stream",
          "text": [
            "Epoch 8/200: 100%|██████████| 782/782 [00:05<00:00, 135.68batch/s, batch_loss=27.2843]\n"
          ]
        },
        {
          "name": "stdout",
          "output_type": "stream",
          "text": [
            "Epoch 8/200: Train Loss = 32.6082, Test Loss = 32.5232\n"
          ]
        },
        {
          "name": "stderr",
          "output_type": "stream",
          "text": [
            "Epoch 9/200: 100%|██████████| 782/782 [00:05<00:00, 136.15batch/s, batch_loss=30.9835]\n"
          ]
        },
        {
          "name": "stdout",
          "output_type": "stream",
          "text": [
            "Epoch 9/200: Train Loss = 32.3559, Test Loss = 32.2396\n"
          ]
        },
        {
          "name": "stderr",
          "output_type": "stream",
          "text": [
            "Epoch 10/200: 100%|██████████| 782/782 [00:05<00:00, 143.82batch/s, batch_loss=34.8540]\n"
          ]
        },
        {
          "name": "stdout",
          "output_type": "stream",
          "text": [
            "Epoch 10/200: Train Loss = 32.1304, Test Loss = 32.1936\n"
          ]
        },
        {
          "name": "stderr",
          "output_type": "stream",
          "text": [
            "Epoch 11/200: 100%|██████████| 782/782 [00:05<00:00, 144.29batch/s, batch_loss=31.0339]\n"
          ]
        },
        {
          "name": "stdout",
          "output_type": "stream",
          "text": [
            "Epoch 11/200: Train Loss = 31.9272, Test Loss = 32.1884\n"
          ]
        },
        {
          "name": "stderr",
          "output_type": "stream",
          "text": [
            "Epoch 12/200: 100%|██████████| 782/782 [00:05<00:00, 145.89batch/s, batch_loss=35.4398]\n"
          ]
        },
        {
          "name": "stdout",
          "output_type": "stream",
          "text": [
            "Epoch 12/200: Train Loss = 31.7725, Test Loss = 32.1384\n"
          ]
        },
        {
          "name": "stderr",
          "output_type": "stream",
          "text": [
            "Epoch 13/200: 100%|██████████| 782/782 [00:05<00:00, 146.03batch/s, batch_loss=26.7362]\n"
          ]
        },
        {
          "name": "stdout",
          "output_type": "stream",
          "text": [
            "Epoch 13/200: Train Loss = 31.6178, Test Loss = 31.8297\n"
          ]
        },
        {
          "name": "stderr",
          "output_type": "stream",
          "text": [
            "Epoch 14/200: 100%|██████████| 782/782 [00:05<00:00, 139.99batch/s, batch_loss=28.5764]\n"
          ]
        },
        {
          "name": "stdout",
          "output_type": "stream",
          "text": [
            "Epoch 14/200: Train Loss = 31.5436, Test Loss = 31.4307\n"
          ]
        },
        {
          "name": "stderr",
          "output_type": "stream",
          "text": [
            "Epoch 15/200: 100%|██████████| 782/782 [00:05<00:00, 143.90batch/s, batch_loss=31.6719]\n"
          ]
        },
        {
          "name": "stdout",
          "output_type": "stream",
          "text": [
            "Epoch 15/200: Train Loss = 31.3995, Test Loss = 31.7305\n"
          ]
        },
        {
          "name": "stderr",
          "output_type": "stream",
          "text": [
            "Epoch 16/200: 100%|██████████| 782/782 [00:05<00:00, 145.85batch/s, batch_loss=34.1299]\n"
          ]
        },
        {
          "name": "stdout",
          "output_type": "stream",
          "text": [
            "Epoch 16/200: Train Loss = 31.2556, Test Loss = 31.1610\n"
          ]
        },
        {
          "name": "stderr",
          "output_type": "stream",
          "text": [
            "Epoch 17/200: 100%|██████████| 782/782 [00:05<00:00, 145.04batch/s, batch_loss=29.0747]\n"
          ]
        },
        {
          "name": "stdout",
          "output_type": "stream",
          "text": [
            "Epoch 17/200: Train Loss = 31.2436, Test Loss = 31.4481\n"
          ]
        },
        {
          "name": "stderr",
          "output_type": "stream",
          "text": [
            "Epoch 18/200: 100%|██████████| 782/782 [00:05<00:00, 145.82batch/s, batch_loss=37.6956]\n"
          ]
        },
        {
          "name": "stdout",
          "output_type": "stream",
          "text": [
            "Epoch 18/200: Train Loss = 31.0963, Test Loss = 31.1526\n"
          ]
        },
        {
          "name": "stderr",
          "output_type": "stream",
          "text": [
            "Epoch 19/200: 100%|██████████| 782/782 [00:05<00:00, 144.15batch/s, batch_loss=34.3038]\n"
          ]
        },
        {
          "name": "stdout",
          "output_type": "stream",
          "text": [
            "Epoch 19/200: Train Loss = 31.0161, Test Loss = 31.0934\n"
          ]
        },
        {
          "name": "stderr",
          "output_type": "stream",
          "text": [
            "Epoch 20/200: 100%|██████████| 782/782 [00:05<00:00, 144.14batch/s, batch_loss=35.0181]\n"
          ]
        },
        {
          "name": "stdout",
          "output_type": "stream",
          "text": [
            "Epoch 20/200: Train Loss = 30.8597, Test Loss = 30.9538\n"
          ]
        },
        {
          "name": "stderr",
          "output_type": "stream",
          "text": [
            "Epoch 21/200: 100%|██████████| 782/782 [00:05<00:00, 144.32batch/s, batch_loss=31.4349]\n"
          ]
        },
        {
          "name": "stdout",
          "output_type": "stream",
          "text": [
            "Epoch 21/200: Train Loss = 30.8695, Test Loss = 31.2485\n"
          ]
        },
        {
          "name": "stderr",
          "output_type": "stream",
          "text": [
            "Epoch 22/200: 100%|██████████| 782/782 [00:05<00:00, 146.06batch/s, batch_loss=31.7834]\n"
          ]
        },
        {
          "name": "stdout",
          "output_type": "stream",
          "text": [
            "Epoch 22/200: Train Loss = 30.8528, Test Loss = 30.9702\n"
          ]
        },
        {
          "name": "stderr",
          "output_type": "stream",
          "text": [
            "Epoch 23/200: 100%|██████████| 782/782 [00:05<00:00, 144.70batch/s, batch_loss=33.4618]\n"
          ]
        },
        {
          "name": "stdout",
          "output_type": "stream",
          "text": [
            "Epoch 23/200: Train Loss = 30.7424, Test Loss = 31.1733\n"
          ]
        },
        {
          "name": "stderr",
          "output_type": "stream",
          "text": [
            "Epoch 24/200: 100%|██████████| 782/782 [00:05<00:00, 135.88batch/s, batch_loss=28.8187]\n"
          ]
        },
        {
          "name": "stdout",
          "output_type": "stream",
          "text": [
            "Epoch 24/200: Train Loss = 30.7609, Test Loss = 30.9207\n"
          ]
        },
        {
          "name": "stderr",
          "output_type": "stream",
          "text": [
            "Epoch 25/200: 100%|██████████| 782/782 [00:05<00:00, 139.95batch/s, batch_loss=28.4342]\n"
          ]
        },
        {
          "name": "stdout",
          "output_type": "stream",
          "text": [
            "Epoch 25/200: Train Loss = 30.6750, Test Loss = 30.8098\n"
          ]
        },
        {
          "name": "stderr",
          "output_type": "stream",
          "text": [
            "Epoch 26/200: 100%|██████████| 782/782 [00:05<00:00, 140.31batch/s, batch_loss=34.8952]\n"
          ]
        },
        {
          "name": "stdout",
          "output_type": "stream",
          "text": [
            "Epoch 26/200: Train Loss = 30.5579, Test Loss = 30.6853\n"
          ]
        },
        {
          "name": "stderr",
          "output_type": "stream",
          "text": [
            "Epoch 27/200: 100%|██████████| 782/782 [00:05<00:00, 140.30batch/s, batch_loss=24.8982]\n"
          ]
        },
        {
          "name": "stdout",
          "output_type": "stream",
          "text": [
            "Epoch 27/200: Train Loss = 30.5157, Test Loss = 30.9207\n"
          ]
        },
        {
          "name": "stderr",
          "output_type": "stream",
          "text": [
            "Epoch 28/200: 100%|██████████| 782/782 [00:05<00:00, 139.39batch/s, batch_loss=34.9245]\n"
          ]
        },
        {
          "name": "stdout",
          "output_type": "stream",
          "text": [
            "Epoch 28/200: Train Loss = 30.5462, Test Loss = 30.5785\n"
          ]
        },
        {
          "name": "stderr",
          "output_type": "stream",
          "text": [
            "Epoch 29/200: 100%|██████████| 782/782 [00:05<00:00, 137.77batch/s, batch_loss=33.3360]\n"
          ]
        },
        {
          "name": "stdout",
          "output_type": "stream",
          "text": [
            "Epoch 29/200: Train Loss = 30.4458, Test Loss = 30.6131\n"
          ]
        },
        {
          "name": "stderr",
          "output_type": "stream",
          "text": [
            "Epoch 30/200: 100%|██████████| 782/782 [00:05<00:00, 142.38batch/s, batch_loss=26.3633]\n"
          ]
        },
        {
          "name": "stdout",
          "output_type": "stream",
          "text": [
            "Epoch 30/200: Train Loss = 30.3915, Test Loss = 30.5372\n"
          ]
        },
        {
          "name": "stderr",
          "output_type": "stream",
          "text": [
            "Epoch 31/200: 100%|██████████| 782/782 [00:05<00:00, 140.18batch/s, batch_loss=22.7220]\n"
          ]
        },
        {
          "name": "stdout",
          "output_type": "stream",
          "text": [
            "Epoch 31/200: Train Loss = 30.3134, Test Loss = 30.4458\n"
          ]
        },
        {
          "name": "stderr",
          "output_type": "stream",
          "text": [
            "Epoch 32/200: 100%|██████████| 782/782 [00:05<00:00, 141.26batch/s, batch_loss=32.0317]\n"
          ]
        },
        {
          "name": "stdout",
          "output_type": "stream",
          "text": [
            "Epoch 32/200: Train Loss = 30.3770, Test Loss = 30.5983\n"
          ]
        },
        {
          "name": "stderr",
          "output_type": "stream",
          "text": [
            "Epoch 33/200: 100%|██████████| 782/782 [00:05<00:00, 142.77batch/s, batch_loss=31.1699]\n"
          ]
        },
        {
          "name": "stdout",
          "output_type": "stream",
          "text": [
            "Epoch 33/200: Train Loss = 30.2725, Test Loss = 30.6496\n"
          ]
        },
        {
          "name": "stderr",
          "output_type": "stream",
          "text": [
            "Epoch 34/200: 100%|██████████| 782/782 [00:05<00:00, 143.10batch/s, batch_loss=25.5798]\n"
          ]
        },
        {
          "name": "stdout",
          "output_type": "stream",
          "text": [
            "Epoch 34/200: Train Loss = 30.1914, Test Loss = 30.4208\n"
          ]
        },
        {
          "name": "stderr",
          "output_type": "stream",
          "text": [
            "Epoch 35/200: 100%|██████████| 782/782 [00:05<00:00, 142.68batch/s, batch_loss=24.3474]\n"
          ]
        },
        {
          "name": "stdout",
          "output_type": "stream",
          "text": [
            "Epoch 35/200: Train Loss = 30.1373, Test Loss = 30.6582\n"
          ]
        },
        {
          "name": "stderr",
          "output_type": "stream",
          "text": [
            "Epoch 36/200: 100%|██████████| 782/782 [00:05<00:00, 140.23batch/s, batch_loss=38.2060]\n"
          ]
        },
        {
          "name": "stdout",
          "output_type": "stream",
          "text": [
            "Epoch 36/200: Train Loss = 30.1753, Test Loss = 30.5635\n"
          ]
        },
        {
          "name": "stderr",
          "output_type": "stream",
          "text": [
            "Epoch 37/200: 100%|██████████| 782/782 [00:05<00:00, 139.19batch/s, batch_loss=27.9168]\n"
          ]
        },
        {
          "name": "stdout",
          "output_type": "stream",
          "text": [
            "Epoch 37/200: Train Loss = 30.1581, Test Loss = 30.5046\n"
          ]
        },
        {
          "name": "stderr",
          "output_type": "stream",
          "text": [
            "Epoch 38/200: 100%|██████████| 782/782 [00:05<00:00, 133.60batch/s, batch_loss=29.5436]\n"
          ]
        },
        {
          "name": "stdout",
          "output_type": "stream",
          "text": [
            "Epoch 38/200: Train Loss = 30.0967, Test Loss = 30.4719\n"
          ]
        },
        {
          "name": "stderr",
          "output_type": "stream",
          "text": [
            "Epoch 39/200: 100%|██████████| 782/782 [00:05<00:00, 139.19batch/s, batch_loss=28.3098]\n"
          ]
        },
        {
          "name": "stdout",
          "output_type": "stream",
          "text": [
            "Epoch 39/200: Train Loss = 30.0156, Test Loss = 30.4636\n"
          ]
        },
        {
          "name": "stderr",
          "output_type": "stream",
          "text": [
            "Epoch 40/200: 100%|██████████| 782/782 [00:05<00:00, 132.55batch/s, batch_loss=31.4044]\n"
          ]
        },
        {
          "name": "stdout",
          "output_type": "stream",
          "text": [
            "Epoch 40/200: Train Loss = 30.0092, Test Loss = 30.4008\n"
          ]
        },
        {
          "name": "stderr",
          "output_type": "stream",
          "text": [
            "Epoch 41/200: 100%|██████████| 782/782 [00:05<00:00, 139.03batch/s, batch_loss=37.1348]\n"
          ]
        },
        {
          "name": "stdout",
          "output_type": "stream",
          "text": [
            "Epoch 41/200: Train Loss = 29.9614, Test Loss = 30.6658\n"
          ]
        },
        {
          "name": "stderr",
          "output_type": "stream",
          "text": [
            "Epoch 42/200: 100%|██████████| 782/782 [00:06<00:00, 118.27batch/s, batch_loss=26.5710]\n"
          ]
        },
        {
          "name": "stdout",
          "output_type": "stream",
          "text": [
            "Epoch 42/200: Train Loss = 29.9761, Test Loss = 30.4473\n"
          ]
        },
        {
          "name": "stderr",
          "output_type": "stream",
          "text": [
            "Epoch 43/200: 100%|██████████| 782/782 [00:05<00:00, 137.81batch/s, batch_loss=31.0189]\n"
          ]
        },
        {
          "name": "stdout",
          "output_type": "stream",
          "text": [
            "Epoch 43/200: Train Loss = 29.9341, Test Loss = 30.8857\n"
          ]
        },
        {
          "name": "stderr",
          "output_type": "stream",
          "text": [
            "Epoch 44/200: 100%|██████████| 782/782 [00:05<00:00, 144.89batch/s, batch_loss=28.6304]\n"
          ]
        },
        {
          "name": "stdout",
          "output_type": "stream",
          "text": [
            "Epoch 44/200: Train Loss = 29.9250, Test Loss = 30.2468\n"
          ]
        },
        {
          "name": "stderr",
          "output_type": "stream",
          "text": [
            "Epoch 45/200: 100%|██████████| 782/782 [00:05<00:00, 144.66batch/s, batch_loss=31.7575]\n"
          ]
        },
        {
          "name": "stdout",
          "output_type": "stream",
          "text": [
            "Epoch 45/200: Train Loss = 29.9280, Test Loss = 30.2440\n"
          ]
        },
        {
          "name": "stderr",
          "output_type": "stream",
          "text": [
            "Epoch 46/200: 100%|██████████| 782/782 [00:05<00:00, 145.00batch/s, batch_loss=33.1427]\n"
          ]
        },
        {
          "name": "stdout",
          "output_type": "stream",
          "text": [
            "Epoch 46/200: Train Loss = 29.8784, Test Loss = 30.3518\n"
          ]
        },
        {
          "name": "stderr",
          "output_type": "stream",
          "text": [
            "Epoch 47/200: 100%|██████████| 782/782 [00:05<00:00, 144.02batch/s, batch_loss=33.4890]\n"
          ]
        },
        {
          "name": "stdout",
          "output_type": "stream",
          "text": [
            "Epoch 47/200: Train Loss = 29.8815, Test Loss = 30.1494\n"
          ]
        },
        {
          "name": "stderr",
          "output_type": "stream",
          "text": [
            "Epoch 48/200: 100%|██████████| 782/782 [00:05<00:00, 146.17batch/s, batch_loss=29.0540]\n"
          ]
        },
        {
          "name": "stdout",
          "output_type": "stream",
          "text": [
            "Epoch 48/200: Train Loss = 29.8901, Test Loss = 30.4890\n"
          ]
        },
        {
          "name": "stderr",
          "output_type": "stream",
          "text": [
            "Epoch 49/200: 100%|██████████| 782/782 [00:05<00:00, 147.02batch/s, batch_loss=36.8231]\n"
          ]
        },
        {
          "name": "stdout",
          "output_type": "stream",
          "text": [
            "Epoch 49/200: Train Loss = 29.8759, Test Loss = 30.2669\n"
          ]
        },
        {
          "name": "stderr",
          "output_type": "stream",
          "text": [
            "Epoch 50/200: 100%|██████████| 782/782 [00:05<00:00, 145.07batch/s, batch_loss=28.9035]\n"
          ]
        },
        {
          "name": "stdout",
          "output_type": "stream",
          "text": [
            "Epoch 50/200: Train Loss = 29.7737, Test Loss = 30.1467\n"
          ]
        },
        {
          "name": "stderr",
          "output_type": "stream",
          "text": [
            "Epoch 51/200: 100%|██████████| 782/782 [00:05<00:00, 145.67batch/s, batch_loss=38.9695]\n"
          ]
        },
        {
          "name": "stdout",
          "output_type": "stream",
          "text": [
            "Epoch 51/200: Train Loss = 29.7654, Test Loss = 30.0993\n"
          ]
        },
        {
          "name": "stderr",
          "output_type": "stream",
          "text": [
            "Epoch 52/200: 100%|██████████| 782/782 [00:05<00:00, 146.20batch/s, batch_loss=30.1769]\n"
          ]
        },
        {
          "name": "stdout",
          "output_type": "stream",
          "text": [
            "Epoch 52/200: Train Loss = 29.8001, Test Loss = 30.2006\n"
          ]
        },
        {
          "name": "stderr",
          "output_type": "stream",
          "text": [
            "Epoch 53/200: 100%|██████████| 782/782 [00:05<00:00, 143.97batch/s, batch_loss=26.1684]\n"
          ]
        },
        {
          "name": "stdout",
          "output_type": "stream",
          "text": [
            "Epoch 53/200: Train Loss = 29.6827, Test Loss = 29.9817\n"
          ]
        },
        {
          "name": "stderr",
          "output_type": "stream",
          "text": [
            "Epoch 54/200: 100%|██████████| 782/782 [00:05<00:00, 141.78batch/s, batch_loss=30.6536]\n"
          ]
        },
        {
          "name": "stdout",
          "output_type": "stream",
          "text": [
            "Epoch 54/200: Train Loss = 29.6937, Test Loss = 30.2853\n"
          ]
        },
        {
          "name": "stderr",
          "output_type": "stream",
          "text": [
            "Epoch 55/200: 100%|██████████| 782/782 [00:05<00:00, 140.59batch/s, batch_loss=25.4811]\n"
          ]
        },
        {
          "name": "stdout",
          "output_type": "stream",
          "text": [
            "Epoch 55/200: Train Loss = 29.7465, Test Loss = 29.7800\n"
          ]
        },
        {
          "name": "stderr",
          "output_type": "stream",
          "text": [
            "Epoch 56/200: 100%|██████████| 782/782 [00:05<00:00, 146.73batch/s, batch_loss=25.1553]\n"
          ]
        },
        {
          "name": "stdout",
          "output_type": "stream",
          "text": [
            "Epoch 56/200: Train Loss = 29.7051, Test Loss = 30.2360\n"
          ]
        },
        {
          "name": "stderr",
          "output_type": "stream",
          "text": [
            "Epoch 57/200: 100%|██████████| 782/782 [00:05<00:00, 145.34batch/s, batch_loss=22.5583]\n"
          ]
        },
        {
          "name": "stdout",
          "output_type": "stream",
          "text": [
            "Epoch 57/200: Train Loss = 29.5840, Test Loss = 29.8909\n"
          ]
        },
        {
          "name": "stderr",
          "output_type": "stream",
          "text": [
            "Epoch 58/200: 100%|██████████| 782/782 [00:05<00:00, 144.27batch/s, batch_loss=34.8535]\n"
          ]
        },
        {
          "name": "stdout",
          "output_type": "stream",
          "text": [
            "Epoch 58/200: Train Loss = 29.6297, Test Loss = 30.0257\n"
          ]
        },
        {
          "name": "stderr",
          "output_type": "stream",
          "text": [
            "Epoch 59/200: 100%|██████████| 782/782 [00:05<00:00, 142.46batch/s, batch_loss=28.5000]\n"
          ]
        },
        {
          "name": "stdout",
          "output_type": "stream",
          "text": [
            "Epoch 59/200: Train Loss = 29.6904, Test Loss = 30.0774\n"
          ]
        },
        {
          "name": "stderr",
          "output_type": "stream",
          "text": [
            "Epoch 60/200: 100%|██████████| 782/782 [00:05<00:00, 145.29batch/s, batch_loss=27.5971]\n"
          ]
        },
        {
          "name": "stdout",
          "output_type": "stream",
          "text": [
            "Epoch 60/200: Train Loss = 29.7235, Test Loss = 30.1650\n"
          ]
        },
        {
          "name": "stderr",
          "output_type": "stream",
          "text": [
            "Epoch 61/200: 100%|██████████| 782/782 [00:05<00:00, 143.50batch/s, batch_loss=28.7875]\n"
          ]
        },
        {
          "name": "stdout",
          "output_type": "stream",
          "text": [
            "Epoch 61/200: Train Loss = 29.7355, Test Loss = 30.1066\n"
          ]
        },
        {
          "name": "stderr",
          "output_type": "stream",
          "text": [
            "Epoch 62/200: 100%|██████████| 782/782 [00:05<00:00, 144.42batch/s, batch_loss=31.9978]\n"
          ]
        },
        {
          "name": "stdout",
          "output_type": "stream",
          "text": [
            "Epoch 62/200: Train Loss = 29.5828, Test Loss = 29.9763\n"
          ]
        },
        {
          "name": "stderr",
          "output_type": "stream",
          "text": [
            "Epoch 63/200: 100%|██████████| 782/782 [00:05<00:00, 145.02batch/s, batch_loss=29.5343]\n"
          ]
        },
        {
          "name": "stdout",
          "output_type": "stream",
          "text": [
            "Epoch 63/200: Train Loss = 29.6086, Test Loss = 30.0115\n"
          ]
        },
        {
          "name": "stderr",
          "output_type": "stream",
          "text": [
            "Epoch 64/200: 100%|██████████| 782/782 [00:05<00:00, 144.12batch/s, batch_loss=32.1785]\n"
          ]
        },
        {
          "name": "stdout",
          "output_type": "stream",
          "text": [
            "Epoch 64/200: Train Loss = 29.5967, Test Loss = 30.0837\n"
          ]
        },
        {
          "name": "stderr",
          "output_type": "stream",
          "text": [
            "Epoch 65/200: 100%|██████████| 782/782 [00:05<00:00, 147.07batch/s, batch_loss=31.4597]\n"
          ]
        },
        {
          "name": "stdout",
          "output_type": "stream",
          "text": [
            "Epoch 65/200: Train Loss = 29.5802, Test Loss = 30.1168\n"
          ]
        },
        {
          "name": "stderr",
          "output_type": "stream",
          "text": [
            "Epoch 66/200: 100%|██████████| 782/782 [00:05<00:00, 142.37batch/s, batch_loss=26.7415]\n"
          ]
        },
        {
          "name": "stdout",
          "output_type": "stream",
          "text": [
            "Epoch 66/200: Train Loss = 29.6064, Test Loss = 29.9456\n"
          ]
        },
        {
          "name": "stderr",
          "output_type": "stream",
          "text": [
            "Epoch 67/200: 100%|██████████| 782/782 [00:05<00:00, 146.43batch/s, batch_loss=29.2928]\n"
          ]
        },
        {
          "name": "stdout",
          "output_type": "stream",
          "text": [
            "Epoch 67/200: Train Loss = 29.5871, Test Loss = 30.0238\n"
          ]
        },
        {
          "name": "stderr",
          "output_type": "stream",
          "text": [
            "Epoch 68/200: 100%|██████████| 782/782 [00:05<00:00, 143.83batch/s, batch_loss=40.3034]\n"
          ]
        },
        {
          "name": "stdout",
          "output_type": "stream",
          "text": [
            "Epoch 68/200: Train Loss = 29.5074, Test Loss = 30.0548\n"
          ]
        },
        {
          "name": "stderr",
          "output_type": "stream",
          "text": [
            "Epoch 69/200: 100%|██████████| 782/782 [00:05<00:00, 145.94batch/s, batch_loss=38.0693]\n"
          ]
        },
        {
          "name": "stdout",
          "output_type": "stream",
          "text": [
            "Epoch 69/200: Train Loss = 29.5903, Test Loss = 29.9401\n"
          ]
        },
        {
          "name": "stderr",
          "output_type": "stream",
          "text": [
            "Epoch 70/200: 100%|██████████| 782/782 [00:05<00:00, 144.63batch/s, batch_loss=27.3861]\n"
          ]
        },
        {
          "name": "stdout",
          "output_type": "stream",
          "text": [
            "Epoch 70/200: Train Loss = 29.4884, Test Loss = 29.8559\n"
          ]
        },
        {
          "name": "stderr",
          "output_type": "stream",
          "text": [
            "Epoch 71/200: 100%|██████████| 782/782 [00:05<00:00, 145.23batch/s, batch_loss=30.0268]\n"
          ]
        },
        {
          "name": "stdout",
          "output_type": "stream",
          "text": [
            "Epoch 71/200: Train Loss = 29.4514, Test Loss = 29.8264\n"
          ]
        },
        {
          "name": "stderr",
          "output_type": "stream",
          "text": [
            "Epoch 72/200: 100%|██████████| 782/782 [00:05<00:00, 145.37batch/s, batch_loss=35.2632]\n"
          ]
        },
        {
          "name": "stdout",
          "output_type": "stream",
          "text": [
            "Epoch 72/200: Train Loss = 29.5596, Test Loss = 30.0197\n"
          ]
        },
        {
          "name": "stderr",
          "output_type": "stream",
          "text": [
            "Epoch 73/200: 100%|██████████| 782/782 [00:05<00:00, 145.04batch/s, batch_loss=23.7095]\n"
          ]
        },
        {
          "name": "stdout",
          "output_type": "stream",
          "text": [
            "Epoch 73/200: Train Loss = 29.5557, Test Loss = 30.0853\n"
          ]
        },
        {
          "name": "stderr",
          "output_type": "stream",
          "text": [
            "Epoch 74/200: 100%|██████████| 782/782 [00:05<00:00, 146.92batch/s, batch_loss=25.4806]\n"
          ]
        },
        {
          "name": "stdout",
          "output_type": "stream",
          "text": [
            "Epoch 74/200: Train Loss = 29.5798, Test Loss = 30.1188\n"
          ]
        },
        {
          "name": "stderr",
          "output_type": "stream",
          "text": [
            "Epoch 75/200: 100%|██████████| 782/782 [00:05<00:00, 143.89batch/s, batch_loss=35.8192]\n"
          ]
        },
        {
          "name": "stdout",
          "output_type": "stream",
          "text": [
            "Epoch 75/200: Train Loss = 29.5238, Test Loss = 29.9835\n"
          ]
        },
        {
          "name": "stderr",
          "output_type": "stream",
          "text": [
            "Epoch 76/200: 100%|██████████| 782/782 [00:05<00:00, 145.84batch/s, batch_loss=22.9909]\n"
          ]
        },
        {
          "name": "stdout",
          "output_type": "stream",
          "text": [
            "Epoch 76/200: Train Loss = 29.5215, Test Loss = 29.9442\n"
          ]
        },
        {
          "name": "stderr",
          "output_type": "stream",
          "text": [
            "Epoch 77/200: 100%|██████████| 782/782 [00:05<00:00, 144.52batch/s, batch_loss=22.6700]\n"
          ]
        },
        {
          "name": "stdout",
          "output_type": "stream",
          "text": [
            "Epoch 77/200: Train Loss = 29.4016, Test Loss = 29.7725\n"
          ]
        },
        {
          "name": "stderr",
          "output_type": "stream",
          "text": [
            "Epoch 78/200: 100%|██████████| 782/782 [00:05<00:00, 143.00batch/s, batch_loss=32.4233]\n"
          ]
        },
        {
          "name": "stdout",
          "output_type": "stream",
          "text": [
            "Epoch 78/200: Train Loss = 29.4341, Test Loss = 30.0454\n"
          ]
        },
        {
          "name": "stderr",
          "output_type": "stream",
          "text": [
            "Epoch 79/200: 100%|██████████| 782/782 [00:05<00:00, 146.48batch/s, batch_loss=25.9195]\n"
          ]
        },
        {
          "name": "stdout",
          "output_type": "stream",
          "text": [
            "Epoch 79/200: Train Loss = 29.3874, Test Loss = 30.4929\n"
          ]
        },
        {
          "name": "stderr",
          "output_type": "stream",
          "text": [
            "Epoch 80/200: 100%|██████████| 782/782 [00:05<00:00, 145.06batch/s, batch_loss=30.2451]\n"
          ]
        },
        {
          "name": "stdout",
          "output_type": "stream",
          "text": [
            "Epoch 80/200: Train Loss = 29.3531, Test Loss = 30.0907\n"
          ]
        },
        {
          "name": "stderr",
          "output_type": "stream",
          "text": [
            "Epoch 81/200: 100%|██████████| 782/782 [00:05<00:00, 144.02batch/s, batch_loss=27.4700]\n"
          ]
        },
        {
          "name": "stdout",
          "output_type": "stream",
          "text": [
            "Epoch 81/200: Train Loss = 29.3047, Test Loss = 30.0055\n"
          ]
        },
        {
          "name": "stderr",
          "output_type": "stream",
          "text": [
            "Epoch 82/200: 100%|██████████| 782/782 [00:05<00:00, 146.90batch/s, batch_loss=34.1551]\n"
          ]
        },
        {
          "name": "stdout",
          "output_type": "stream",
          "text": [
            "Epoch 82/200: Train Loss = 29.3376, Test Loss = 29.8441\n"
          ]
        },
        {
          "name": "stderr",
          "output_type": "stream",
          "text": [
            "Epoch 83/200: 100%|██████████| 782/782 [00:05<00:00, 144.71batch/s, batch_loss=27.3242]\n"
          ]
        },
        {
          "name": "stdout",
          "output_type": "stream",
          "text": [
            "Epoch 83/200: Train Loss = 29.2685, Test Loss = 29.8036\n"
          ]
        },
        {
          "name": "stderr",
          "output_type": "stream",
          "text": [
            "Epoch 84/200: 100%|██████████| 782/782 [00:05<00:00, 145.92batch/s, batch_loss=33.2577]\n"
          ]
        },
        {
          "name": "stdout",
          "output_type": "stream",
          "text": [
            "Epoch 84/200: Train Loss = 29.3475, Test Loss = 29.8855\n"
          ]
        },
        {
          "name": "stderr",
          "output_type": "stream",
          "text": [
            "Epoch 85/200: 100%|██████████| 782/782 [00:05<00:00, 144.88batch/s, batch_loss=24.6870]\n"
          ]
        },
        {
          "name": "stdout",
          "output_type": "stream",
          "text": [
            "Epoch 85/200: Train Loss = 29.2475, Test Loss = 30.1075\n"
          ]
        },
        {
          "name": "stderr",
          "output_type": "stream",
          "text": [
            "Epoch 86/200: 100%|██████████| 782/782 [00:05<00:00, 142.02batch/s, batch_loss=25.7257]\n"
          ]
        },
        {
          "name": "stdout",
          "output_type": "stream",
          "text": [
            "Epoch 86/200: Train Loss = 29.2541, Test Loss = 29.7915\n"
          ]
        },
        {
          "name": "stderr",
          "output_type": "stream",
          "text": [
            "Epoch 87/200: 100%|██████████| 782/782 [00:05<00:00, 143.40batch/s, batch_loss=31.1034]\n"
          ]
        },
        {
          "name": "stdout",
          "output_type": "stream",
          "text": [
            "Epoch 87/200: Train Loss = 29.2702, Test Loss = 29.9919\n"
          ]
        },
        {
          "name": "stderr",
          "output_type": "stream",
          "text": [
            "Epoch 88/200: 100%|██████████| 782/782 [00:05<00:00, 147.67batch/s, batch_loss=22.4401]\n"
          ]
        },
        {
          "name": "stdout",
          "output_type": "stream",
          "text": [
            "Epoch 88/200: Train Loss = 29.2639, Test Loss = 29.8054\n"
          ]
        },
        {
          "name": "stderr",
          "output_type": "stream",
          "text": [
            "Epoch 89/200: 100%|██████████| 782/782 [00:05<00:00, 145.70batch/s, batch_loss=30.9415]\n"
          ]
        },
        {
          "name": "stdout",
          "output_type": "stream",
          "text": [
            "Epoch 89/200: Train Loss = 29.2959, Test Loss = 29.6621\n"
          ]
        },
        {
          "name": "stderr",
          "output_type": "stream",
          "text": [
            "Epoch 90/200: 100%|██████████| 782/782 [00:05<00:00, 144.95batch/s, batch_loss=29.3000]\n"
          ]
        },
        {
          "name": "stdout",
          "output_type": "stream",
          "text": [
            "Epoch 90/200: Train Loss = 29.3357, Test Loss = 29.8323\n"
          ]
        },
        {
          "name": "stderr",
          "output_type": "stream",
          "text": [
            "Epoch 91/200: 100%|██████████| 782/782 [00:05<00:00, 142.71batch/s, batch_loss=28.2010]\n"
          ]
        },
        {
          "name": "stdout",
          "output_type": "stream",
          "text": [
            "Epoch 91/200: Train Loss = 29.1891, Test Loss = 29.7579\n"
          ]
        },
        {
          "name": "stderr",
          "output_type": "stream",
          "text": [
            "Epoch 92/200: 100%|██████████| 782/782 [00:05<00:00, 145.07batch/s, batch_loss=31.0222]\n"
          ]
        },
        {
          "name": "stdout",
          "output_type": "stream",
          "text": [
            "Epoch 92/200: Train Loss = 29.1861, Test Loss = 29.7970\n"
          ]
        },
        {
          "name": "stderr",
          "output_type": "stream",
          "text": [
            "Epoch 93/200: 100%|██████████| 782/782 [00:05<00:00, 144.97batch/s, batch_loss=26.7115]\n"
          ]
        },
        {
          "name": "stdout",
          "output_type": "stream",
          "text": [
            "Epoch 93/200: Train Loss = 29.2650, Test Loss = 29.4943\n"
          ]
        },
        {
          "name": "stderr",
          "output_type": "stream",
          "text": [
            "Epoch 94/200: 100%|██████████| 782/782 [00:05<00:00, 145.90batch/s, batch_loss=26.8746]\n"
          ]
        },
        {
          "name": "stdout",
          "output_type": "stream",
          "text": [
            "Epoch 94/200: Train Loss = 29.1245, Test Loss = 29.5901\n"
          ]
        },
        {
          "name": "stderr",
          "output_type": "stream",
          "text": [
            "Epoch 95/200: 100%|██████████| 782/782 [00:05<00:00, 142.25batch/s, batch_loss=23.1926]\n"
          ]
        },
        {
          "name": "stdout",
          "output_type": "stream",
          "text": [
            "Epoch 95/200: Train Loss = 29.2878, Test Loss = 29.7071\n"
          ]
        },
        {
          "name": "stderr",
          "output_type": "stream",
          "text": [
            "Epoch 96/200: 100%|██████████| 782/782 [00:05<00:00, 143.63batch/s, batch_loss=28.5314]\n"
          ]
        },
        {
          "name": "stdout",
          "output_type": "stream",
          "text": [
            "Epoch 96/200: Train Loss = 29.1504, Test Loss = 29.5774\n"
          ]
        },
        {
          "name": "stderr",
          "output_type": "stream",
          "text": [
            "Epoch 97/200: 100%|██████████| 782/782 [00:05<00:00, 143.39batch/s, batch_loss=25.6306]\n"
          ]
        },
        {
          "name": "stdout",
          "output_type": "stream",
          "text": [
            "Epoch 97/200: Train Loss = 29.1819, Test Loss = 29.5303\n"
          ]
        },
        {
          "name": "stderr",
          "output_type": "stream",
          "text": [
            "Epoch 98/200: 100%|██████████| 782/782 [00:05<00:00, 143.79batch/s, batch_loss=24.9505]\n"
          ]
        },
        {
          "name": "stdout",
          "output_type": "stream",
          "text": [
            "Epoch 98/200: Train Loss = 29.0691, Test Loss = 29.6423\n"
          ]
        },
        {
          "name": "stderr",
          "output_type": "stream",
          "text": [
            "Epoch 99/200: 100%|██████████| 782/782 [00:05<00:00, 144.01batch/s, batch_loss=31.5038]\n"
          ]
        },
        {
          "name": "stdout",
          "output_type": "stream",
          "text": [
            "Epoch 99/200: Train Loss = 29.1850, Test Loss = 29.4563\n"
          ]
        },
        {
          "name": "stderr",
          "output_type": "stream",
          "text": [
            "Epoch 100/200: 100%|██████████| 782/782 [00:05<00:00, 144.83batch/s, batch_loss=30.0272]\n"
          ]
        },
        {
          "name": "stdout",
          "output_type": "stream",
          "text": [
            "Epoch 100/200: Train Loss = 29.1122, Test Loss = 29.7183\n"
          ]
        },
        {
          "name": "stderr",
          "output_type": "stream",
          "text": [
            "Epoch 101/200: 100%|██████████| 782/782 [00:05<00:00, 144.48batch/s, batch_loss=29.3803]\n"
          ]
        },
        {
          "name": "stdout",
          "output_type": "stream",
          "text": [
            "Epoch 101/200: Train Loss = 29.1457, Test Loss = 29.6104\n"
          ]
        },
        {
          "name": "stderr",
          "output_type": "stream",
          "text": [
            "Epoch 102/200: 100%|██████████| 782/782 [00:05<00:00, 145.41batch/s, batch_loss=33.1091]\n"
          ]
        },
        {
          "name": "stdout",
          "output_type": "stream",
          "text": [
            "Epoch 102/200: Train Loss = 29.1022, Test Loss = 29.5157\n"
          ]
        },
        {
          "name": "stderr",
          "output_type": "stream",
          "text": [
            "Epoch 103/200: 100%|██████████| 782/782 [00:05<00:00, 143.53batch/s, batch_loss=36.5294]\n"
          ]
        },
        {
          "name": "stdout",
          "output_type": "stream",
          "text": [
            "Epoch 103/200: Train Loss = 29.1698, Test Loss = 29.6866\n"
          ]
        },
        {
          "name": "stderr",
          "output_type": "stream",
          "text": [
            "Epoch 104/200: 100%|██████████| 782/782 [00:05<00:00, 145.66batch/s, batch_loss=27.7812]\n"
          ]
        },
        {
          "name": "stdout",
          "output_type": "stream",
          "text": [
            "Epoch 104/200: Train Loss = 29.1559, Test Loss = 30.1712\n"
          ]
        },
        {
          "name": "stderr",
          "output_type": "stream",
          "text": [
            "Epoch 105/200: 100%|██████████| 782/782 [00:05<00:00, 144.57batch/s, batch_loss=27.2240]\n"
          ]
        },
        {
          "name": "stdout",
          "output_type": "stream",
          "text": [
            "Epoch 105/200: Train Loss = 29.2299, Test Loss = 29.3962\n"
          ]
        },
        {
          "name": "stderr",
          "output_type": "stream",
          "text": [
            "Epoch 106/200: 100%|██████████| 782/782 [00:05<00:00, 143.72batch/s, batch_loss=27.8561]\n"
          ]
        },
        {
          "name": "stdout",
          "output_type": "stream",
          "text": [
            "Epoch 106/200: Train Loss = 29.0163, Test Loss = 29.5232\n"
          ]
        },
        {
          "name": "stderr",
          "output_type": "stream",
          "text": [
            "Epoch 107/200: 100%|██████████| 782/782 [00:05<00:00, 144.13batch/s, batch_loss=37.3518]\n"
          ]
        },
        {
          "name": "stdout",
          "output_type": "stream",
          "text": [
            "Epoch 107/200: Train Loss = 29.0922, Test Loss = 29.8981\n"
          ]
        },
        {
          "name": "stderr",
          "output_type": "stream",
          "text": [
            "Epoch 108/200: 100%|██████████| 782/782 [00:05<00:00, 144.36batch/s, batch_loss=27.9456]\n"
          ]
        },
        {
          "name": "stdout",
          "output_type": "stream",
          "text": [
            "Epoch 108/200: Train Loss = 29.0209, Test Loss = 29.9392\n"
          ]
        },
        {
          "name": "stderr",
          "output_type": "stream",
          "text": [
            "Epoch 109/200: 100%|██████████| 782/782 [00:05<00:00, 142.90batch/s, batch_loss=26.6848]\n"
          ]
        },
        {
          "name": "stdout",
          "output_type": "stream",
          "text": [
            "Epoch 109/200: Train Loss = 29.0207, Test Loss = 29.3933\n"
          ]
        },
        {
          "name": "stderr",
          "output_type": "stream",
          "text": [
            "Epoch 110/200: 100%|██████████| 782/782 [00:05<00:00, 144.29batch/s, batch_loss=27.3124]\n"
          ]
        },
        {
          "name": "stdout",
          "output_type": "stream",
          "text": [
            "Epoch 110/200: Train Loss = 29.0385, Test Loss = 29.6950\n"
          ]
        },
        {
          "name": "stderr",
          "output_type": "stream",
          "text": [
            "Epoch 111/200: 100%|██████████| 782/782 [00:05<00:00, 145.22batch/s, batch_loss=27.5888]\n"
          ]
        },
        {
          "name": "stdout",
          "output_type": "stream",
          "text": [
            "Epoch 111/200: Train Loss = 28.9946, Test Loss = 29.7244\n"
          ]
        },
        {
          "name": "stderr",
          "output_type": "stream",
          "text": [
            "Epoch 112/200: 100%|██████████| 782/782 [00:05<00:00, 140.53batch/s, batch_loss=38.6551]\n"
          ]
        },
        {
          "name": "stdout",
          "output_type": "stream",
          "text": [
            "Epoch 112/200: Train Loss = 29.0636, Test Loss = 29.6633\n"
          ]
        },
        {
          "name": "stderr",
          "output_type": "stream",
          "text": [
            "Epoch 113/200: 100%|██████████| 782/782 [00:05<00:00, 145.49batch/s, batch_loss=29.1514]\n"
          ]
        },
        {
          "name": "stdout",
          "output_type": "stream",
          "text": [
            "Epoch 113/200: Train Loss = 28.9728, Test Loss = 29.4832\n"
          ]
        },
        {
          "name": "stderr",
          "output_type": "stream",
          "text": [
            "Epoch 114/200: 100%|██████████| 782/782 [00:05<00:00, 137.86batch/s, batch_loss=28.9258]\n"
          ]
        },
        {
          "name": "stdout",
          "output_type": "stream",
          "text": [
            "Epoch 114/200: Train Loss = 28.9724, Test Loss = 29.6368\n"
          ]
        },
        {
          "name": "stderr",
          "output_type": "stream",
          "text": [
            "Epoch 115/200: 100%|██████████| 782/782 [00:05<00:00, 140.94batch/s, batch_loss=31.8705]\n"
          ]
        },
        {
          "name": "stdout",
          "output_type": "stream",
          "text": [
            "Epoch 115/200: Train Loss = 29.0195, Test Loss = 29.3937\n"
          ]
        },
        {
          "name": "stderr",
          "output_type": "stream",
          "text": [
            "Epoch 116/200: 100%|██████████| 782/782 [00:05<00:00, 141.01batch/s, batch_loss=29.8615]\n"
          ]
        },
        {
          "name": "stdout",
          "output_type": "stream",
          "text": [
            "Epoch 116/200: Train Loss = 28.9300, Test Loss = 29.5572\n"
          ]
        },
        {
          "name": "stderr",
          "output_type": "stream",
          "text": [
            "Epoch 117/200: 100%|██████████| 782/782 [00:05<00:00, 141.22batch/s, batch_loss=29.2021]\n"
          ]
        },
        {
          "name": "stdout",
          "output_type": "stream",
          "text": [
            "Epoch 117/200: Train Loss = 28.9155, Test Loss = 29.3990\n"
          ]
        },
        {
          "name": "stderr",
          "output_type": "stream",
          "text": [
            "Epoch 118/200: 100%|██████████| 782/782 [00:05<00:00, 136.51batch/s, batch_loss=33.2067]\n"
          ]
        },
        {
          "name": "stdout",
          "output_type": "stream",
          "text": [
            "Epoch 118/200: Train Loss = 28.9146, Test Loss = 29.7113\n"
          ]
        },
        {
          "name": "stderr",
          "output_type": "stream",
          "text": [
            "Epoch 119/200: 100%|██████████| 782/782 [00:05<00:00, 139.99batch/s, batch_loss=31.6797]\n"
          ]
        },
        {
          "name": "stdout",
          "output_type": "stream",
          "text": [
            "Epoch 119/200: Train Loss = 28.9607, Test Loss = 29.4044\n"
          ]
        },
        {
          "name": "stderr",
          "output_type": "stream",
          "text": [
            "Epoch 120/200: 100%|██████████| 782/782 [00:05<00:00, 142.26batch/s, batch_loss=26.4285]\n"
          ]
        },
        {
          "name": "stdout",
          "output_type": "stream",
          "text": [
            "Epoch 120/200: Train Loss = 28.9243, Test Loss = 29.3192\n"
          ]
        },
        {
          "name": "stderr",
          "output_type": "stream",
          "text": [
            "Epoch 121/200: 100%|██████████| 782/782 [00:05<00:00, 139.85batch/s, batch_loss=26.6261]\n"
          ]
        },
        {
          "name": "stdout",
          "output_type": "stream",
          "text": [
            "Epoch 121/200: Train Loss = 28.9223, Test Loss = 29.5257\n"
          ]
        },
        {
          "name": "stderr",
          "output_type": "stream",
          "text": [
            "Epoch 122/200: 100%|██████████| 782/782 [00:05<00:00, 140.94batch/s, batch_loss=22.2258]\n"
          ]
        },
        {
          "name": "stdout",
          "output_type": "stream",
          "text": [
            "Epoch 122/200: Train Loss = 28.9255, Test Loss = 29.7869\n"
          ]
        },
        {
          "name": "stderr",
          "output_type": "stream",
          "text": [
            "Epoch 123/200: 100%|██████████| 782/782 [00:05<00:00, 139.01batch/s, batch_loss=29.4743]\n"
          ]
        },
        {
          "name": "stdout",
          "output_type": "stream",
          "text": [
            "Epoch 123/200: Train Loss = 29.0824, Test Loss = 29.5784\n"
          ]
        },
        {
          "name": "stderr",
          "output_type": "stream",
          "text": [
            "Epoch 124/200: 100%|██████████| 782/782 [00:05<00:00, 142.24batch/s, batch_loss=37.7742]\n"
          ]
        },
        {
          "name": "stdout",
          "output_type": "stream",
          "text": [
            "Epoch 124/200: Train Loss = 28.7910, Test Loss = 29.4543\n"
          ]
        },
        {
          "name": "stderr",
          "output_type": "stream",
          "text": [
            "Epoch 125/200: 100%|██████████| 782/782 [00:05<00:00, 135.44batch/s, batch_loss=25.0861]\n"
          ]
        },
        {
          "name": "stdout",
          "output_type": "stream",
          "text": [
            "Epoch 125/200: Train Loss = 28.8742, Test Loss = 29.5840\n"
          ]
        },
        {
          "name": "stderr",
          "output_type": "stream",
          "text": [
            "Epoch 126/200: 100%|██████████| 782/782 [00:05<00:00, 137.84batch/s, batch_loss=26.8862]\n"
          ]
        },
        {
          "name": "stdout",
          "output_type": "stream",
          "text": [
            "Epoch 126/200: Train Loss = 28.8283, Test Loss = 29.3724\n"
          ]
        },
        {
          "name": "stderr",
          "output_type": "stream",
          "text": [
            "Epoch 127/200: 100%|██████████| 782/782 [00:05<00:00, 141.64batch/s, batch_loss=29.0073]\n"
          ]
        },
        {
          "name": "stdout",
          "output_type": "stream",
          "text": [
            "Epoch 127/200: Train Loss = 28.8702, Test Loss = 29.1492\n"
          ]
        },
        {
          "name": "stderr",
          "output_type": "stream",
          "text": [
            "Epoch 128/200: 100%|██████████| 782/782 [00:05<00:00, 140.89batch/s, batch_loss=25.7928]\n"
          ]
        },
        {
          "name": "stdout",
          "output_type": "stream",
          "text": [
            "Epoch 128/200: Train Loss = 28.8289, Test Loss = 29.6897\n"
          ]
        },
        {
          "name": "stderr",
          "output_type": "stream",
          "text": [
            "Epoch 129/200: 100%|██████████| 782/782 [00:05<00:00, 139.34batch/s, batch_loss=31.1502]\n"
          ]
        },
        {
          "name": "stdout",
          "output_type": "stream",
          "text": [
            "Epoch 129/200: Train Loss = 28.8887, Test Loss = 29.4594\n"
          ]
        },
        {
          "name": "stderr",
          "output_type": "stream",
          "text": [
            "Epoch 130/200: 100%|██████████| 782/782 [00:05<00:00, 139.39batch/s, batch_loss=31.3354]\n"
          ]
        },
        {
          "name": "stdout",
          "output_type": "stream",
          "text": [
            "Epoch 130/200: Train Loss = 28.8390, Test Loss = 29.4548\n"
          ]
        },
        {
          "name": "stderr",
          "output_type": "stream",
          "text": [
            "Epoch 131/200: 100%|██████████| 782/782 [00:05<00:00, 142.07batch/s, batch_loss=24.6521]\n"
          ]
        },
        {
          "name": "stdout",
          "output_type": "stream",
          "text": [
            "Epoch 131/200: Train Loss = 28.8981, Test Loss = 29.7800\n"
          ]
        },
        {
          "name": "stderr",
          "output_type": "stream",
          "text": [
            "Epoch 132/200: 100%|██████████| 782/782 [00:05<00:00, 139.74batch/s, batch_loss=36.8924]\n"
          ]
        },
        {
          "name": "stdout",
          "output_type": "stream",
          "text": [
            "Epoch 132/200: Train Loss = 28.9634, Test Loss = 29.6295\n"
          ]
        },
        {
          "name": "stderr",
          "output_type": "stream",
          "text": [
            "Epoch 133/200: 100%|██████████| 782/782 [00:05<00:00, 142.44batch/s, batch_loss=25.6902]\n"
          ]
        },
        {
          "name": "stdout",
          "output_type": "stream",
          "text": [
            "Epoch 133/200: Train Loss = 29.0227, Test Loss = 29.7722\n"
          ]
        },
        {
          "name": "stderr",
          "output_type": "stream",
          "text": [
            "Epoch 134/200: 100%|██████████| 782/782 [00:05<00:00, 139.81batch/s, batch_loss=32.7738]\n"
          ]
        },
        {
          "name": "stdout",
          "output_type": "stream",
          "text": [
            "Epoch 134/200: Train Loss = 28.8394, Test Loss = 29.6098\n"
          ]
        },
        {
          "name": "stderr",
          "output_type": "stream",
          "text": [
            "Epoch 135/200: 100%|██████████| 782/782 [00:05<00:00, 143.22batch/s, batch_loss=27.8580]\n"
          ]
        },
        {
          "name": "stdout",
          "output_type": "stream",
          "text": [
            "Epoch 135/200: Train Loss = 28.8383, Test Loss = 29.6113\n"
          ]
        },
        {
          "name": "stderr",
          "output_type": "stream",
          "text": [
            "Epoch 136/200: 100%|██████████| 782/782 [00:05<00:00, 141.38batch/s, batch_loss=26.4113]\n"
          ]
        },
        {
          "name": "stdout",
          "output_type": "stream",
          "text": [
            "Epoch 136/200: Train Loss = 28.8253, Test Loss = 29.3561\n"
          ]
        },
        {
          "name": "stderr",
          "output_type": "stream",
          "text": [
            "Epoch 137/200: 100%|██████████| 782/782 [00:05<00:00, 140.61batch/s, batch_loss=29.1507]\n"
          ]
        },
        {
          "name": "stdout",
          "output_type": "stream",
          "text": [
            "Epoch 137/200: Train Loss = 28.7836, Test Loss = 29.2155\n"
          ]
        },
        {
          "name": "stderr",
          "output_type": "stream",
          "text": [
            "Epoch 138/200: 100%|██████████| 782/782 [00:05<00:00, 143.46batch/s, batch_loss=22.0436]\n"
          ]
        },
        {
          "name": "stdout",
          "output_type": "stream",
          "text": [
            "Epoch 138/200: Train Loss = 28.7712, Test Loss = 29.3372\n"
          ]
        },
        {
          "name": "stderr",
          "output_type": "stream",
          "text": [
            "Epoch 139/200: 100%|██████████| 782/782 [00:05<00:00, 139.80batch/s, batch_loss=31.9877]\n"
          ]
        },
        {
          "name": "stdout",
          "output_type": "stream",
          "text": [
            "Epoch 139/200: Train Loss = 28.8176, Test Loss = 29.6939\n"
          ]
        },
        {
          "name": "stderr",
          "output_type": "stream",
          "text": [
            "Epoch 140/200: 100%|██████████| 782/782 [00:05<00:00, 141.39batch/s, batch_loss=27.6802]\n"
          ]
        },
        {
          "name": "stdout",
          "output_type": "stream",
          "text": [
            "Epoch 140/200: Train Loss = 28.7829, Test Loss = 29.3258\n"
          ]
        },
        {
          "name": "stderr",
          "output_type": "stream",
          "text": [
            "Epoch 141/200: 100%|██████████| 782/782 [00:05<00:00, 137.42batch/s, batch_loss=25.5934]\n"
          ]
        },
        {
          "name": "stdout",
          "output_type": "stream",
          "text": [
            "Epoch 141/200: Train Loss = 28.7367, Test Loss = 29.5405\n"
          ]
        },
        {
          "name": "stderr",
          "output_type": "stream",
          "text": [
            "Epoch 142/200: 100%|██████████| 782/782 [00:05<00:00, 135.27batch/s, batch_loss=29.8758]\n"
          ]
        },
        {
          "name": "stdout",
          "output_type": "stream",
          "text": [
            "Epoch 142/200: Train Loss = 28.7562, Test Loss = 29.2618\n"
          ]
        },
        {
          "name": "stderr",
          "output_type": "stream",
          "text": [
            "Epoch 143/200: 100%|██████████| 782/782 [00:05<00:00, 135.99batch/s, batch_loss=29.9845]\n"
          ]
        },
        {
          "name": "stdout",
          "output_type": "stream",
          "text": [
            "Epoch 143/200: Train Loss = 28.7181, Test Loss = 29.2778\n"
          ]
        },
        {
          "name": "stderr",
          "output_type": "stream",
          "text": [
            "Epoch 144/200: 100%|██████████| 782/782 [00:05<00:00, 140.74batch/s, batch_loss=35.2971]\n"
          ]
        },
        {
          "name": "stdout",
          "output_type": "stream",
          "text": [
            "Epoch 144/200: Train Loss = 28.8123, Test Loss = 30.0039\n"
          ]
        },
        {
          "name": "stderr",
          "output_type": "stream",
          "text": [
            "Epoch 145/200: 100%|██████████| 782/782 [00:05<00:00, 136.72batch/s, batch_loss=26.2346]\n"
          ]
        },
        {
          "name": "stdout",
          "output_type": "stream",
          "text": [
            "Epoch 145/200: Train Loss = 29.0479, Test Loss = 29.3569\n"
          ]
        },
        {
          "name": "stderr",
          "output_type": "stream",
          "text": [
            "Epoch 146/200: 100%|██████████| 782/782 [00:05<00:00, 139.91batch/s, batch_loss=26.9712]\n"
          ]
        },
        {
          "name": "stdout",
          "output_type": "stream",
          "text": [
            "Epoch 146/200: Train Loss = 28.8191, Test Loss = 29.2701\n"
          ]
        },
        {
          "name": "stderr",
          "output_type": "stream",
          "text": [
            "Epoch 147/200: 100%|██████████| 782/782 [00:05<00:00, 139.01batch/s, batch_loss=30.1420]\n"
          ]
        },
        {
          "name": "stdout",
          "output_type": "stream",
          "text": [
            "Epoch 147/200: Train Loss = 28.7026, Test Loss = 29.3642\n"
          ]
        },
        {
          "name": "stderr",
          "output_type": "stream",
          "text": [
            "Epoch 148/200: 100%|██████████| 782/782 [00:05<00:00, 137.57batch/s, batch_loss=26.9357]\n"
          ]
        },
        {
          "name": "stdout",
          "output_type": "stream",
          "text": [
            "Epoch 148/200: Train Loss = 28.6679, Test Loss = 29.4875\n"
          ]
        },
        {
          "name": "stderr",
          "output_type": "stream",
          "text": [
            "Epoch 149/200: 100%|██████████| 782/782 [00:05<00:00, 138.96batch/s, batch_loss=27.1343]\n"
          ]
        },
        {
          "name": "stdout",
          "output_type": "stream",
          "text": [
            "Epoch 149/200: Train Loss = 28.6847, Test Loss = 29.4012\n"
          ]
        },
        {
          "name": "stderr",
          "output_type": "stream",
          "text": [
            "Epoch 150/200: 100%|██████████| 782/782 [00:05<00:00, 142.66batch/s, batch_loss=31.7571]\n"
          ]
        },
        {
          "name": "stdout",
          "output_type": "stream",
          "text": [
            "Epoch 150/200: Train Loss = 28.7122, Test Loss = 29.9087\n"
          ]
        },
        {
          "name": "stderr",
          "output_type": "stream",
          "text": [
            "Epoch 151/200: 100%|██████████| 782/782 [00:05<00:00, 140.01batch/s, batch_loss=21.7639]\n"
          ]
        },
        {
          "name": "stdout",
          "output_type": "stream",
          "text": [
            "Epoch 151/200: Train Loss = 28.6834, Test Loss = 29.7984\n"
          ]
        },
        {
          "name": "stderr",
          "output_type": "stream",
          "text": [
            "Epoch 152/200: 100%|██████████| 782/782 [00:05<00:00, 140.25batch/s, batch_loss=24.5311]\n"
          ]
        },
        {
          "name": "stdout",
          "output_type": "stream",
          "text": [
            "Epoch 152/200: Train Loss = 28.6831, Test Loss = 29.4422\n"
          ]
        },
        {
          "name": "stderr",
          "output_type": "stream",
          "text": [
            "Epoch 153/200: 100%|██████████| 782/782 [00:05<00:00, 139.41batch/s, batch_loss=26.0880]\n"
          ]
        },
        {
          "name": "stdout",
          "output_type": "stream",
          "text": [
            "Epoch 153/200: Train Loss = 28.7198, Test Loss = 29.3160\n"
          ]
        },
        {
          "name": "stderr",
          "output_type": "stream",
          "text": [
            "Epoch 154/200: 100%|██████████| 782/782 [00:05<00:00, 139.09batch/s, batch_loss=27.7414]\n"
          ]
        },
        {
          "name": "stdout",
          "output_type": "stream",
          "text": [
            "Epoch 154/200: Train Loss = 28.7041, Test Loss = 29.6192\n"
          ]
        },
        {
          "name": "stderr",
          "output_type": "stream",
          "text": [
            "Epoch 155/200: 100%|██████████| 782/782 [00:05<00:00, 141.97batch/s, batch_loss=32.2129]\n"
          ]
        },
        {
          "name": "stdout",
          "output_type": "stream",
          "text": [
            "Epoch 155/200: Train Loss = 28.7536, Test Loss = 29.7401\n"
          ]
        },
        {
          "name": "stderr",
          "output_type": "stream",
          "text": [
            "Epoch 156/200: 100%|██████████| 782/782 [00:05<00:00, 140.71batch/s, batch_loss=28.6921]\n"
          ]
        },
        {
          "name": "stdout",
          "output_type": "stream",
          "text": [
            "Epoch 156/200: Train Loss = 28.6265, Test Loss = 29.3672\n"
          ]
        },
        {
          "name": "stderr",
          "output_type": "stream",
          "text": [
            "Epoch 157/200: 100%|██████████| 782/782 [00:05<00:00, 137.01batch/s, batch_loss=27.1757]\n"
          ]
        },
        {
          "name": "stdout",
          "output_type": "stream",
          "text": [
            "Epoch 157/200: Train Loss = 28.6006, Test Loss = 29.2952\n"
          ]
        },
        {
          "name": "stderr",
          "output_type": "stream",
          "text": [
            "Epoch 158/200: 100%|██████████| 782/782 [00:05<00:00, 141.55batch/s, batch_loss=33.6380]\n"
          ]
        },
        {
          "name": "stdout",
          "output_type": "stream",
          "text": [
            "Epoch 158/200: Train Loss = 28.5863, Test Loss = 29.3060\n"
          ]
        },
        {
          "name": "stderr",
          "output_type": "stream",
          "text": [
            "Epoch 159/200: 100%|██████████| 782/782 [00:05<00:00, 140.03batch/s, batch_loss=26.8074]\n"
          ]
        },
        {
          "name": "stdout",
          "output_type": "stream",
          "text": [
            "Epoch 159/200: Train Loss = 28.7356, Test Loss = 29.2462\n"
          ]
        },
        {
          "name": "stderr",
          "output_type": "stream",
          "text": [
            "Epoch 160/200: 100%|██████████| 782/782 [00:05<00:00, 132.25batch/s, batch_loss=23.5829]\n"
          ]
        },
        {
          "name": "stdout",
          "output_type": "stream",
          "text": [
            "Epoch 160/200: Train Loss = 28.6304, Test Loss = 29.3608\n"
          ]
        },
        {
          "name": "stderr",
          "output_type": "stream",
          "text": [
            "Epoch 161/200: 100%|██████████| 782/782 [00:05<00:00, 133.33batch/s, batch_loss=31.0331]\n"
          ]
        },
        {
          "name": "stdout",
          "output_type": "stream",
          "text": [
            "Epoch 161/200: Train Loss = 28.5268, Test Loss = 29.3066\n"
          ]
        },
        {
          "name": "stderr",
          "output_type": "stream",
          "text": [
            "Epoch 162/200: 100%|██████████| 782/782 [00:05<00:00, 140.11batch/s, batch_loss=39.7654]\n"
          ]
        },
        {
          "name": "stdout",
          "output_type": "stream",
          "text": [
            "Epoch 162/200: Train Loss = 28.5530, Test Loss = 29.4461\n"
          ]
        },
        {
          "name": "stderr",
          "output_type": "stream",
          "text": [
            "Epoch 163/200: 100%|██████████| 782/782 [00:05<00:00, 139.50batch/s, batch_loss=30.0412]\n"
          ]
        },
        {
          "name": "stdout",
          "output_type": "stream",
          "text": [
            "Epoch 163/200: Train Loss = 28.6225, Test Loss = 29.4165\n"
          ]
        },
        {
          "name": "stderr",
          "output_type": "stream",
          "text": [
            "Epoch 164/200: 100%|██████████| 782/782 [00:05<00:00, 141.51batch/s, batch_loss=29.0996]\n"
          ]
        },
        {
          "name": "stdout",
          "output_type": "stream",
          "text": [
            "Epoch 164/200: Train Loss = 28.6540, Test Loss = 29.4872\n"
          ]
        },
        {
          "name": "stderr",
          "output_type": "stream",
          "text": [
            "Epoch 165/200: 100%|██████████| 782/782 [00:05<00:00, 143.61batch/s, batch_loss=34.5128]\n"
          ]
        },
        {
          "name": "stdout",
          "output_type": "stream",
          "text": [
            "Epoch 165/200: Train Loss = 28.6930, Test Loss = 29.3511\n"
          ]
        },
        {
          "name": "stderr",
          "output_type": "stream",
          "text": [
            "Epoch 166/200: 100%|██████████| 782/782 [00:05<00:00, 143.33batch/s, batch_loss=26.9410]\n"
          ]
        },
        {
          "name": "stdout",
          "output_type": "stream",
          "text": [
            "Epoch 166/200: Train Loss = 28.7076, Test Loss = 29.5630\n"
          ]
        },
        {
          "name": "stderr",
          "output_type": "stream",
          "text": [
            "Epoch 167/200: 100%|██████████| 782/782 [00:05<00:00, 143.26batch/s, batch_loss=27.7358]\n"
          ]
        },
        {
          "name": "stdout",
          "output_type": "stream",
          "text": [
            "Epoch 167/200: Train Loss = 28.6831, Test Loss = 29.5734\n"
          ]
        },
        {
          "name": "stderr",
          "output_type": "stream",
          "text": [
            "Epoch 168/200: 100%|██████████| 782/782 [00:05<00:00, 140.57batch/s, batch_loss=30.8991]\n"
          ]
        },
        {
          "name": "stdout",
          "output_type": "stream",
          "text": [
            "Epoch 168/200: Train Loss = 28.6248, Test Loss = 29.3211\n"
          ]
        },
        {
          "name": "stderr",
          "output_type": "stream",
          "text": [
            "Epoch 169/200: 100%|██████████| 782/782 [00:05<00:00, 136.09batch/s, batch_loss=29.1037]\n"
          ]
        },
        {
          "name": "stdout",
          "output_type": "stream",
          "text": [
            "Epoch 169/200: Train Loss = 28.6692, Test Loss = 29.4703\n"
          ]
        },
        {
          "name": "stderr",
          "output_type": "stream",
          "text": [
            "Epoch 170/200: 100%|██████████| 782/782 [00:05<00:00, 142.79batch/s, batch_loss=25.2464]\n"
          ]
        },
        {
          "name": "stdout",
          "output_type": "stream",
          "text": [
            "Epoch 170/200: Train Loss = 28.6490, Test Loss = 29.1734\n"
          ]
        },
        {
          "name": "stderr",
          "output_type": "stream",
          "text": [
            "Epoch 171/200: 100%|██████████| 782/782 [00:05<00:00, 140.59batch/s, batch_loss=23.5804]\n"
          ]
        },
        {
          "name": "stdout",
          "output_type": "stream",
          "text": [
            "Epoch 171/200: Train Loss = 28.6506, Test Loss = 29.2844\n"
          ]
        },
        {
          "name": "stderr",
          "output_type": "stream",
          "text": [
            "Epoch 172/200: 100%|██████████| 782/782 [00:05<00:00, 138.50batch/s, batch_loss=29.4391]\n"
          ]
        },
        {
          "name": "stdout",
          "output_type": "stream",
          "text": [
            "Epoch 172/200: Train Loss = 28.5709, Test Loss = 29.3471\n"
          ]
        },
        {
          "name": "stderr",
          "output_type": "stream",
          "text": [
            "Epoch 173/200: 100%|██████████| 782/782 [00:05<00:00, 139.15batch/s, batch_loss=25.8330]\n"
          ]
        },
        {
          "name": "stdout",
          "output_type": "stream",
          "text": [
            "Epoch 173/200: Train Loss = 28.7124, Test Loss = 29.3763\n"
          ]
        },
        {
          "name": "stderr",
          "output_type": "stream",
          "text": [
            "Epoch 174/200: 100%|██████████| 782/782 [00:05<00:00, 140.33batch/s, batch_loss=26.5632]\n"
          ]
        },
        {
          "name": "stdout",
          "output_type": "stream",
          "text": [
            "Epoch 174/200: Train Loss = 28.5963, Test Loss = 29.3171\n"
          ]
        },
        {
          "name": "stderr",
          "output_type": "stream",
          "text": [
            "Epoch 175/200: 100%|██████████| 782/782 [00:05<00:00, 144.40batch/s, batch_loss=27.0186]\n"
          ]
        },
        {
          "name": "stdout",
          "output_type": "stream",
          "text": [
            "Epoch 175/200: Train Loss = 28.5798, Test Loss = 29.3053\n"
          ]
        },
        {
          "name": "stderr",
          "output_type": "stream",
          "text": [
            "Epoch 176/200: 100%|██████████| 782/782 [00:05<00:00, 141.58batch/s, batch_loss=27.3322]\n"
          ]
        },
        {
          "name": "stdout",
          "output_type": "stream",
          "text": [
            "Epoch 176/200: Train Loss = 28.7005, Test Loss = 29.3150\n"
          ]
        },
        {
          "name": "stderr",
          "output_type": "stream",
          "text": [
            "Epoch 177/200: 100%|██████████| 782/782 [00:05<00:00, 140.42batch/s, batch_loss=30.9159]\n"
          ]
        },
        {
          "name": "stdout",
          "output_type": "stream",
          "text": [
            "Epoch 177/200: Train Loss = 28.6122, Test Loss = 29.4974\n"
          ]
        },
        {
          "name": "stderr",
          "output_type": "stream",
          "text": [
            "Epoch 178/200: 100%|██████████| 782/782 [00:05<00:00, 141.62batch/s, batch_loss=29.7808]\n"
          ]
        },
        {
          "name": "stdout",
          "output_type": "stream",
          "text": [
            "Epoch 178/200: Train Loss = 28.5952, Test Loss = 29.4673\n"
          ]
        },
        {
          "name": "stderr",
          "output_type": "stream",
          "text": [
            "Epoch 179/200: 100%|██████████| 782/782 [00:05<00:00, 142.47batch/s, batch_loss=31.0218]\n"
          ]
        },
        {
          "name": "stdout",
          "output_type": "stream",
          "text": [
            "Epoch 179/200: Train Loss = 28.6457, Test Loss = 29.3340\n"
          ]
        },
        {
          "name": "stderr",
          "output_type": "stream",
          "text": [
            "Epoch 180/200: 100%|██████████| 782/782 [00:05<00:00, 140.62batch/s, batch_loss=33.6626]\n"
          ]
        },
        {
          "name": "stdout",
          "output_type": "stream",
          "text": [
            "Epoch 180/200: Train Loss = 28.6845, Test Loss = 29.1710\n"
          ]
        },
        {
          "name": "stderr",
          "output_type": "stream",
          "text": [
            "Epoch 181/200: 100%|██████████| 782/782 [00:05<00:00, 143.67batch/s, batch_loss=25.5417]\n"
          ]
        },
        {
          "name": "stdout",
          "output_type": "stream",
          "text": [
            "Epoch 181/200: Train Loss = 28.5364, Test Loss = 29.3886\n"
          ]
        },
        {
          "name": "stderr",
          "output_type": "stream",
          "text": [
            "Epoch 182/200: 100%|██████████| 782/782 [00:05<00:00, 138.57batch/s, batch_loss=28.7497]\n"
          ]
        },
        {
          "name": "stdout",
          "output_type": "stream",
          "text": [
            "Epoch 182/200: Train Loss = 28.5147, Test Loss = 29.1807\n"
          ]
        },
        {
          "name": "stderr",
          "output_type": "stream",
          "text": [
            "Epoch 183/200: 100%|██████████| 782/782 [00:05<00:00, 141.28batch/s, batch_loss=29.0122]\n"
          ]
        },
        {
          "name": "stdout",
          "output_type": "stream",
          "text": [
            "Epoch 183/200: Train Loss = 28.4754, Test Loss = 29.2103\n"
          ]
        },
        {
          "name": "stderr",
          "output_type": "stream",
          "text": [
            "Epoch 184/200: 100%|██████████| 782/782 [00:05<00:00, 141.88batch/s, batch_loss=26.0975]\n"
          ]
        },
        {
          "name": "stdout",
          "output_type": "stream",
          "text": [
            "Epoch 184/200: Train Loss = 28.4223, Test Loss = 29.0565\n"
          ]
        },
        {
          "name": "stderr",
          "output_type": "stream",
          "text": [
            "Epoch 185/200: 100%|██████████| 782/782 [00:05<00:00, 136.79batch/s, batch_loss=27.1943]\n"
          ]
        },
        {
          "name": "stdout",
          "output_type": "stream",
          "text": [
            "Epoch 185/200: Train Loss = 28.4128, Test Loss = 29.0399\n"
          ]
        },
        {
          "name": "stderr",
          "output_type": "stream",
          "text": [
            "Epoch 186/200: 100%|██████████| 782/782 [00:05<00:00, 142.54batch/s, batch_loss=28.2983]\n"
          ]
        },
        {
          "name": "stdout",
          "output_type": "stream",
          "text": [
            "Epoch 186/200: Train Loss = 28.4989, Test Loss = 29.4430\n"
          ]
        },
        {
          "name": "stderr",
          "output_type": "stream",
          "text": [
            "Epoch 187/200: 100%|██████████| 782/782 [00:05<00:00, 137.36batch/s, batch_loss=32.9471]\n"
          ]
        },
        {
          "name": "stdout",
          "output_type": "stream",
          "text": [
            "Epoch 187/200: Train Loss = 28.6822, Test Loss = 29.3291\n"
          ]
        },
        {
          "name": "stderr",
          "output_type": "stream",
          "text": [
            "Epoch 188/200: 100%|██████████| 782/782 [00:05<00:00, 130.92batch/s, batch_loss=27.3841]\n"
          ]
        },
        {
          "name": "stdout",
          "output_type": "stream",
          "text": [
            "Epoch 188/200: Train Loss = 28.5391, Test Loss = 29.2332\n"
          ]
        },
        {
          "name": "stderr",
          "output_type": "stream",
          "text": [
            "Epoch 189/200: 100%|██████████| 782/782 [00:05<00:00, 137.22batch/s, batch_loss=37.2768]\n"
          ]
        },
        {
          "name": "stdout",
          "output_type": "stream",
          "text": [
            "Epoch 189/200: Train Loss = 28.6014, Test Loss = 29.3949\n"
          ]
        },
        {
          "name": "stderr",
          "output_type": "stream",
          "text": [
            "Epoch 190/200: 100%|██████████| 782/782 [00:05<00:00, 135.92batch/s, batch_loss=27.4988]\n"
          ]
        },
        {
          "name": "stdout",
          "output_type": "stream",
          "text": [
            "Epoch 190/200: Train Loss = 28.5910, Test Loss = 29.2976\n"
          ]
        },
        {
          "name": "stderr",
          "output_type": "stream",
          "text": [
            "Epoch 191/200: 100%|██████████| 782/782 [00:05<00:00, 140.80batch/s, batch_loss=31.2775]\n"
          ]
        },
        {
          "name": "stdout",
          "output_type": "stream",
          "text": [
            "Epoch 191/200: Train Loss = 28.4930, Test Loss = 29.2918\n"
          ]
        },
        {
          "name": "stderr",
          "output_type": "stream",
          "text": [
            "Epoch 192/200: 100%|██████████| 782/782 [00:05<00:00, 143.57batch/s, batch_loss=20.0859]\n"
          ]
        },
        {
          "name": "stdout",
          "output_type": "stream",
          "text": [
            "Epoch 192/200: Train Loss = 28.5257, Test Loss = 29.1526\n"
          ]
        },
        {
          "name": "stderr",
          "output_type": "stream",
          "text": [
            "Epoch 193/200: 100%|██████████| 782/782 [00:05<00:00, 140.94batch/s, batch_loss=30.8801]\n"
          ]
        },
        {
          "name": "stdout",
          "output_type": "stream",
          "text": [
            "Epoch 193/200: Train Loss = 28.5638, Test Loss = 29.4086\n"
          ]
        },
        {
          "name": "stderr",
          "output_type": "stream",
          "text": [
            "Epoch 194/200: 100%|██████████| 782/782 [00:05<00:00, 140.71batch/s, batch_loss=29.8774]\n"
          ]
        },
        {
          "name": "stdout",
          "output_type": "stream",
          "text": [
            "Epoch 194/200: Train Loss = 28.5040, Test Loss = 29.4232\n"
          ]
        },
        {
          "name": "stderr",
          "output_type": "stream",
          "text": [
            "Epoch 195/200: 100%|██████████| 782/782 [00:05<00:00, 139.42batch/s, batch_loss=34.0041]\n"
          ]
        },
        {
          "name": "stdout",
          "output_type": "stream",
          "text": [
            "Epoch 195/200: Train Loss = 28.4967, Test Loss = 29.3346\n"
          ]
        },
        {
          "name": "stderr",
          "output_type": "stream",
          "text": [
            "Epoch 196/200: 100%|██████████| 782/782 [00:05<00:00, 141.98batch/s, batch_loss=34.3965]\n"
          ]
        },
        {
          "name": "stdout",
          "output_type": "stream",
          "text": [
            "Epoch 196/200: Train Loss = 28.5691, Test Loss = 29.1814\n"
          ]
        },
        {
          "name": "stderr",
          "output_type": "stream",
          "text": [
            "Epoch 197/200: 100%|██████████| 782/782 [00:05<00:00, 140.60batch/s, batch_loss=27.7326]\n"
          ]
        },
        {
          "name": "stdout",
          "output_type": "stream",
          "text": [
            "Epoch 197/200: Train Loss = 28.4680, Test Loss = 29.3361\n"
          ]
        },
        {
          "name": "stderr",
          "output_type": "stream",
          "text": [
            "Epoch 198/200: 100%|██████████| 782/782 [00:05<00:00, 142.01batch/s, batch_loss=38.2192]\n"
          ]
        },
        {
          "name": "stdout",
          "output_type": "stream",
          "text": [
            "Epoch 198/200: Train Loss = 28.6296, Test Loss = 29.1585\n"
          ]
        },
        {
          "name": "stderr",
          "output_type": "stream",
          "text": [
            "Epoch 199/200: 100%|██████████| 782/782 [00:05<00:00, 136.31batch/s, batch_loss=29.5170]\n"
          ]
        },
        {
          "name": "stdout",
          "output_type": "stream",
          "text": [
            "Epoch 199/200: Train Loss = 28.4336, Test Loss = 29.2730\n"
          ]
        },
        {
          "name": "stderr",
          "output_type": "stream",
          "text": [
            "Epoch 200/200: 100%|██████████| 782/782 [00:05<00:00, 139.34batch/s, batch_loss=27.0323]\n"
          ]
        },
        {
          "name": "stdout",
          "output_type": "stream",
          "text": [
            "Epoch 200/200: Train Loss = 28.4696, Test Loss = 29.2359\n",
            "\n",
            "Total Training Time: 1276.25 seconds\n"
          ]
        },
        {
          "data": {
            "image/png": "[encoded data removed]",
            "text/plain": [
              "<Figure size 1000x600 with 1 Axes>"
            ]
          },
          "metadata": {},
          "output_type": "display_data"
        }
      ],
      "source": [
        "print(\"Begin training\")\n",
        "trained_model = train(model, train_loader, test_loader, optim, NUM_EPOCHS, BATCH_SIZE)"
      ]
    },
    {
      "cell_type": "markdown",
      "metadata": {
        "id": "DnUFW-btnBCc"
      },
      "source": [
        "### Part B\n",
        "\n",
        "Pick the first five digits in the test set and plot the original and reconstructed images.\n",
        "\n",
        "**Answer:**"
      ]
    },
    {
      "cell_type": "code",
      "execution_count": 126,
      "metadata": {
        "id": "VU8W-3DHnBCc"
      },
      "outputs": [
        {
          "data": {
            "image/png": "[encoded data removed]",
            "text/plain": [
              "<Figure size 1500x600 with 10 Axes>"
            ]
          },
          "metadata": {},
          "output_type": "display_data"
        }
      ],
      "source": [
        "# your code here\n",
        "\n",
        "# Define a function to plot the original and reconstructed images\n",
        "def plot_original_and_reconstructed(model, test_loader):\n",
        "    test_iter = iter(test_loader)\n",
        "    x, _ = next(test_iter)  \n",
        "    x = x[:5].numpy()       \n",
        "    x_flat = x.reshape(x.shape[0], -1)  \n",
        "\n",
        "    # Reconstruct the images\n",
        "    model = eqx.nn.inference_mode(model, value=True)\n",
        "    x_recon = vmap(model)(x_flat).reshape(-1, 28, 28) \n",
        "\n",
        "\n",
        "    fig, axes = plt.subplots(2, 5, figsize=(15, 6))\n",
        "\n",
        "    for i in range(5):\n",
        "        # Original images\n",
        "        axes[0, i].imshow(x[i, 0], cmap=\"gray\")\n",
        "        axes[0, i].axis(\"off\")\n",
        "        axes[0, i].set_title(\"Original\")\n",
        "\n",
        "        # Reconstructed images\n",
        "        axes[1, i].imshow(x_recon[i], cmap=\"gray\")\n",
        "        axes[1, i].axis(\"off\")\n",
        "        axes[1, i].set_title(\"Reconstructed\")\n",
        "    plt.tight_layout()\n",
        "    plt.show()\n",
        "\n",
        "# Call the function\n",
        "plot_original_and_reconstructed(trained_model, test_loader)"
      ]
    },
    {
      "cell_type": "markdown",
      "metadata": {
        "id": "koTR8IornBCc"
      },
      "source": [
        "### Part C\n",
        "\n",
        "Plot the projections of the digits in the latent space (training and test).\n",
        "\n",
        "**Answer:**"
      ]
    },
    {
      "cell_type": "code",
      "execution_count": 127,
      "metadata": {
        "id": "1usGHub2nBCc"
      },
      "outputs": [
        {
          "data": {
            "image/png": "[encoded data removed]",
            "text/plain": [
              "<Figure size 600x400 with 2 Axes>"
            ]
          },
          "metadata": {},
          "output_type": "display_data"
        },
        {
          "data": {
            "image/png": "[encoded data removed]",
            "text/plain": [
              "<Figure size 600x400 with 2 Axes>"
            ]
          },
          "metadata": {},
          "output_type": "display_data"
        }
      ],
      "source": [
        "# your code here\n",
        "\n",
        "def plot_latent_space_projections(model, loader, title):\n",
        "    # Encode all images in the loader into the latent space\n",
        "    latent_space = []\n",
        "    labels = []\n",
        "\n",
        "    for x, y in loader:\n",
        "        x = x.numpy().reshape(x.shape[0], -1)\n",
        "        latent_space.append(jax.vmap(model.encoder)(x))\n",
        "        labels.append(y.numpy())\n",
        "               \n",
        "    # labels = jnp.hstack(labels)\n",
        "    # latent_space = jnp.vstack(latent_space)\n",
        "    latent_space = jnp.concatenate(latent_space, axis=0)\n",
        "    labels = jnp.concatenate(labels, axis=0)\n",
        "\n",
        "    plt.figure(figsize=(6, 4))\n",
        "    scatter = plt.scatter(latent_space[:, 0], latent_space[:, 1], c=labels, cmap=\"tab10\", s=10, alpha=0.8)\n",
        "    plt.colorbar(scatter, label=\"Label\")\n",
        "    plt.title(f\"Latent Space Projections ({title})\")\n",
        "    plt.xlabel(\"Latent Dimension 1\")\n",
        "    plt.ylabel(\"Latent Dimension 2\")\n",
        "    plt.grid(True)\n",
        "    plt.show()\n",
        "\n",
        "# Plot projections for training and test data\n",
        "plot_latent_space_projections(trained_model, train_loader, title=\"Training Data\")\n",
        "plot_latent_space_projections(trained_model, test_loader, title=\"Test Data\")"
      ]
    },
    {
      "cell_type": "markdown",
      "metadata": {
        "id": "ZQihmU6JnBCc"
      },
      "source": [
        "### Part D\n",
        "\n",
        "Use `scikitlearn` to fit a mixture of Gaussians to the latent space. Use 10 components.\n",
        "Then sample five times from the fitted mixture of Gaussians, reconstruct the samples, and plot the reconstructed images.\n",
        "\n",
        "**Answer:**"
      ]
    },
    {
      "cell_type": "code",
      "execution_count": 128,
      "metadata": {},
      "outputs": [
        {
          "data": {
            "image/png": "[encoded data removed]",
            "text/plain": [
              "<Figure size 1000x200 with 5 Axes>"
            ]
          },
          "metadata": {},
          "output_type": "display_data"
        }
      ],
      "source": [
        "# Function to fit a Gaussian Mixture Model (GMM) to the latent space and reconstruct images\n",
        "def fit_gmm_and_reconstruct(loader, model, num_components=10, num_samples=5, random_state= None):\n",
        "\n",
        "    # same code snippet from previous block \n",
        "    latent_space = []\n",
        "    labels = []\n",
        "\n",
        "    for x, y in loader:\n",
        "        x = x.numpy().reshape(x.shape[0], -1)\n",
        "        latent_space.append(jax.vmap(model.encoder)(x))\n",
        "        labels.append(y.numpy())\n",
        "               \n",
        "    labels = jnp.hstack(labels)\n",
        "    latent_space = jnp.vstack(latent_space)\n",
        "\n",
        "    # Fit a Gaussian Mixture Model (GMM) with specified components\n",
        "    gmm = GaussianMixture(n_components=num_components, random_state=random_state)\n",
        "    gmm.fit(np.array(latent_space))\n",
        "\n",
        "    # Sample from the GMM and reconstruct the images\n",
        "    samples, _ = gmm.sample(num_samples)\n",
        "    \n",
        "    # Decode and plot\n",
        "    reconstructed_images = jax.vmap(model.decoder)(jnp.array(samples))\n",
        "    plt.figure(figsize=(10, 2))\n",
        "    for i, img in enumerate(reconstructed_images):\n",
        "        plt.subplot(1, num_samples, i + 1)\n",
        "        plt.imshow(img.reshape(28, 28), cmap='gray')\n",
        "        plt.axis('off')\n",
        "    plt.suptitle(f\"Reconstructed Images from {num_samples} GMM Samples\")\n",
        "    plt.show()\n",
        "\n",
        "# Call the function\n",
        "fit_gmm_and_reconstruct(train_loader, trained_model, num_components=10, num_samples=5, random_state=SEED)"
      ]
    }
  ],
  "metadata": {
    "colab": {
      "provenance": []
    },
    "kernelspec": {
      "display_name": "base",
      "language": "python",
      "name": "python3"
    },
    "language_info": {
      "codemirror_mode": {
        "name": "ipython",
        "version": 3
      },
      "file_extension": ".py",
      "mimetype": "text/x-python",
      "name": "python",
      "nbconvert_exporter": "python",
      "pygments_lexer": "ipython3",
      "version": "3.12.2"
    }
  },
  "nbformat": 4,
  "nbformat_minor": 0
}
