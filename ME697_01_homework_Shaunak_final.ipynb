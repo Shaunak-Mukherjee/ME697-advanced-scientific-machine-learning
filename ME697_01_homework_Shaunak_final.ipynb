{
  "cells": [
    {
      "cell_type": "code",
      "execution_count": 1,
      "metadata": {
        "id": "sRtHpRmEnBCY",
        "tags": [
          "hide-input"
        ]
      },
      "outputs": [],
      "source": [
        "import matplotlib.pyplot as plt\n",
        "%matplotlib inline\n",
        "import matplotlib_inline\n",
        "matplotlib_inline.backend_inline.set_matplotlib_formats('png')\n",
        "import seaborn as sns\n",
        "sns.set_context(\"paper\")\n",
        "sns.set_style(\"ticks\");"
      ]
    },
    {
      "cell_type": "markdown",
      "metadata": {
        "id": "6u0uy1jXnBCZ"
      },
      "source": [
        "# Homework 1\n",
        "\n",
        "## References\n",
        "\n",
        "+ Module 1: Introduction\n",
        "+ Module 2: Modern Machine Learning Software\n",
        "\n",
        "## Instructions\n",
        "\n",
        "+ Type your name and email in the \"Student details\" section below.\n",
        "+ Develop the code and generate the figures you need to solve the problems using this notebook.\n",
        "+ For the answers that require a mathematical proof or derivation you should type them using latex. If you have never written latex before and you find it exceedingly difficult, we will likely accept handwritten solutions.\n",
        "+ The total homework points are 100. Please note that the problems are not weighed equally.\n",
        "\n",
        "## Student details\n",
        "\n",
        "+ **First Name: Shaunak**\n",
        "+ **Last Name:Mukherjee**\n",
        "+ **Email:mukher86@purdue.edu**\n",
        "+ **Used generative AI to complete this assignment (Yes/No): No**\n",
        "+ **Which generative AI tool did you use (if applicable)?:  NA**"
      ]
    },
    {
      "cell_type": "markdown",
      "metadata": {
        "id": "xdpdO4yrnBCa"
      },
      "source": [
        "## Problem 1 - Recursion vs Iteration\n",
        "\n",
        "This problem adjusted from the [Structure and Interpretation of Computer Programs](https://mitpress.mit.edu/sites/default/files/sicp/full-text/book/book.html) book.\n",
        "In particular from [this section](https://mitp-content-server.mit.edu/books/content/sectbyfn/books_pres_0/6515/sicp.zip/full-text/book/book-Z-H-11.html#%_sec_1.2.1).\n",
        "\n",
        "Imagine you are working with a programming language that does not have loops.\n",
        "This is how you have to think when writing code in `Jax`.\n",
        "Let's say we want to write a function that calculates the factorial of a number:\n",
        "\n",
        "$$\n",
        "n! = n \\times (n-1) \\times (n-2) \\times \\dots \\times 1\n",
        "$$\n",
        "\n",
        "The standard recursive definition of the factorial function is:"
      ]
    },
    {
      "cell_type": "code",
      "execution_count": 2,
      "metadata": {
        "id": "9b9LrY75nBCa"
      },
      "outputs": [],
      "source": [
        "\n",
        "def factorial(n):\n",
        "    if n == 0:\n",
        "        return 1\n",
        "    else:\n",
        "        return n * factorial(n-1)"
      ]
    },
    {
      "cell_type": "markdown",
      "metadata": {
        "id": "gku35XeynBCa"
      },
      "source": [
        "Here is how it can be used:"
      ]
    },
    {
      "cell_type": "code",
      "execution_count": 3,
      "metadata": {
        "colab": {
          "base_uri": "https://localhost:8080/"
        },
        "id": "qgMuP1B5nBCa",
        "outputId": "f209260e-d9d4-43da-f5c3-3190c07cfa66"
      },
      "outputs": [
        {
          "data": {
            "text/plain": [
              "120"
            ]
          },
          "execution_count": 3,
          "metadata": {},
          "output_type": "execute_result"
        }
      ],
      "source": [
        "factorial(5)"
      ]
    },
    {
      "cell_type": "markdown",
      "metadata": {
        "id": "-oYN7OsInBCa"
      },
      "source": [
        "Let's unroll what actually happens behind the scenes:\n",
        "\n",
        "```python\n",
        "factorial(5)\n",
        "5 * factorial(4)\n",
        "5 * (4 * factorial(3))\n",
        "5 * (4 * (3 * factorial(2)))\n",
        "5 * (4 * (3 * (2 * factorial(1))))\n",
        "5 * (4 * (3 * (2 * 1)))\n",
        "5 * (4 * (3 * 2))\n",
        "5 * (4 * 6)\n",
        "5 * 24\n",
        "120\n",
        "```\n",
        "\n",
        "You quickly notice, that the amount of intermediate results that are stored in memory grows exponentially with the input.\n",
        "This won't work for large inputs, because you will run out of memory.\n",
        "But, there is another way to achieve the same result without exploding memory usage.\n",
        "We could start by multiplying 1 by 2, then the result with 3, then the result with 4, and so on.\n",
        "So, we keep track of a running product that we update.\n",
        "We don't need a loop to do this kind of iteration.\n",
        "We can do it with recursion:"
      ]
    },
    {
      "cell_type": "code",
      "execution_count": 4,
      "metadata": {
        "id": "jIjQw7Q2nBCa"
      },
      "outputs": [],
      "source": [
        "def fact_iter(product, counter, max_iter):\n",
        "    if counter > max_iter:\n",
        "        return product\n",
        "    else:\n",
        "        return fact_iter(counter * product, counter + 1, max_iter)\n",
        "\n",
        "def good_factorial(n):\n",
        "    return fact_iter(1, 1, n)"
      ]
    },
    {
      "cell_type": "markdown",
      "metadata": {
        "id": "h626z3n_nBCb"
      },
      "source": [
        "Check that this works as before:"
      ]
    },
    {
      "cell_type": "code",
      "execution_count": 5,
      "metadata": {
        "colab": {
          "base_uri": "https://localhost:8080/"
        },
        "id": "vVKVxb3bnBCb",
        "outputId": "25ebb7db-a6c9-43b1-8cbc-f4f876305235"
      },
      "outputs": [
        {
          "data": {
            "text/plain": [
              "120"
            ]
          },
          "execution_count": 5,
          "metadata": {},
          "output_type": "execute_result"
        }
      ],
      "source": [
        "good_factorial(5)"
      ]
    },
    {
      "cell_type": "markdown",
      "metadata": {
        "id": "Z1CfsIobnBCb"
      },
      "source": [
        "Here is how this unrolls:\n",
        "\n",
        "```python\n",
        "factorial(5)\n",
        "fact_iter(1, 1, 5)\n",
        "fact_iter(1, 2, 5)\n",
        "fact_iter(2, 3, 5)\n",
        "fact_iter(6, 4, 5)\n",
        "fact_iter(24, 5, 5)\n",
        "fact_iter(120, 6, 5)\n",
        "120\n",
        "```\n",
        "\n",
        "We say that the second approach is *iterative* and the first approach is *recursive*.\n",
        "We want to be writing iterative code, because it is more efficient.\n",
        "\n",
        "Write iterative code that, given $n$, computes the fibonacci number:\n",
        "\n",
        "$$\n",
        "f_n = f_{n-1} + f_{n-2}\n",
        "$$\n",
        "\n",
        "where $f_0 = 0$ and $f_1 = 1$.\n",
        "You should not use a loop!\n",
        "\n",
        "**Answer:**"
      ]
    },
    {
      "cell_type": "code",
      "execution_count": 6,
      "metadata": {
        "id": "IIdj-3-inBCb"
      },
      "outputs": [],
      "source": [
        "# Your code here - Demonstrate that it works\n",
        "\n",
        "# Define main function (no loop or recusion)\n",
        "def fibonacci_iterative(n):\n",
        "\n",
        "  if n < 0:\n",
        "\n",
        "      print(\"n must be a non-negative integer.\")\n",
        "\n",
        "  if n == 0:\n",
        "      return 0\n",
        "  if n == 1:\n",
        "      return 1\n",
        "\n",
        "  def fibo_step(a, b, counter, max_iter):\n",
        "      if counter == max_iter:\n",
        "          return b\n",
        "      return fibo_step(b, a + b, counter + 1, max_iter)\n",
        "\n",
        "  # Initial state need to be defined: (f0 = 0, f1 = 1, current step = 1, max_iter = n)\n",
        "  return fibo_step(0, 1, 1, n)"
      ]
    },
    {
      "cell_type": "markdown",
      "metadata": {
        "id": "AbXBmf73nBCb"
      },
      "source": [
        " *Here show how your code works for $n=5$ like I did above with the factorial example.*"
      ]
    },
    {
      "cell_type": "code",
      "execution_count": 7,
      "metadata": {
        "colab": {
          "base_uri": "https://localhost:8080/"
        },
        "id": "hdZRJ1WZx5Qs",
        "outputId": "ed0df0e7-8e59-4b4b-9cea-944829614289"
      },
      "outputs": [
        {
          "data": {
            "text/plain": [
              "5"
            ]
          },
          "execution_count": 7,
          "metadata": {},
          "output_type": "execute_result"
        }
      ],
      "source": [
        "# Demonstration\n",
        "fibonacci_iterative(5)"
      ]
    },
    {
      "cell_type": "markdown",
      "metadata": {
        "id": "Zio1T0hXx7PQ"
      },
      "source": [
        "This is how it should compute\n",
        "\n",
        "```\n",
        "fibonacci_iterative(5)\n",
        "fibo_step(0, 1, 1, 5)\n",
        "fibo_step(1, 1, 2, 5)\n",
        "fibo_step(1, 2, 3, 5)\n",
        "fibo_step(2, 3, 4, 5)\n",
        "fibo_step(3, 5, 5, 5)\n",
        "5\n",
        "```\n"
      ]
    },
    {
      "cell_type": "markdown",
      "metadata": {
        "id": "_VMTh02BnBCb"
      },
      "source": [
        "## Problem 2 - The `foldl` function\n",
        "\n",
        "The `foldl` function is a higher order function that is used to implement iteration.\n",
        "It is defined as follows:\n",
        "\n",
        "$$\n",
        "\\text{foldl}(f, z, [x_1, x_2, \\dots, x_n]) = f(f(\\dots f(f(z, x_1), x_2), \\dots), x_n)\n",
        "$$\n",
        "\n",
        "where $f$ is a function that takes two arguments and $z$ is the initial value.\n",
        "In words, `foldl` takes a function $f$, an initial value $z$, and a list $[x_1, x_2, \\dots, x_n]$.\n",
        "It then applies $f$ to $z$ and the first element of the list, then applies $f$ to the result of the previous application and the second element of the list, and so on.\n",
        "\n",
        "Implement `foldl` in `Python`. Pay attention to create an iterative implementation.\n",
        "\n",
        "**Answer:**"
      ]
    },
    {
      "cell_type": "code",
      "execution_count": 8,
      "metadata": {
        "id": "IQnaWg_FnBCb"
      },
      "outputs": [],
      "source": [
        "# Your code here - Demonstrate that it works\n",
        "\n",
        "# Iterative\n",
        "def foldl(f, z, lst):\n",
        "  iterator = iter(lst)\n",
        "  result = z\n",
        "\n",
        "  while True:\n",
        "      try:\n",
        "          result = f(result, next(iterator))\n",
        "      except StopIteration:\n",
        "          return result"
      ]
    },
    {
      "cell_type": "markdown",
      "metadata": {
        "id": "WnDZ7E6inBCc"
      },
      "source": [
        "Use your `foldl` function to implement the `sum` function and the `product` function.\n",
        "\n",
        "**Answer:**"
      ]
    },
    {
      "cell_type": "code",
      "execution_count": 9,
      "metadata": {
        "id": "PKyC-Ym0AEeg"
      },
      "outputs": [],
      "source": [
        "# Defining sum and product functions using foldl function\n",
        "\n",
        "def sum_list(lst):\n",
        "    return foldl(lambda x, y: x + y, 0, lst) #The initial value is 0\n",
        "\n",
        "def product_list(lst):\n",
        "  return foldl(lambda x, y: x * y, 1, lst) # The initial value is 1\n"
      ]
    },
    {
      "cell_type": "code",
      "execution_count": 10,
      "metadata": {
        "colab": {
          "base_uri": "https://localhost:8080/"
        },
        "id": "jrnUMzRQnBCc",
        "outputId": "c792a3f5-3819-4802-db4b-109eb606a91c"
      },
      "outputs": [
        {
          "name": "stdout",
          "output_type": "stream",
          "text": [
            " Sum:15\n",
            " Product:120\n"
          ]
        }
      ],
      "source": [
        "# Your code here - Demonstrate that it works\n",
        "lst = [3, 1, 2, 5, 4]\n",
        "\n",
        "print(f\" Sum:{sum_list(lst)}\")\n",
        "\n",
        "print(f\" Product:{product_list(lst)}\")"
      ]
    },
    {
      "cell_type": "markdown",
      "metadata": {
        "id": "zLLbwrtdnBCc"
      },
      "source": [
        "## Problem 3 - No Loops in Jax\n",
        "\n",
        "Use `Jax`'s [`jax.lax.scan`](https://jax.readthedocs.io/en/latest/_autosummary/jax.lax.scan.html) to implement and `jit` a function that returns the Fibonacci sequence up to a given number.\n",
        "Don't bother using integer types, just use `float32` for everything.\n",
        "\n",
        "**Answer:**"
      ]
    },
    {
      "cell_type": "code",
      "execution_count": 11,
      "metadata": {},
      "outputs": [],
      "source": [
        "# pip install -U \"jax[cpu]\""
      ]
    },
    {
      "cell_type": "code",
      "execution_count": 12,
      "metadata": {},
      "outputs": [],
      "source": [
        "# %load_ext autoreload\n",
        "# %autoreload 2"
      ]
    },
    {
      "cell_type": "code",
      "execution_count": 13,
      "metadata": {
        "colab": {
          "base_uri": "https://localhost:8080/"
        },
        "id": "ykgUfrNltSpV",
        "outputId": "33742032-13b0-491e-d43e-ea20b757d4a0"
      },
      "outputs": [
        {
          "name": "stdout",
          "output_type": "stream",
          "text": [
            " For n = 10 Fibonacci sequence is: [ 0  1  1  2  3  5  8 13 21 34]\n"
          ]
        }
      ],
      "source": [
        "import jax\n",
        "import jax.numpy as jnp\n",
        "from jax import lax\n",
        "import functools as ft\n",
        "\n",
        "# Function definition with jit, making n static\n",
        "@ft.partial(jax.jit, static_argnums=(0,))\n",
        "def fibonacci_sequence(n):\n",
        "  def f(carry, _):\n",
        "      a, b = carry\n",
        "      return (b, a + b), b\n",
        "\n",
        "  # Used jax.lax.scan here calculate the Fibonacci sequence\n",
        "  _, fibo_sequence = lax.scan(f, (jnp.float32(0), jnp.float32(1)), None, length= n-1)\n",
        "  return jnp.concatenate([jnp.array([0.], dtype=jnp.float32), fibo_sequence])\n",
        "\n",
        "\n",
        "n = 10  # Length of the Fibonacci sequence\n",
        "result = fibonacci_sequence(n)\n",
        "print(f\" For n = {n} Fibonacci sequence is: {jnp.int32(jnp.round(result))}\")\n"
      ]
    },
    {
      "cell_type": "code",
      "execution_count": 14,
      "metadata": {
        "colab": {
          "base_uri": "https://localhost:8080/"
        },
        "id": "4R7jTRRRItge",
        "outputId": "72fa26d7-a4b4-40d2-c46a-86dcd503c2aa"
      },
      "outputs": [
        {
          "name": "stdout",
          "output_type": "stream",
          "text": [
            "For n = 1, Fibonacci sequence is: [0]\n",
            "For n = 2, Fibonacci sequence is: [0 1]\n",
            "For n = 3, Fibonacci sequence is: [0 1 1]\n",
            "For n = 4, Fibonacci sequence is: [0 1 1 2]\n",
            "For n = 5, Fibonacci sequence is: [0 1 1 2 3]\n",
            "For n = 6, Fibonacci sequence is: [0 1 1 2 3 5]\n",
            "For n = 7, Fibonacci sequence is: [0 1 1 2 3 5 8]\n",
            "For n = 8, Fibonacci sequence is: [ 0  1  1  2  3  5  8 13]\n",
            "For n = 9, Fibonacci sequence is: [ 0  1  1  2  3  5  8 13 21]\n",
            "For n = 10, Fibonacci sequence is: [ 0  1  1  2  3  5  8 13 21 34]\n"
          ]
        }
      ],
      "source": [
        "# More demonstration below\n",
        "n = 10\n",
        "\n",
        "for i in range(1, n+1):\n",
        "  result = fibonacci_sequence(i)\n",
        "  int_result = jnp.int32(jnp.round(result))\n",
        "  print(f\"For n = {i}, Fibonacci sequence is: {int_result}\")"
      ]
    },
    {
      "cell_type": "markdown",
      "metadata": {
        "id": "GRLIYWwfnBCc"
      },
      "source": [
        "## Problem 4 - Feigenbaum Map\n",
        "\n",
        "Consider the function:\n",
        "\n",
        "$$\n",
        "f(x; r) = r x (1 - x)\n",
        "$$\n",
        "\n",
        "where $r$ is a parameter.\n",
        "One can define dynamics on the real line by iterating this function:\n",
        "\n",
        "$$\n",
        "x_{n+1} = f(x_n; r)\n",
        "$$\n",
        "\n",
        "where $x_n$ is the state at time $n$.\n",
        "\n",
        "This map exhibits a [period doubling cascade](https://en.wikipedia.org/wiki/Feigenbaum_constants) as $r$ increases.\n",
        "\n",
        "Write a function in `jax`, call it `logistic_map`, that takes a lot of $r$'s and $x_0$'s as inputs and returns the first $n$ states of the system.\n",
        "You should independently vectorize for the $r$'s and the $x_0$'s.\n",
        "And you should `jit`.\n",
        "Use `jax.lax.scan` to implement the iteration.\n",
        "\n",
        "**Answer:**"
      ]
    },
    {
      "cell_type": "markdown",
      "metadata": {
        "id": "nz1TAM6Ka0hh"
      },
      "source": [
        "I found a better article https://arpita95b.medium.com/feigenbaum-constant-60fe5e5b4c72"
      ]
    },
    {
      "cell_type": "code",
      "execution_count": 15,
      "metadata": {},
      "outputs": [],
      "source": [
        "# !pip show jax jaxlib"
      ]
    },
    {
      "cell_type": "code",
      "execution_count": 16,
      "metadata": {},
      "outputs": [],
      "source": [
        "# Install Cuda 12\n",
        "# !pip install --upgrade \"jax[cuda12]\" -f https://storage.googleapis.com/jax-releases/jax_cuda_releases.html\n"
      ]
    },
    {
      "cell_type": "code",
      "execution_count": 17,
      "metadata": {},
      "outputs": [],
      "source": [
        "# !pip install jax jaxlib==0.1.71+cuda110 -f https://storage.googleapis.com/jax-releases/jax_releases.html"
      ]
    },
    {
      "cell_type": "code",
      "execution_count": 18,
      "metadata": {},
      "outputs": [
        {
          "name": "stdout",
          "output_type": "stream",
          "text": [
            "GPU Device: cuda:0, CPU Device: TFRT_CPU_0\n"
          ]
        }
      ],
      "source": [
        "import jax\n",
        "gpu_device = jax.devices('gpu')[0]\n",
        "cpu_device = jax.devices('cpu')[0]\n",
        "print(f\"GPU Device: {gpu_device}, CPU Device: {cpu_device}\")"
      ]
    },
    {
      "cell_type": "code",
      "execution_count": 19,
      "metadata": {
        "id": "f031CLkRnBCc"
      },
      "outputs": [],
      "source": [
        "# Your code here - Demonstrate that it works\n",
        "import jax\n",
        "import jax.numpy as jnp\n",
        "from jax import lax, vmap\n",
        "import functools as ft\n",
        "\n",
        "gpu_device = jax.devices('gpu')[0]\n",
        "cpu_device = jax.devices('cpu')[0]\n",
        "\n",
        "@ft.partial(jax.jit, static_argnums=(2,), device=cpu_device)\n",
        "def logistic_map(rs, x0s, n):\n",
        "  def f(x, r):\n",
        "      result = r * x * (1 - x)\n",
        "      # jax.debug.print(\"f(x, r) -> r: {r}, x: {x}, result: {result}\", r=r, x=x, result=result) \n",
        "      return result\n",
        "\n",
        "  def scan(carry, _):\n",
        "      x, r = carry\n",
        "      next_x = f(x, r)\n",
        "      # jax.debug.print(\"step -> x: {x}, r: {r}, next_x: {next_x}\", x=x, r=r, next_x=next_x)\n",
        "      return (next_x, r), next_x\n",
        "\n",
        "  @vmap\n",
        "  def outer_vmap(r):\n",
        "    @vmap\n",
        "    def inner_vmap(x0):\n",
        "        _, track = jax.lax.scan(scan, (x0, r), None, length=n)\n",
        "        # jax.debug.print(\"inner_vmap -> r: {r}, x0: {x0}, track: {track}\", r=r, x0=x0, track=track[:5])\n",
        "\n",
        "        return track\n",
        "\n",
        "    return inner_vmap(x0s)\n",
        "    print(inner_vmap(x0s))\n",
        "\n",
        "  return outer_vmap(rs)\n",
        "  print(outer_vmap(rs))"
      ]
    },
    {
      "cell_type": "markdown",
      "metadata": {
        "id": "Nu5MfKXynBCc"
      },
      "source": [
        "Test your code here:"
      ]
    },
    {
      "cell_type": "code",
      "execution_count": 20,
      "metadata": {
        "id": "P502ItbRnBCc"
      },
      "outputs": [],
      "source": [
        "x0s = jnp.linspace(0, 1, 100)\n",
        "rs = jnp.linspace(0, 4, 1_000)\n",
        "n = 10_000\n",
        "data = logistic_map(rs, x0s, n)"
      ]
    },
    {
      "cell_type": "markdown",
      "metadata": {
        "id": "W3p2PX9UnBCc"
      },
      "source": [
        "Your shape should  be `(1000, 100, 10000)`:"
      ]
    },
    {
      "cell_type": "code",
      "execution_count": 21,
      "metadata": {
        "colab": {
          "base_uri": "https://localhost:8080/"
        },
        "id": "2PuUCEGZnBCc",
        "outputId": "655f20a2-3a46-4f9c-d920-5baa331584c9"
      },
      "outputs": [
        {
          "data": {
            "text/plain": [
              "(1000, 100, 10000)"
            ]
          },
          "execution_count": 21,
          "metadata": {},
          "output_type": "execute_result"
        }
      ],
      "source": [
        "data.shape"
      ]
    },
    {
      "cell_type": "markdown",
      "metadata": {
        "id": "V0TaBOZEnBCc"
      },
      "source": [
        "Discard all but the last iteration:"
      ]
    },
    {
      "cell_type": "code",
      "execution_count": 22,
      "metadata": {
        "colab": {
          "base_uri": "https://localhost:8080/"
        },
        "id": "HLSFGrmynBCc",
        "outputId": "3062f55b-9e61-4432-cd8a-ff44bcf9d30c"
      },
      "outputs": [
        {
          "data": {
            "text/plain": [
              "(1000, 100, 1)"
            ]
          },
          "execution_count": 22,
          "metadata": {},
          "output_type": "execute_result"
        }
      ],
      "source": [
        "data = data[:, :, -1:]\n",
        "data.shape"
      ]
    },
    {
      "cell_type": "markdown",
      "metadata": {
        "id": "9kcnin3mnBCc"
      },
      "source": [
        "Make the famous period doubling plot. The plot will take a while and it will take a lot of memory. I suggest you restart your kernel before moving to the next problem."
      ]
    },
    {
      "cell_type": "code",
      "execution_count": 23,
      "metadata": {
        "colab": {
          "base_uri": "https://localhost:8080/",
          "height": 431
        },
        "id": "HOpxgOacnBCc",
        "outputId": "7812db1f-b573-4317-bc3e-497f836ad243"
      },
      "outputs": [
        {
          "data": {
            "image/png": "[encoded data removed]",
            "text/plain": [
              "<Figure size 640x480 with 1 Axes>"
            ]
          },
          "metadata": {},
          "output_type": "display_data"
        }
      ],
      "source": [
        "fig, ax = plt.subplots()\n",
        "ax.plot(rs,\n",
        "        data.reshape(data.shape[0], data.shape[1] * data.shape[2]),\n",
        "        '.k',\n",
        "        ms=0.1,\n",
        "        alpha=0.5\n",
        ");"
      ]
    },
    {
      "cell_type": "markdown",
      "metadata": {
        "id": "GETJRQg5nBCc"
      },
      "source": [
        "## Problem 5 - Implement autoencoders in `jax`, `equinox`, and `optax`\n",
        "\n",
        "Implement [autoencoders](https://en.wikipedia.org/wiki/Autoencoder) in `jax` and train it on the MNIST dataset.\n",
        "Autoencoders, consist of two neural networks, an encoder and a decoder. The encoder maps the input to a latent space (typically of a much smaller dimension than the input), and the decoder maps the latent space back to the input space.\n",
        "You can think of the encoder as a compression algorithm and the decoder as a decompression algorithm.\n",
        "Alternatively, you can think of the encoder as the projection of the input data onto a lower-dimensional manifold, and the decoder as the reconstruction operator.\n",
        "\n",
        "### Part A\n",
        "Follow these directions:\n",
        "+ Pick the dimension of the latent space to be 2. This means that the encoder will map the input to a 2-dimensional space, and the decoder will map the 2-dimensional space back to the input space.\n",
        "+ Your encoder should work on a flattened version of the input image. This means that the input to the encoder is a vector of 784 elements (28x28).\n",
        "+ Start by picking your encoder $z = f(x;\\theta_f)$ to be a neural network with 2 hidden layers, each with 128 units and ReLU activations. Increase the number of units and layers if you think it is necessary.\n",
        "+ Start by picking your decoder $x' = g(z;\\theta_g)$ to be a neural network with 2 hidden layers, each with 128 units and ReLU activations. Increase the number of units and layers if you think it is necessary.\n",
        "+ Make all your neural networks in `equinox`.\n",
        "+ The loss function is the mean squared error between the input and the output of the decoder:\n",
        "\n",
        "$$\n",
        "\\mathcal{L} = \\frac{1}{N}\\sum_{i=1}^N ||x_i - g(f(x_i;\\theta_f);\\theta_g)||^2.\n",
        "$$\n",
        "\n",
        "where $N$ is the number of samples in the dataset.\n",
        "+ Split the MNIST dataset into a training and a test set.\n",
        "+ Use `optax` for the optimization.\n",
        "+ Train the autoencoder using the Adam optimizer with a learning rate of 0.001 for 1 epoch to debug. Use a batch size of 32. Feel free to play with the learning rate and batch size.\n",
        "+ Monitor the loss function on the training and test set. Increase the number of epochs up to the point where the loss function on the test set stops decreasing.\n",
        "\n",
        "Here is the dataset:"
      ]
    },
    {
      "cell_type": "code",
      "execution_count": 24,
      "metadata": {},
      "outputs": [],
      "source": [
        "# !pip install scikit-learn\n",
        "# !pip install torch\n",
        "# !pip install optax\n",
        "# !pip install torchvision"
      ]
    },
    {
      "cell_type": "code",
      "execution_count": 25,
      "metadata": {
        "id": "Stkoc3gFnBCc"
      },
      "outputs": [],
      "source": [
        "# Download the MNIST dataset\n",
        "from sklearn.datasets import fetch_openml\n",
        "import torch\n",
        "\n",
        "mnist = fetch_openml('mnist_784', version=1, parser='auto')\n",
        "\n",
        "# Split the dataset into training and test sets\n",
        "from sklearn.model_selection import train_test_split\n",
        "\n",
        "X_train_val, X_test, y_train_val, y_test = train_test_split(\n",
        "    mnist.data, mnist.target, test_size=10000, random_state=42)\n",
        "\n",
        "X_train, X_val, y_train, y_val = train_test_split(\n",
        "    X_train_val, y_train_val, test_size=10000, random_state=42)\n"
      ]
    },
    {
      "cell_type": "markdown",
      "metadata": {
        "id": "wseYfzP7nBCc"
      },
      "source": [
        "**Answer:**\n",
        "\n",
        "*Put your answer here. Use as many markdown and code blocks as you want.*"
      ]
    },
    {
      "cell_type": "code",
      "execution_count": 26,
      "metadata": {
        "id": "YR0oQYrWLQ4R"
      },
      "outputs": [],
      "source": [
        "# Import libraries\n",
        "import jax\n",
        "import jax.numpy as jnp\n",
        "from jax import lax, vmap\n",
        "import equinox as eqx\n",
        "import optax\n",
        "from sklearn.datasets import fetch_openml\n",
        "from sklearn.model_selection import train_test_split\n",
        "from sklearn.preprocessing import StandardScaler\n",
        "import numpy as np\n",
        "from tqdm import tqdm\n",
        "from torch.utils.data import Dataset, DataLoader\n",
        "from torchvision import transforms\n",
        "import jax.random as jrandom\n",
        "from sklearn.mixture import GaussianMixture"
      ]
    },
    {
      "cell_type": "markdown",
      "metadata": {},
      "source": [
        "Defined hyperparameters"
      ]
    },
    {
      "cell_type": "code",
      "execution_count": 27,
      "metadata": {},
      "outputs": [],
      "source": [
        "# Define Hyperparameters\n",
        "LEARNING_RATE = 1e-3\n",
        "NUM_EPOCHS = 200 # epoch to debug\n",
        "SEED = 42\n",
        "BATCH_SIZE = 64\n",
        "key = jrandom.PRNGKey(SEED)"
      ]
    },
    {
      "cell_type": "markdown",
      "metadata": {
        "id": "NMQi68b0zP0L"
      },
      "source": [
        "Convert to Dataloader, transform and normalize (sources https://docs.kidger.site/equinox/examples/mnist/ and https://predictivesciencelab.github.io/advanced-scientific-machine-learning/ml-software/optimization/09_gpu_training.html )"
      ]
    },
    {
      "cell_type": "code",
      "execution_count": 28,
      "metadata": {
        "id": "zI5APUfkfAWB"
      },
      "outputs": [
        {
          "name": "stdout",
          "output_type": "stream",
          "text": [
            "torch.Size([1, 28, 28])\n"
          ]
        },
        {
          "data": {
            "image/png": "[encoded data removed]",
            "text/plain": [
              "<Figure size 1000x200 with 5 Axes>"
            ]
          },
          "metadata": {},
          "output_type": "display_data"
        }
      ],
      "source": [
        "# Convert data to torch tensors and normalize\n",
        "X_train = torch.tensor(X_train.values, dtype=torch.float32) / 255.0\n",
        "X_val = torch.tensor(X_val.values, dtype=torch.float32) / 255.0\n",
        "X_test = torch.tensor(X_test.values, dtype=torch.float32) / 255.0\n",
        "y_train = torch.tensor(y_train.astype(int).values, dtype=torch.long)\n",
        "y_val = torch.tensor(y_val.astype(int).values, dtype=torch.long)\n",
        "y_test = torch.tensor(y_test.astype(int).values, dtype=torch.long)\n",
        "\n",
        "# Create a custom Dataset class for MNIST\n",
        "class MNISTDataset(Dataset):\n",
        "    def __init__(self, X, y, transform=None):\n",
        "        self.X = X\n",
        "        self.y = y\n",
        "        self.transform = transform\n",
        "\n",
        "    def __len__(self):\n",
        "        return len(self.X)\n",
        "\n",
        "    def __getitem__(self, idx):\n",
        "        image = self.X[idx].view(28, 28)\n",
        "        label = self.y[idx]\n",
        "\n",
        "        if self.transform:\n",
        "            image = self.transform(image)\n",
        "\n",
        "        return image, label\n",
        "\n",
        "# Define  transformations\n",
        "transform = transforms.Compose([\n",
        "    transforms.ToPILImage(),\n",
        "    transforms.Resize((28, 28)),\n",
        "    transforms.ToTensor(),\n",
        "])\n",
        "\n",
        "# Create DataLoader instances for training, validation, and testing\n",
        "train_dataset = MNISTDataset(X_train, y_train, transform=transform)\n",
        "val_dataset = MNISTDataset(X_val, y_val, transform=transform)\n",
        "test_dataset = MNISTDataset(X_test, y_test, transform=transform)\n",
        "\n",
        "train_loader = DataLoader(train_dataset, batch_size=BATCH_SIZE, shuffle=True)\n",
        "val_loader = DataLoader(val_dataset, batch_size=BATCH_SIZE, shuffle=False)\n",
        "test_loader = DataLoader(test_dataset, batch_size=BATCH_SIZE, shuffle=False)\n",
        "\n",
        "\n",
        "for data, labels in train_dataset:\n",
        "    print(data.shape)  # Shape of the data in the first batch\n",
        "    break\n",
        "\n",
        "# Plot and vizualize dataset\n",
        "def show_images(images, labels):\n",
        "    ncols = len(labels)\n",
        "    nrows = int(np.ceil(len(images) / ncols))\n",
        "    fig, axes = plt.subplots(nrows, ncols, figsize=(ncols * 2, nrows * 2))\n",
        "    for ax in axes.ravel():\n",
        "        ax.axis(\"off\")\n",
        "    for ax, image, label in zip(axes.ravel(), images, labels):\n",
        "        ax.imshow(image.squeeze(), cmap=\"gray\")\n",
        "        ax.set_title(int(label))\n",
        "    plt.tight_layout()\n",
        "\n",
        "# Select 5 random images and vizualize\n",
        "k = 5\n",
        "images, labels = next(iter(train_loader))\n",
        "images = images[:k]\n",
        "labels = labels[:k]\n",
        "\n",
        "# Visualize the images\n",
        "show_images(images, labels)"
      ]
    },
    {
      "cell_type": "markdown",
      "metadata": {},
      "source": [
        "Create the model"
      ]
    },
    {
      "cell_type": "code",
      "execution_count": 29,
      "metadata": {
        "id": "nr72SPoMnBCc"
      },
      "outputs": [],
      "source": [
        "# Define the encoder z=f(x;θf)  to be a neural network with 2 hidden layers, each with 128 units and ReLU activations.\n",
        "class Encoder(eqx.Module):\n",
        "    layers: list\n",
        "\n",
        "    def __init__(self, key):\n",
        "        key1, key2, key3 = jax.random.split(key, 3)\n",
        "        self.layers = [\n",
        "            eqx.nn.Linear(784, 128, key=key1),\n",
        "            eqx.nn.Linear(128, 128, key=key2),\n",
        "            eqx.nn.Linear(128, 2, key=key3),\n",
        "        ]\n",
        "\n",
        "    def __call__(self, x):\n",
        "        x = self.layers[0](x)\n",
        "        for layer in self.layers[1:]:\n",
        "            x = jax.nn.relu(layer(x))\n",
        "        return x\n",
        "\n",
        "# Define the decoder x′=g(z;θg)  to be a neural network with 2 hidden layers, each with 128 units and ReLU activations.\n",
        "class Decoder(eqx.Module):\n",
        "    layers: list\n",
        "\n",
        "    def __init__(self, key):\n",
        "        key1, key2, key3 = jax.random.split(key, 3)\n",
        "        self.layers = [\n",
        "            eqx.nn.Linear(2, 128, key=key1),\n",
        "            eqx.nn.Linear(128, 128, key=key2),\n",
        "            eqx.nn.Linear(128, 784, key=key3),\n",
        "        ]\n",
        "\n",
        "    def __call__(self, z):\n",
        "        for layer in self.layers[:-1]:\n",
        "            z = jax.nn.relu(layer(z))\n",
        "        return self.layers[-1](z)\n",
        "\n",
        "## Main model function\n",
        "class Autoencoder(eqx.Module):\n",
        "    encoder: Encoder\n",
        "    decoder: Decoder\n",
        "\n",
        "    def __init__(self, x):\n",
        "        key1, key2 = jax.random.split(key, 2)\n",
        "        self.encoder = Encoder(key)\n",
        "        self.decoder = Decoder(key)\n",
        "\n",
        "    def __call__(self, x):\n",
        "        z = self.encoder(x)\n",
        "        x_recon = self.decoder(z)\n",
        "        return x_recon\n",
        "\n",
        "# Initialize the model\n",
        "model = Autoencoder(key)"
      ]
    },
    {
      "cell_type": "markdown",
      "metadata": {
        "id": "hfZ4_VdqketC"
      },
      "source": [
        "Define MSE loss and Adam optimizer"
      ]
    },
    {
      "cell_type": "code",
      "execution_count": 30,
      "metadata": {
        "id": "8XV08VViYiBA"
      },
      "outputs": [],
      "source": [
        "# Loss function is the mean squared error between the input and the output of the decoder\n",
        "@eqx.filter_jit\n",
        "def mse_loss(model, x):\n",
        "    z = vmap(model.encoder)(x)\n",
        "    x_recon = vmap(model.decoder)(z)\n",
        "    return jnp.mean(jnp.sum((x - x_recon) ** 2, axis=1))\n",
        "\n",
        "\n",
        "# optimizer using optax done!\n",
        "optim = optax.adamw(LEARNING_RATE)"
      ]
    },
    {
      "cell_type": "markdown",
      "metadata": {
        "id": "4-Y6X_yAl5LX"
      },
      "source": [
        "Evaluate loss"
      ]
    },
    {
      "cell_type": "code",
      "execution_count": 31,
      "metadata": {
        "id": "2t77RGBkags6"
      },
      "outputs": [],
      "source": [
        "# Define function to update the model losses\n",
        "def evaluate(model,test_data):\n",
        "    avg_loss = 0\n",
        "\n",
        "    for x, y in test_loader:\n",
        "        x = x.numpy()\n",
        "        x = x.reshape(x.shape[0], -1)\n",
        "        avg_loss += mse_loss(model, x)\n",
        "    return avg_loss / len(test_data)"
      ]
    },
    {
      "cell_type": "markdown",
      "metadata": {},
      "source": [
        "Define Training loop"
      ]
    },
    {
      "cell_type": "code",
      "execution_count": 32,
      "metadata": {},
      "outputs": [],
      "source": [
        "# Define main training loop\n",
        "import time\n",
        "\n",
        "def train(model, train_loader, test_loader, optim, num_epochs, batch_size):\n",
        "    opt_state = optim.init(eqx.filter(model, eqx.is_array))\n",
        "\n",
        "    # Lists to store the losses\n",
        "    epoch_train_losses = []\n",
        "    epoch_test_losses = []\n",
        "\n",
        "    @eqx.filter_jit\n",
        "    def make_step(model, opt_state, x):\n",
        "        loss_value, grads = eqx.filter_value_and_grad(mse_loss)(model, x)\n",
        "        updates, opt_state = optim.update(grads, opt_state, model)\n",
        "        model = eqx.apply_updates(model, updates)\n",
        "        return model, opt_state, loss_value\n",
        "    \n",
        "    # Overall training time\n",
        "    start_time = time.time()\n",
        "    \n",
        "    # Training loop with tqdm\n",
        "    for epoch in range(num_epochs):\n",
        "        epoch_start_time = time.time()\n",
        "        epoch_train_loss = 0\n",
        "        with tqdm(total=len(train_loader), desc=f\"Epoch {epoch+1}/{num_epochs}\", unit=\"batch\") as pbar:\n",
        "            for step, (x, y) in enumerate(train_loader):\n",
        "\n",
        "                x = x.numpy()\n",
        "                x = x.reshape(x.shape[0], -1)  # Flatten the images\n",
        "\n",
        "                model = eqx.nn.inference_mode(model, value=False)\n",
        "                model, opt_state, batch_loss = make_step(model, opt_state, x)\n",
        "\n",
        "                epoch_train_loss += batch_loss  \n",
        "\n",
        "                pbar.set_postfix(batch_loss=f\"{batch_loss:.4f}\")\n",
        "                pbar.update(1)\n",
        "\n",
        "        # Compute average loss for the epoch\n",
        "        epoch_train_loss /= len(train_loader)\n",
        "        epoch_train_losses.append(epoch_train_loss)\n",
        "\n",
        "        # Evaluate on the test set\n",
        "        model = eqx.nn.inference_mode(model, value=True)\n",
        "        test_loss = evaluate(model, test_loader)\n",
        "        epoch_test_losses.append(test_loss)\n",
        "        \n",
        "        \n",
        "        epoch_end_time = time.time()\n",
        "        epoch_duration = epoch_end_time - epoch_start_time\n",
        "\n",
        "        # Print epoch losses\n",
        "        print(f\"Epoch {epoch+1}/{num_epochs}: Train Loss = {epoch_train_loss:.4f}, Test Loss = {test_loss:.4f}\")\\\n",
        "    # Overall training time\n",
        "    total_training_time = time.time() - start_time\n",
        "    print(f\"\\nTotal Training Time: {total_training_time:.2f} seconds\")\n",
        "    \n",
        "    # Plot the loss curve after training\n",
        "    plt.figure(figsize=(10, 6))\n",
        "    plt.plot(range(1, num_epochs+1), epoch_train_losses, label=\"Training Loss\", color='blue')\n",
        "    plt.plot(range(1, num_epochs+1), epoch_test_losses, label=\"Test Loss\", color='red')\n",
        "    plt.xlabel('Epochs')\n",
        "    plt.ylabel('Loss')\n",
        "    plt.title('Epoch vs. Loss')\n",
        "    plt.legend()\n",
        "    plt.grid(True)\n",
        "    plt.show()\n",
        "    return model"
      ]
    },
    {
      "cell_type": "markdown",
      "metadata": {},
      "source": [
        "Moving model to either CPU or GPU (https://predictivesciencelab.github.io/advanced-scientific-machine-learning/ml-software/optimization/09_gpu_training.html)."
      ]
    },
    {
      "cell_type": "code",
      "execution_count": 33,
      "metadata": {
        "colab": {
          "base_uri": "https://localhost:8080/"
        },
        "id": "LK96K_GRrB5q",
        "outputId": "3bc48e07-af05-40f0-fd98-70682778beeb"
      },
      "outputs": [
        {
          "name": "stdout",
          "output_type": "stream",
          "text": [
            "The model is on GPU: cuda:0\n"
          ]
        }
      ],
      "source": [
        "# Check if GPU is available\n",
        "is_gpu_avail = len(jax.devices('gpu')) > 0\n",
        "\n",
        "# Helper functions for committing JAX arrays to a GPU or CPU\n",
        "trained_model_cpu = lambda x: jax.device_put(x, jax.devices('cpu')[0]) if isinstance(x, jax.Array) else x\n",
        "trained_model_gpu = lambda x: jax.device_put(x, jax.devices('gpu')[0]) if isinstance(x, jax.Array) else x\n",
        "\n",
        "# Define functions to transfer model to CPU or GPU\n",
        "def commit_model_to_device(model, is_gpu_avail):\n",
        "    if is_gpu_avail:\n",
        "        model = jax.tree.map(trained_model_gpu, model)\n",
        "    else:\n",
        "        model = jax.tree.map(trained_model_cpu, model)\n",
        "    return model\n",
        "\n",
        "# Commit model to appropriate device (CPU or GPU)\n",
        "model = commit_model_to_device(model, is_gpu_avail)\n",
        "\n",
        "# Print where the model is located\n",
        "if is_gpu_avail:\n",
        "    print('The model is on GPU:', jax.devices('gpu')[0])\n",
        "else:\n",
        "    print('The model is on CPU:', jax.devices('cpu')[0])"
      ]
    },
    {
      "cell_type": "markdown",
      "metadata": {
        "id": "2Y3IqFnaLZ2M"
      },
      "source": [
        "Let me training begin!"
      ]
    },
    {
      "cell_type": "code",
      "execution_count": 34,
      "metadata": {
        "colab": {
          "base_uri": "https://localhost:8080/"
        },
        "id": "0Gco-ylxspyX",
        "outputId": "73c0ac83-e879-4234-b5bd-2e64fa5f45aa"
      },
      "outputs": [
        {
          "name": "stdout",
          "output_type": "stream",
          "text": [
            "Begin training\n"
          ]
        },
        {
          "name": "stderr",
          "output_type": "stream",
          "text": [
            "Epoch 1/200: 100%|██████████| 782/782 [00:14<00:00, 52.87batch/s, batch_loss=50.3036] \n"
          ]
        },
        {
          "name": "stdout",
          "output_type": "stream",
          "text": [
            "Epoch 1/200: Train Loss = 46.5006, Test Loss = 44.0154\n"
          ]
        },
        {
          "name": "stderr",
          "output_type": "stream",
          "text": [
            "Epoch 2/200: 100%|██████████| 782/782 [00:06<00:00, 125.11batch/s, batch_loss=42.5551]\n"
          ]
        },
        {
          "name": "stdout",
          "output_type": "stream",
          "text": [
            "Epoch 2/200: Train Loss = 43.2612, Test Loss = 43.0835\n"
          ]
        },
        {
          "name": "stderr",
          "output_type": "stream",
          "text": [
            "Epoch 3/200: 100%|██████████| 782/782 [00:06<00:00, 125.88batch/s, batch_loss=45.3965]\n"
          ]
        },
        {
          "name": "stdout",
          "output_type": "stream",
          "text": [
            "Epoch 3/200: Train Loss = 42.1212, Test Loss = 41.3490\n"
          ]
        },
        {
          "name": "stderr",
          "output_type": "stream",
          "text": [
            "Epoch 4/200: 100%|██████████| 782/782 [00:06<00:00, 130.23batch/s, batch_loss=39.8372]\n"
          ]
        },
        {
          "name": "stdout",
          "output_type": "stream",
          "text": [
            "Epoch 4/200: Train Loss = 40.9848, Test Loss = 40.6678\n"
          ]
        },
        {
          "name": "stderr",
          "output_type": "stream",
          "text": [
            "Epoch 5/200: 100%|██████████| 782/782 [00:06<00:00, 129.26batch/s, batch_loss=38.1701]\n"
          ]
        },
        {
          "name": "stdout",
          "output_type": "stream",
          "text": [
            "Epoch 5/200: Train Loss = 40.2695, Test Loss = 39.8375\n"
          ]
        },
        {
          "name": "stderr",
          "output_type": "stream",
          "text": [
            "Epoch 6/200: 100%|██████████| 782/782 [00:06<00:00, 119.57batch/s, batch_loss=36.6556]\n"
          ]
        },
        {
          "name": "stdout",
          "output_type": "stream",
          "text": [
            "Epoch 6/200: Train Loss = 39.8709, Test Loss = 40.2953\n"
          ]
        },
        {
          "name": "stderr",
          "output_type": "stream",
          "text": [
            "Epoch 7/200: 100%|██████████| 782/782 [00:06<00:00, 124.25batch/s, batch_loss=39.1642]\n"
          ]
        },
        {
          "name": "stdout",
          "output_type": "stream",
          "text": [
            "Epoch 7/200: Train Loss = 39.4839, Test Loss = 39.2728\n"
          ]
        },
        {
          "name": "stderr",
          "output_type": "stream",
          "text": [
            "Epoch 8/200: 100%|██████████| 782/782 [00:06<00:00, 124.02batch/s, batch_loss=42.0109]\n"
          ]
        },
        {
          "name": "stdout",
          "output_type": "stream",
          "text": [
            "Epoch 8/200: Train Loss = 39.1866, Test Loss = 38.8909\n"
          ]
        },
        {
          "name": "stderr",
          "output_type": "stream",
          "text": [
            "Epoch 9/200: 100%|██████████| 782/782 [00:06<00:00, 126.31batch/s, batch_loss=39.7876]\n"
          ]
        },
        {
          "name": "stdout",
          "output_type": "stream",
          "text": [
            "Epoch 9/200: Train Loss = 39.0770, Test Loss = 39.1490\n"
          ]
        },
        {
          "name": "stderr",
          "output_type": "stream",
          "text": [
            "Epoch 10/200: 100%|██████████| 782/782 [00:06<00:00, 121.03batch/s, batch_loss=39.1465]\n"
          ]
        },
        {
          "name": "stdout",
          "output_type": "stream",
          "text": [
            "Epoch 10/200: Train Loss = 38.9006, Test Loss = 38.8411\n"
          ]
        },
        {
          "name": "stderr",
          "output_type": "stream",
          "text": [
            "Epoch 11/200: 100%|██████████| 782/782 [00:06<00:00, 120.44batch/s, batch_loss=38.5972]\n"
          ]
        },
        {
          "name": "stdout",
          "output_type": "stream",
          "text": [
            "Epoch 11/200: Train Loss = 38.6398, Test Loss = 38.9576\n"
          ]
        },
        {
          "name": "stderr",
          "output_type": "stream",
          "text": [
            "Epoch 12/200: 100%|██████████| 782/782 [00:06<00:00, 129.22batch/s, batch_loss=33.8948]\n"
          ]
        },
        {
          "name": "stdout",
          "output_type": "stream",
          "text": [
            "Epoch 12/200: Train Loss = 38.5379, Test Loss = 38.5189\n"
          ]
        },
        {
          "name": "stderr",
          "output_type": "stream",
          "text": [
            "Epoch 13/200: 100%|██████████| 782/782 [00:06<00:00, 126.94batch/s, batch_loss=32.7065]\n"
          ]
        },
        {
          "name": "stdout",
          "output_type": "stream",
          "text": [
            "Epoch 13/200: Train Loss = 38.5044, Test Loss = 39.6635\n"
          ]
        },
        {
          "name": "stderr",
          "output_type": "stream",
          "text": [
            "Epoch 14/200: 100%|██████████| 782/782 [00:05<00:00, 132.89batch/s, batch_loss=43.6786]\n"
          ]
        },
        {
          "name": "stdout",
          "output_type": "stream",
          "text": [
            "Epoch 14/200: Train Loss = 38.2416, Test Loss = 39.7369\n"
          ]
        },
        {
          "name": "stderr",
          "output_type": "stream",
          "text": [
            "Epoch 15/200: 100%|██████████| 782/782 [00:06<00:00, 125.93batch/s, batch_loss=31.3085]\n"
          ]
        },
        {
          "name": "stdout",
          "output_type": "stream",
          "text": [
            "Epoch 15/200: Train Loss = 38.0026, Test Loss = 38.8162\n"
          ]
        },
        {
          "name": "stderr",
          "output_type": "stream",
          "text": [
            "Epoch 16/200: 100%|██████████| 782/782 [00:05<00:00, 130.49batch/s, batch_loss=37.5971]\n"
          ]
        },
        {
          "name": "stdout",
          "output_type": "stream",
          "text": [
            "Epoch 16/200: Train Loss = 38.0264, Test Loss = 37.6824\n"
          ]
        },
        {
          "name": "stderr",
          "output_type": "stream",
          "text": [
            "Epoch 17/200: 100%|██████████| 782/782 [00:05<00:00, 133.71batch/s, batch_loss=35.3877]\n"
          ]
        },
        {
          "name": "stdout",
          "output_type": "stream",
          "text": [
            "Epoch 17/200: Train Loss = 37.8814, Test Loss = 38.4235\n"
          ]
        },
        {
          "name": "stderr",
          "output_type": "stream",
          "text": [
            "Epoch 18/200: 100%|██████████| 782/782 [00:06<00:00, 128.64batch/s, batch_loss=38.0054]\n"
          ]
        },
        {
          "name": "stdout",
          "output_type": "stream",
          "text": [
            "Epoch 18/200: Train Loss = 37.8655, Test Loss = 38.2762\n"
          ]
        },
        {
          "name": "stderr",
          "output_type": "stream",
          "text": [
            "Epoch 19/200: 100%|██████████| 782/782 [00:06<00:00, 130.05batch/s, batch_loss=36.8911]\n"
          ]
        },
        {
          "name": "stdout",
          "output_type": "stream",
          "text": [
            "Epoch 19/200: Train Loss = 37.7334, Test Loss = 37.5557\n"
          ]
        },
        {
          "name": "stderr",
          "output_type": "stream",
          "text": [
            "Epoch 20/200: 100%|██████████| 782/782 [00:06<00:00, 126.60batch/s, batch_loss=31.6426]\n"
          ]
        },
        {
          "name": "stdout",
          "output_type": "stream",
          "text": [
            "Epoch 20/200: Train Loss = 37.6562, Test Loss = 37.5280\n"
          ]
        },
        {
          "name": "stderr",
          "output_type": "stream",
          "text": [
            "Epoch 21/200: 100%|██████████| 782/782 [00:06<00:00, 130.19batch/s, batch_loss=39.8890]\n"
          ]
        },
        {
          "name": "stdout",
          "output_type": "stream",
          "text": [
            "Epoch 21/200: Train Loss = 37.8791, Test Loss = 37.5093\n"
          ]
        },
        {
          "name": "stderr",
          "output_type": "stream",
          "text": [
            "Epoch 22/200: 100%|██████████| 782/782 [00:05<00:00, 130.96batch/s, batch_loss=39.0617]\n"
          ]
        },
        {
          "name": "stdout",
          "output_type": "stream",
          "text": [
            "Epoch 22/200: Train Loss = 37.4864, Test Loss = 37.6405\n"
          ]
        },
        {
          "name": "stderr",
          "output_type": "stream",
          "text": [
            "Epoch 23/200: 100%|██████████| 782/782 [00:05<00:00, 132.45batch/s, batch_loss=35.2741]\n"
          ]
        },
        {
          "name": "stdout",
          "output_type": "stream",
          "text": [
            "Epoch 23/200: Train Loss = 37.5823, Test Loss = 37.7163\n"
          ]
        },
        {
          "name": "stderr",
          "output_type": "stream",
          "text": [
            "Epoch 24/200: 100%|██████████| 782/782 [00:06<00:00, 129.44batch/s, batch_loss=34.8787]\n"
          ]
        },
        {
          "name": "stdout",
          "output_type": "stream",
          "text": [
            "Epoch 24/200: Train Loss = 37.4542, Test Loss = 37.5590\n"
          ]
        },
        {
          "name": "stderr",
          "output_type": "stream",
          "text": [
            "Epoch 25/200: 100%|██████████| 782/782 [00:06<00:00, 129.88batch/s, batch_loss=42.0547]\n"
          ]
        },
        {
          "name": "stdout",
          "output_type": "stream",
          "text": [
            "Epoch 25/200: Train Loss = 37.1373, Test Loss = 37.1847\n"
          ]
        },
        {
          "name": "stderr",
          "output_type": "stream",
          "text": [
            "Epoch 26/200: 100%|██████████| 782/782 [00:05<00:00, 132.91batch/s, batch_loss=42.4410]\n"
          ]
        },
        {
          "name": "stdout",
          "output_type": "stream",
          "text": [
            "Epoch 26/200: Train Loss = 37.1874, Test Loss = 36.9431\n"
          ]
        },
        {
          "name": "stderr",
          "output_type": "stream",
          "text": [
            "Epoch 27/200: 100%|██████████| 782/782 [00:06<00:00, 128.66batch/s, batch_loss=34.0856]\n"
          ]
        },
        {
          "name": "stdout",
          "output_type": "stream",
          "text": [
            "Epoch 27/200: Train Loss = 37.0196, Test Loss = 37.8223\n"
          ]
        },
        {
          "name": "stderr",
          "output_type": "stream",
          "text": [
            "Epoch 28/200: 100%|██████████| 782/782 [00:06<00:00, 127.73batch/s, batch_loss=34.6632]\n"
          ]
        },
        {
          "name": "stdout",
          "output_type": "stream",
          "text": [
            "Epoch 28/200: Train Loss = 37.0906, Test Loss = 37.1406\n"
          ]
        },
        {
          "name": "stderr",
          "output_type": "stream",
          "text": [
            "Epoch 29/200: 100%|██████████| 782/782 [00:05<00:00, 131.51batch/s, batch_loss=36.9578]\n"
          ]
        },
        {
          "name": "stdout",
          "output_type": "stream",
          "text": [
            "Epoch 29/200: Train Loss = 37.0436, Test Loss = 36.9240\n"
          ]
        },
        {
          "name": "stderr",
          "output_type": "stream",
          "text": [
            "Epoch 30/200: 100%|██████████| 782/782 [00:06<00:00, 123.26batch/s, batch_loss=34.7745]\n"
          ]
        },
        {
          "name": "stdout",
          "output_type": "stream",
          "text": [
            "Epoch 30/200: Train Loss = 37.0301, Test Loss = 37.0923\n"
          ]
        },
        {
          "name": "stderr",
          "output_type": "stream",
          "text": [
            "Epoch 31/200: 100%|██████████| 782/782 [00:05<00:00, 133.95batch/s, batch_loss=35.9871]\n"
          ]
        },
        {
          "name": "stdout",
          "output_type": "stream",
          "text": [
            "Epoch 31/200: Train Loss = 36.9176, Test Loss = 37.1032\n"
          ]
        },
        {
          "name": "stderr",
          "output_type": "stream",
          "text": [
            "Epoch 32/200: 100%|██████████| 782/782 [00:06<00:00, 128.83batch/s, batch_loss=37.5080]\n"
          ]
        },
        {
          "name": "stdout",
          "output_type": "stream",
          "text": [
            "Epoch 32/200: Train Loss = 36.7547, Test Loss = 37.0330\n"
          ]
        },
        {
          "name": "stderr",
          "output_type": "stream",
          "text": [
            "Epoch 33/200: 100%|██████████| 782/782 [00:06<00:00, 123.50batch/s, batch_loss=47.4982]\n"
          ]
        },
        {
          "name": "stdout",
          "output_type": "stream",
          "text": [
            "Epoch 33/200: Train Loss = 36.5861, Test Loss = 37.4194\n"
          ]
        },
        {
          "name": "stderr",
          "output_type": "stream",
          "text": [
            "Epoch 34/200: 100%|██████████| 782/782 [00:05<00:00, 130.79batch/s, batch_loss=36.9957]\n"
          ]
        },
        {
          "name": "stdout",
          "output_type": "stream",
          "text": [
            "Epoch 34/200: Train Loss = 36.7872, Test Loss = 36.9823\n"
          ]
        },
        {
          "name": "stderr",
          "output_type": "stream",
          "text": [
            "Epoch 35/200: 100%|██████████| 782/782 [00:06<00:00, 122.72batch/s, batch_loss=37.6690]\n"
          ]
        },
        {
          "name": "stdout",
          "output_type": "stream",
          "text": [
            "Epoch 35/200: Train Loss = 36.7287, Test Loss = 36.3707\n"
          ]
        },
        {
          "name": "stderr",
          "output_type": "stream",
          "text": [
            "Epoch 36/200: 100%|██████████| 782/782 [00:06<00:00, 126.90batch/s, batch_loss=30.7472]\n"
          ]
        },
        {
          "name": "stdout",
          "output_type": "stream",
          "text": [
            "Epoch 36/200: Train Loss = 36.6538, Test Loss = 37.7370\n"
          ]
        },
        {
          "name": "stderr",
          "output_type": "stream",
          "text": [
            "Epoch 37/200: 100%|██████████| 782/782 [00:06<00:00, 127.92batch/s, batch_loss=35.9414]\n"
          ]
        },
        {
          "name": "stdout",
          "output_type": "stream",
          "text": [
            "Epoch 37/200: Train Loss = 36.6491, Test Loss = 36.6573\n"
          ]
        },
        {
          "name": "stderr",
          "output_type": "stream",
          "text": [
            "Epoch 38/200: 100%|██████████| 782/782 [00:06<00:00, 128.41batch/s, batch_loss=34.9154]\n"
          ]
        },
        {
          "name": "stdout",
          "output_type": "stream",
          "text": [
            "Epoch 38/200: Train Loss = 36.6128, Test Loss = 37.5985\n"
          ]
        },
        {
          "name": "stderr",
          "output_type": "stream",
          "text": [
            "Epoch 39/200: 100%|██████████| 782/782 [00:06<00:00, 124.82batch/s, batch_loss=37.0647]\n"
          ]
        },
        {
          "name": "stdout",
          "output_type": "stream",
          "text": [
            "Epoch 39/200: Train Loss = 36.6032, Test Loss = 36.8060\n"
          ]
        },
        {
          "name": "stderr",
          "output_type": "stream",
          "text": [
            "Epoch 40/200: 100%|██████████| 782/782 [00:06<00:00, 125.75batch/s, batch_loss=36.6421]\n"
          ]
        },
        {
          "name": "stdout",
          "output_type": "stream",
          "text": [
            "Epoch 40/200: Train Loss = 36.5048, Test Loss = 36.5076\n"
          ]
        },
        {
          "name": "stderr",
          "output_type": "stream",
          "text": [
            "Epoch 41/200: 100%|██████████| 782/782 [00:06<00:00, 124.56batch/s, batch_loss=35.6032]\n"
          ]
        },
        {
          "name": "stdout",
          "output_type": "stream",
          "text": [
            "Epoch 41/200: Train Loss = 36.6136, Test Loss = 36.9108\n"
          ]
        },
        {
          "name": "stderr",
          "output_type": "stream",
          "text": [
            "Epoch 42/200: 100%|██████████| 782/782 [00:06<00:00, 126.89batch/s, batch_loss=31.1070]\n"
          ]
        },
        {
          "name": "stdout",
          "output_type": "stream",
          "text": [
            "Epoch 42/200: Train Loss = 36.8733, Test Loss = 36.7949\n"
          ]
        },
        {
          "name": "stderr",
          "output_type": "stream",
          "text": [
            "Epoch 43/200: 100%|██████████| 782/782 [00:05<00:00, 130.69batch/s, batch_loss=35.5532]\n"
          ]
        },
        {
          "name": "stdout",
          "output_type": "stream",
          "text": [
            "Epoch 43/200: Train Loss = 36.6023, Test Loss = 36.7041\n"
          ]
        },
        {
          "name": "stderr",
          "output_type": "stream",
          "text": [
            "Epoch 44/200: 100%|██████████| 782/782 [00:06<00:00, 130.12batch/s, batch_loss=38.7239]\n"
          ]
        },
        {
          "name": "stdout",
          "output_type": "stream",
          "text": [
            "Epoch 44/200: Train Loss = 36.7414, Test Loss = 36.2192\n"
          ]
        },
        {
          "name": "stderr",
          "output_type": "stream",
          "text": [
            "Epoch 45/200: 100%|██████████| 782/782 [00:05<00:00, 130.89batch/s, batch_loss=36.1279]\n"
          ]
        },
        {
          "name": "stdout",
          "output_type": "stream",
          "text": [
            "Epoch 45/200: Train Loss = 36.3410, Test Loss = 36.4405\n"
          ]
        },
        {
          "name": "stderr",
          "output_type": "stream",
          "text": [
            "Epoch 46/200: 100%|██████████| 782/782 [00:06<00:00, 128.68batch/s, batch_loss=36.5389]\n"
          ]
        },
        {
          "name": "stdout",
          "output_type": "stream",
          "text": [
            "Epoch 46/200: Train Loss = 36.3060, Test Loss = 36.4440\n"
          ]
        },
        {
          "name": "stderr",
          "output_type": "stream",
          "text": [
            "Epoch 47/200: 100%|██████████| 782/782 [00:05<00:00, 130.89batch/s, batch_loss=40.7970]\n"
          ]
        },
        {
          "name": "stdout",
          "output_type": "stream",
          "text": [
            "Epoch 47/200: Train Loss = 36.3022, Test Loss = 36.9153\n"
          ]
        },
        {
          "name": "stderr",
          "output_type": "stream",
          "text": [
            "Epoch 48/200: 100%|██████████| 782/782 [00:06<00:00, 129.79batch/s, batch_loss=30.7247]\n"
          ]
        },
        {
          "name": "stdout",
          "output_type": "stream",
          "text": [
            "Epoch 48/200: Train Loss = 36.1898, Test Loss = 36.1529\n"
          ]
        },
        {
          "name": "stderr",
          "output_type": "stream",
          "text": [
            "Epoch 49/200: 100%|██████████| 782/782 [00:05<00:00, 132.60batch/s, batch_loss=47.8957]\n"
          ]
        },
        {
          "name": "stdout",
          "output_type": "stream",
          "text": [
            "Epoch 49/200: Train Loss = 36.2598, Test Loss = 36.8431\n"
          ]
        },
        {
          "name": "stderr",
          "output_type": "stream",
          "text": [
            "Epoch 50/200: 100%|██████████| 782/782 [00:05<00:00, 132.15batch/s, batch_loss=39.2940]\n"
          ]
        },
        {
          "name": "stdout",
          "output_type": "stream",
          "text": [
            "Epoch 50/200: Train Loss = 36.2974, Test Loss = 36.6212\n"
          ]
        },
        {
          "name": "stderr",
          "output_type": "stream",
          "text": [
            "Epoch 51/200: 100%|██████████| 782/782 [00:05<00:00, 132.19batch/s, batch_loss=34.7150]\n"
          ]
        },
        {
          "name": "stdout",
          "output_type": "stream",
          "text": [
            "Epoch 51/200: Train Loss = 36.1532, Test Loss = 35.9461\n"
          ]
        },
        {
          "name": "stderr",
          "output_type": "stream",
          "text": [
            "Epoch 52/200: 100%|██████████| 782/782 [00:05<00:00, 133.41batch/s, batch_loss=33.6347]\n"
          ]
        },
        {
          "name": "stdout",
          "output_type": "stream",
          "text": [
            "Epoch 52/200: Train Loss = 36.2934, Test Loss = 36.3144\n"
          ]
        },
        {
          "name": "stderr",
          "output_type": "stream",
          "text": [
            "Epoch 53/200: 100%|██████████| 782/782 [00:06<00:00, 127.34batch/s, batch_loss=34.6793]\n"
          ]
        },
        {
          "name": "stdout",
          "output_type": "stream",
          "text": [
            "Epoch 53/200: Train Loss = 36.0127, Test Loss = 36.4663\n"
          ]
        },
        {
          "name": "stderr",
          "output_type": "stream",
          "text": [
            "Epoch 54/200: 100%|██████████| 782/782 [00:06<00:00, 129.44batch/s, batch_loss=27.8794]\n"
          ]
        },
        {
          "name": "stdout",
          "output_type": "stream",
          "text": [
            "Epoch 54/200: Train Loss = 35.9843, Test Loss = 36.1417\n"
          ]
        },
        {
          "name": "stderr",
          "output_type": "stream",
          "text": [
            "Epoch 55/200: 100%|██████████| 782/782 [00:06<00:00, 128.03batch/s, batch_loss=40.1592]\n"
          ]
        },
        {
          "name": "stdout",
          "output_type": "stream",
          "text": [
            "Epoch 55/200: Train Loss = 35.9660, Test Loss = 36.7421\n"
          ]
        },
        {
          "name": "stderr",
          "output_type": "stream",
          "text": [
            "Epoch 56/200: 100%|██████████| 782/782 [00:06<00:00, 128.45batch/s, batch_loss=38.7528]\n"
          ]
        },
        {
          "name": "stdout",
          "output_type": "stream",
          "text": [
            "Epoch 56/200: Train Loss = 36.1133, Test Loss = 37.1431\n"
          ]
        },
        {
          "name": "stderr",
          "output_type": "stream",
          "text": [
            "Epoch 57/200: 100%|██████████| 782/782 [00:06<00:00, 130.02batch/s, batch_loss=41.2146]\n"
          ]
        },
        {
          "name": "stdout",
          "output_type": "stream",
          "text": [
            "Epoch 57/200: Train Loss = 36.2960, Test Loss = 37.0888\n"
          ]
        },
        {
          "name": "stderr",
          "output_type": "stream",
          "text": [
            "Epoch 58/200: 100%|██████████| 782/782 [00:05<00:00, 131.96batch/s, batch_loss=30.5915]\n"
          ]
        },
        {
          "name": "stdout",
          "output_type": "stream",
          "text": [
            "Epoch 58/200: Train Loss = 35.8232, Test Loss = 36.4429\n"
          ]
        },
        {
          "name": "stderr",
          "output_type": "stream",
          "text": [
            "Epoch 59/200: 100%|██████████| 782/782 [00:06<00:00, 127.01batch/s, batch_loss=42.5646]\n"
          ]
        },
        {
          "name": "stdout",
          "output_type": "stream",
          "text": [
            "Epoch 59/200: Train Loss = 35.3843, Test Loss = 34.9028\n"
          ]
        },
        {
          "name": "stderr",
          "output_type": "stream",
          "text": [
            "Epoch 60/200: 100%|██████████| 782/782 [00:05<00:00, 132.03batch/s, batch_loss=34.5042]\n"
          ]
        },
        {
          "name": "stdout",
          "output_type": "stream",
          "text": [
            "Epoch 60/200: Train Loss = 35.0454, Test Loss = 34.5650\n"
          ]
        },
        {
          "name": "stderr",
          "output_type": "stream",
          "text": [
            "Epoch 61/200: 100%|██████████| 782/782 [00:06<00:00, 129.41batch/s, batch_loss=33.0623]\n"
          ]
        },
        {
          "name": "stdout",
          "output_type": "stream",
          "text": [
            "Epoch 61/200: Train Loss = 34.1685, Test Loss = 34.1181\n"
          ]
        },
        {
          "name": "stderr",
          "output_type": "stream",
          "text": [
            "Epoch 62/200: 100%|██████████| 782/782 [00:06<00:00, 127.56batch/s, batch_loss=33.2670]\n"
          ]
        },
        {
          "name": "stdout",
          "output_type": "stream",
          "text": [
            "Epoch 62/200: Train Loss = 33.6176, Test Loss = 33.4063\n"
          ]
        },
        {
          "name": "stderr",
          "output_type": "stream",
          "text": [
            "Epoch 63/200: 100%|██████████| 782/782 [00:06<00:00, 127.21batch/s, batch_loss=38.2126]\n"
          ]
        },
        {
          "name": "stdout",
          "output_type": "stream",
          "text": [
            "Epoch 63/200: Train Loss = 33.1123, Test Loss = 33.0334\n"
          ]
        },
        {
          "name": "stderr",
          "output_type": "stream",
          "text": [
            "Epoch 64/200: 100%|██████████| 782/782 [00:06<00:00, 129.56batch/s, batch_loss=31.4979]\n"
          ]
        },
        {
          "name": "stdout",
          "output_type": "stream",
          "text": [
            "Epoch 64/200: Train Loss = 32.8715, Test Loss = 32.7841\n"
          ]
        },
        {
          "name": "stderr",
          "output_type": "stream",
          "text": [
            "Epoch 65/200: 100%|██████████| 782/782 [00:05<00:00, 134.96batch/s, batch_loss=35.0117]\n"
          ]
        },
        {
          "name": "stdout",
          "output_type": "stream",
          "text": [
            "Epoch 65/200: Train Loss = 32.6999, Test Loss = 33.7725\n"
          ]
        },
        {
          "name": "stderr",
          "output_type": "stream",
          "text": [
            "Epoch 66/200: 100%|██████████| 782/782 [00:05<00:00, 131.59batch/s, batch_loss=30.9736]\n"
          ]
        },
        {
          "name": "stdout",
          "output_type": "stream",
          "text": [
            "Epoch 66/200: Train Loss = 32.7440, Test Loss = 33.3379\n"
          ]
        },
        {
          "name": "stderr",
          "output_type": "stream",
          "text": [
            "Epoch 67/200: 100%|██████████| 782/782 [00:06<00:00, 126.44batch/s, batch_loss=41.6432]\n"
          ]
        },
        {
          "name": "stdout",
          "output_type": "stream",
          "text": [
            "Epoch 67/200: Train Loss = 32.5837, Test Loss = 32.3154\n"
          ]
        },
        {
          "name": "stderr",
          "output_type": "stream",
          "text": [
            "Epoch 68/200: 100%|██████████| 782/782 [00:05<00:00, 132.08batch/s, batch_loss=28.7197]\n"
          ]
        },
        {
          "name": "stdout",
          "output_type": "stream",
          "text": [
            "Epoch 68/200: Train Loss = 32.1527, Test Loss = 32.1197\n"
          ]
        },
        {
          "name": "stderr",
          "output_type": "stream",
          "text": [
            "Epoch 69/200: 100%|██████████| 782/782 [00:06<00:00, 125.89batch/s, batch_loss=35.8165]\n"
          ]
        },
        {
          "name": "stdout",
          "output_type": "stream",
          "text": [
            "Epoch 69/200: Train Loss = 32.2052, Test Loss = 32.3328\n"
          ]
        },
        {
          "name": "stderr",
          "output_type": "stream",
          "text": [
            "Epoch 70/200: 100%|██████████| 782/782 [00:05<00:00, 130.97batch/s, batch_loss=28.1681]\n"
          ]
        },
        {
          "name": "stdout",
          "output_type": "stream",
          "text": [
            "Epoch 70/200: Train Loss = 31.9328, Test Loss = 32.1601\n"
          ]
        },
        {
          "name": "stderr",
          "output_type": "stream",
          "text": [
            "Epoch 71/200: 100%|██████████| 782/782 [00:06<00:00, 129.35batch/s, batch_loss=31.9653]\n"
          ]
        },
        {
          "name": "stdout",
          "output_type": "stream",
          "text": [
            "Epoch 71/200: Train Loss = 31.8564, Test Loss = 31.8461\n"
          ]
        },
        {
          "name": "stderr",
          "output_type": "stream",
          "text": [
            "Epoch 72/200: 100%|██████████| 782/782 [00:06<00:00, 125.54batch/s, batch_loss=27.9400]\n"
          ]
        },
        {
          "name": "stdout",
          "output_type": "stream",
          "text": [
            "Epoch 72/200: Train Loss = 31.7044, Test Loss = 32.0344\n"
          ]
        },
        {
          "name": "stderr",
          "output_type": "stream",
          "text": [
            "Epoch 73/200: 100%|██████████| 782/782 [00:05<00:00, 132.10batch/s, batch_loss=34.9614]\n"
          ]
        },
        {
          "name": "stdout",
          "output_type": "stream",
          "text": [
            "Epoch 73/200: Train Loss = 31.7998, Test Loss = 31.9332\n"
          ]
        },
        {
          "name": "stderr",
          "output_type": "stream",
          "text": [
            "Epoch 74/200: 100%|██████████| 782/782 [00:05<00:00, 133.27batch/s, batch_loss=29.6921]\n"
          ]
        },
        {
          "name": "stdout",
          "output_type": "stream",
          "text": [
            "Epoch 74/200: Train Loss = 31.7552, Test Loss = 31.7302\n"
          ]
        },
        {
          "name": "stderr",
          "output_type": "stream",
          "text": [
            "Epoch 75/200: 100%|██████████| 782/782 [00:05<00:00, 131.75batch/s, batch_loss=27.8494]\n"
          ]
        },
        {
          "name": "stdout",
          "output_type": "stream",
          "text": [
            "Epoch 75/200: Train Loss = 31.5418, Test Loss = 31.5723\n"
          ]
        },
        {
          "name": "stderr",
          "output_type": "stream",
          "text": [
            "Epoch 76/200: 100%|██████████| 782/782 [00:06<00:00, 129.33batch/s, batch_loss=28.7091]\n"
          ]
        },
        {
          "name": "stdout",
          "output_type": "stream",
          "text": [
            "Epoch 76/200: Train Loss = 31.4941, Test Loss = 31.6358\n"
          ]
        },
        {
          "name": "stderr",
          "output_type": "stream",
          "text": [
            "Epoch 77/200: 100%|██████████| 782/782 [00:06<00:00, 127.42batch/s, batch_loss=28.9132]\n"
          ]
        },
        {
          "name": "stdout",
          "output_type": "stream",
          "text": [
            "Epoch 77/200: Train Loss = 31.4718, Test Loss = 31.4924\n"
          ]
        },
        {
          "name": "stderr",
          "output_type": "stream",
          "text": [
            "Epoch 78/200: 100%|██████████| 782/782 [00:05<00:00, 133.28batch/s, batch_loss=30.5207]\n"
          ]
        },
        {
          "name": "stdout",
          "output_type": "stream",
          "text": [
            "Epoch 78/200: Train Loss = 31.4131, Test Loss = 31.4390\n"
          ]
        },
        {
          "name": "stderr",
          "output_type": "stream",
          "text": [
            "Epoch 79/200: 100%|██████████| 782/782 [00:06<00:00, 127.07batch/s, batch_loss=36.0201]\n"
          ]
        },
        {
          "name": "stdout",
          "output_type": "stream",
          "text": [
            "Epoch 79/200: Train Loss = 31.3435, Test Loss = 31.4756\n"
          ]
        },
        {
          "name": "stderr",
          "output_type": "stream",
          "text": [
            "Epoch 80/200: 100%|██████████| 782/782 [00:06<00:00, 128.23batch/s, batch_loss=32.1042]\n"
          ]
        },
        {
          "name": "stdout",
          "output_type": "stream",
          "text": [
            "Epoch 80/200: Train Loss = 31.4055, Test Loss = 31.6260\n"
          ]
        },
        {
          "name": "stderr",
          "output_type": "stream",
          "text": [
            "Epoch 81/200: 100%|██████████| 782/782 [00:05<00:00, 131.28batch/s, batch_loss=37.2131]\n"
          ]
        },
        {
          "name": "stdout",
          "output_type": "stream",
          "text": [
            "Epoch 81/200: Train Loss = 31.4056, Test Loss = 31.4179\n"
          ]
        },
        {
          "name": "stderr",
          "output_type": "stream",
          "text": [
            "Epoch 82/200: 100%|██████████| 782/782 [00:06<00:00, 127.30batch/s, batch_loss=32.5294]\n"
          ]
        },
        {
          "name": "stdout",
          "output_type": "stream",
          "text": [
            "Epoch 82/200: Train Loss = 31.2149, Test Loss = 31.5337\n"
          ]
        },
        {
          "name": "stderr",
          "output_type": "stream",
          "text": [
            "Epoch 83/200: 100%|██████████| 782/782 [00:05<00:00, 131.52batch/s, batch_loss=31.9872]\n"
          ]
        },
        {
          "name": "stdout",
          "output_type": "stream",
          "text": [
            "Epoch 83/200: Train Loss = 31.2346, Test Loss = 31.2782\n"
          ]
        },
        {
          "name": "stderr",
          "output_type": "stream",
          "text": [
            "Epoch 84/200: 100%|██████████| 782/782 [00:06<00:00, 129.21batch/s, batch_loss=28.5984]\n"
          ]
        },
        {
          "name": "stdout",
          "output_type": "stream",
          "text": [
            "Epoch 84/200: Train Loss = 31.1161, Test Loss = 31.4686\n"
          ]
        },
        {
          "name": "stderr",
          "output_type": "stream",
          "text": [
            "Epoch 85/200: 100%|██████████| 782/782 [00:06<00:00, 128.80batch/s, batch_loss=27.4279]\n"
          ]
        },
        {
          "name": "stdout",
          "output_type": "stream",
          "text": [
            "Epoch 85/200: Train Loss = 31.0459, Test Loss = 31.4028\n"
          ]
        },
        {
          "name": "stderr",
          "output_type": "stream",
          "text": [
            "Epoch 86/200: 100%|██████████| 782/782 [00:06<00:00, 124.51batch/s, batch_loss=36.2360]\n"
          ]
        },
        {
          "name": "stdout",
          "output_type": "stream",
          "text": [
            "Epoch 86/200: Train Loss = 31.0299, Test Loss = 31.0975\n"
          ]
        },
        {
          "name": "stderr",
          "output_type": "stream",
          "text": [
            "Epoch 87/200: 100%|██████████| 782/782 [00:06<00:00, 127.70batch/s, batch_loss=27.4858]\n"
          ]
        },
        {
          "name": "stdout",
          "output_type": "stream",
          "text": [
            "Epoch 87/200: Train Loss = 31.0855, Test Loss = 31.4202\n"
          ]
        },
        {
          "name": "stderr",
          "output_type": "stream",
          "text": [
            "Epoch 88/200: 100%|██████████| 782/782 [00:06<00:00, 127.04batch/s, batch_loss=32.2764]\n"
          ]
        },
        {
          "name": "stdout",
          "output_type": "stream",
          "text": [
            "Epoch 88/200: Train Loss = 30.9998, Test Loss = 31.5147\n"
          ]
        },
        {
          "name": "stderr",
          "output_type": "stream",
          "text": [
            "Epoch 89/200: 100%|██████████| 782/782 [00:05<00:00, 130.57batch/s, batch_loss=35.4016]\n"
          ]
        },
        {
          "name": "stdout",
          "output_type": "stream",
          "text": [
            "Epoch 89/200: Train Loss = 31.0102, Test Loss = 31.4422\n"
          ]
        },
        {
          "name": "stderr",
          "output_type": "stream",
          "text": [
            "Epoch 90/200: 100%|██████████| 782/782 [00:06<00:00, 126.38batch/s, batch_loss=32.3174]\n"
          ]
        },
        {
          "name": "stdout",
          "output_type": "stream",
          "text": [
            "Epoch 90/200: Train Loss = 30.9300, Test Loss = 31.5810\n"
          ]
        },
        {
          "name": "stderr",
          "output_type": "stream",
          "text": [
            "Epoch 91/200: 100%|██████████| 782/782 [00:06<00:00, 126.17batch/s, batch_loss=35.1960]\n"
          ]
        },
        {
          "name": "stdout",
          "output_type": "stream",
          "text": [
            "Epoch 91/200: Train Loss = 31.1882, Test Loss = 33.5106\n"
          ]
        },
        {
          "name": "stderr",
          "output_type": "stream",
          "text": [
            "Epoch 92/200: 100%|██████████| 782/782 [00:06<00:00, 126.96batch/s, batch_loss=31.2745]\n"
          ]
        },
        {
          "name": "stdout",
          "output_type": "stream",
          "text": [
            "Epoch 92/200: Train Loss = 31.1653, Test Loss = 31.0010\n"
          ]
        },
        {
          "name": "stderr",
          "output_type": "stream",
          "text": [
            "Epoch 93/200: 100%|██████████| 782/782 [00:05<00:00, 130.58batch/s, batch_loss=29.0429]\n"
          ]
        },
        {
          "name": "stdout",
          "output_type": "stream",
          "text": [
            "Epoch 93/200: Train Loss = 30.9245, Test Loss = 31.0750\n"
          ]
        },
        {
          "name": "stderr",
          "output_type": "stream",
          "text": [
            "Epoch 94/200: 100%|██████████| 782/782 [00:06<00:00, 127.75batch/s, batch_loss=28.5992]\n"
          ]
        },
        {
          "name": "stdout",
          "output_type": "stream",
          "text": [
            "Epoch 94/200: Train Loss = 30.7904, Test Loss = 31.2385\n"
          ]
        },
        {
          "name": "stderr",
          "output_type": "stream",
          "text": [
            "Epoch 95/200: 100%|██████████| 782/782 [00:06<00:00, 128.71batch/s, batch_loss=24.4783]\n"
          ]
        },
        {
          "name": "stdout",
          "output_type": "stream",
          "text": [
            "Epoch 95/200: Train Loss = 30.8796, Test Loss = 30.8767\n"
          ]
        },
        {
          "name": "stderr",
          "output_type": "stream",
          "text": [
            "Epoch 96/200: 100%|██████████| 782/782 [00:06<00:00, 126.51batch/s, batch_loss=27.3874]\n"
          ]
        },
        {
          "name": "stdout",
          "output_type": "stream",
          "text": [
            "Epoch 96/200: Train Loss = 30.6504, Test Loss = 30.8728\n"
          ]
        },
        {
          "name": "stderr",
          "output_type": "stream",
          "text": [
            "Epoch 97/200: 100%|██████████| 782/782 [00:06<00:00, 129.55batch/s, batch_loss=40.6970]\n"
          ]
        },
        {
          "name": "stdout",
          "output_type": "stream",
          "text": [
            "Epoch 97/200: Train Loss = 30.7857, Test Loss = 30.9533\n"
          ]
        },
        {
          "name": "stderr",
          "output_type": "stream",
          "text": [
            "Epoch 98/200: 100%|██████████| 782/782 [00:06<00:00, 127.85batch/s, batch_loss=37.4459]\n"
          ]
        },
        {
          "name": "stdout",
          "output_type": "stream",
          "text": [
            "Epoch 98/200: Train Loss = 30.8569, Test Loss = 30.9161\n"
          ]
        },
        {
          "name": "stderr",
          "output_type": "stream",
          "text": [
            "Epoch 99/200: 100%|██████████| 782/782 [00:05<00:00, 130.96batch/s, batch_loss=31.2956]\n"
          ]
        },
        {
          "name": "stdout",
          "output_type": "stream",
          "text": [
            "Epoch 99/200: Train Loss = 30.7325, Test Loss = 31.1081\n"
          ]
        },
        {
          "name": "stderr",
          "output_type": "stream",
          "text": [
            "Epoch 100/200: 100%|██████████| 782/782 [00:06<00:00, 125.81batch/s, batch_loss=25.5959]\n"
          ]
        },
        {
          "name": "stdout",
          "output_type": "stream",
          "text": [
            "Epoch 100/200: Train Loss = 30.7958, Test Loss = 30.8373\n"
          ]
        },
        {
          "name": "stderr",
          "output_type": "stream",
          "text": [
            "Epoch 101/200: 100%|██████████| 782/782 [00:05<00:00, 133.76batch/s, batch_loss=30.8375]\n"
          ]
        },
        {
          "name": "stdout",
          "output_type": "stream",
          "text": [
            "Epoch 101/200: Train Loss = 30.7742, Test Loss = 31.0792\n"
          ]
        },
        {
          "name": "stderr",
          "output_type": "stream",
          "text": [
            "Epoch 102/200: 100%|██████████| 782/782 [00:06<00:00, 129.26batch/s, batch_loss=34.3937]\n"
          ]
        },
        {
          "name": "stdout",
          "output_type": "stream",
          "text": [
            "Epoch 102/200: Train Loss = 30.7677, Test Loss = 31.3429\n"
          ]
        },
        {
          "name": "stderr",
          "output_type": "stream",
          "text": [
            "Epoch 103/200: 100%|██████████| 782/782 [00:05<00:00, 130.57batch/s, batch_loss=38.6487]\n"
          ]
        },
        {
          "name": "stdout",
          "output_type": "stream",
          "text": [
            "Epoch 103/200: Train Loss = 31.0119, Test Loss = 31.4355\n"
          ]
        },
        {
          "name": "stderr",
          "output_type": "stream",
          "text": [
            "Epoch 104/200: 100%|██████████| 782/782 [00:05<00:00, 130.68batch/s, batch_loss=33.7572]\n"
          ]
        },
        {
          "name": "stdout",
          "output_type": "stream",
          "text": [
            "Epoch 104/200: Train Loss = 30.6253, Test Loss = 30.8979\n"
          ]
        },
        {
          "name": "stderr",
          "output_type": "stream",
          "text": [
            "Epoch 105/200: 100%|██████████| 782/782 [00:05<00:00, 131.40batch/s, batch_loss=35.3205]\n"
          ]
        },
        {
          "name": "stdout",
          "output_type": "stream",
          "text": [
            "Epoch 105/200: Train Loss = 30.5587, Test Loss = 31.0403\n"
          ]
        },
        {
          "name": "stderr",
          "output_type": "stream",
          "text": [
            "Epoch 106/200: 100%|██████████| 782/782 [00:06<00:00, 128.30batch/s, batch_loss=33.0605]\n"
          ]
        },
        {
          "name": "stdout",
          "output_type": "stream",
          "text": [
            "Epoch 106/200: Train Loss = 30.6567, Test Loss = 31.2897\n"
          ]
        },
        {
          "name": "stderr",
          "output_type": "stream",
          "text": [
            "Epoch 107/200: 100%|██████████| 782/782 [00:06<00:00, 124.93batch/s, batch_loss=32.0360]\n"
          ]
        },
        {
          "name": "stdout",
          "output_type": "stream",
          "text": [
            "Epoch 107/200: Train Loss = 30.5922, Test Loss = 31.0260\n"
          ]
        },
        {
          "name": "stderr",
          "output_type": "stream",
          "text": [
            "Epoch 108/200: 100%|██████████| 782/782 [00:06<00:00, 126.89batch/s, batch_loss=32.7389]\n"
          ]
        },
        {
          "name": "stdout",
          "output_type": "stream",
          "text": [
            "Epoch 108/200: Train Loss = 30.6944, Test Loss = 31.1944\n"
          ]
        },
        {
          "name": "stderr",
          "output_type": "stream",
          "text": [
            "Epoch 109/200: 100%|██████████| 782/782 [00:05<00:00, 130.89batch/s, batch_loss=33.2136]\n"
          ]
        },
        {
          "name": "stdout",
          "output_type": "stream",
          "text": [
            "Epoch 109/200: Train Loss = 30.6410, Test Loss = 31.0249\n"
          ]
        },
        {
          "name": "stderr",
          "output_type": "stream",
          "text": [
            "Epoch 110/200: 100%|██████████| 782/782 [00:06<00:00, 123.74batch/s, batch_loss=25.0608]\n"
          ]
        },
        {
          "name": "stdout",
          "output_type": "stream",
          "text": [
            "Epoch 110/200: Train Loss = 30.5771, Test Loss = 30.6737\n"
          ]
        },
        {
          "name": "stderr",
          "output_type": "stream",
          "text": [
            "Epoch 111/200: 100%|██████████| 782/782 [00:06<00:00, 125.33batch/s, batch_loss=28.5590]\n"
          ]
        },
        {
          "name": "stdout",
          "output_type": "stream",
          "text": [
            "Epoch 111/200: Train Loss = 30.5254, Test Loss = 30.6301\n"
          ]
        },
        {
          "name": "stderr",
          "output_type": "stream",
          "text": [
            "Epoch 112/200: 100%|██████████| 782/782 [00:06<00:00, 129.53batch/s, batch_loss=32.0410]\n"
          ]
        },
        {
          "name": "stdout",
          "output_type": "stream",
          "text": [
            "Epoch 112/200: Train Loss = 30.6367, Test Loss = 30.5994\n"
          ]
        },
        {
          "name": "stderr",
          "output_type": "stream",
          "text": [
            "Epoch 113/200: 100%|██████████| 782/782 [00:06<00:00, 128.39batch/s, batch_loss=26.0297]\n"
          ]
        },
        {
          "name": "stdout",
          "output_type": "stream",
          "text": [
            "Epoch 113/200: Train Loss = 30.5697, Test Loss = 30.9950\n"
          ]
        },
        {
          "name": "stderr",
          "output_type": "stream",
          "text": [
            "Epoch 114/200: 100%|██████████| 782/782 [00:05<00:00, 130.45batch/s, batch_loss=32.7202]\n"
          ]
        },
        {
          "name": "stdout",
          "output_type": "stream",
          "text": [
            "Epoch 114/200: Train Loss = 30.6523, Test Loss = 31.0940\n"
          ]
        },
        {
          "name": "stderr",
          "output_type": "stream",
          "text": [
            "Epoch 115/200: 100%|██████████| 782/782 [00:06<00:00, 127.68batch/s, batch_loss=30.0164]\n"
          ]
        },
        {
          "name": "stdout",
          "output_type": "stream",
          "text": [
            "Epoch 115/200: Train Loss = 30.4655, Test Loss = 30.7081\n"
          ]
        },
        {
          "name": "stderr",
          "output_type": "stream",
          "text": [
            "Epoch 116/200: 100%|██████████| 782/782 [00:06<00:00, 124.70batch/s, batch_loss=26.9451]\n"
          ]
        },
        {
          "name": "stdout",
          "output_type": "stream",
          "text": [
            "Epoch 116/200: Train Loss = 30.9732, Test Loss = 31.0789\n"
          ]
        },
        {
          "name": "stderr",
          "output_type": "stream",
          "text": [
            "Epoch 117/200: 100%|██████████| 782/782 [00:06<00:00, 126.74batch/s, batch_loss=26.2743]\n"
          ]
        },
        {
          "name": "stdout",
          "output_type": "stream",
          "text": [
            "Epoch 117/200: Train Loss = 30.6613, Test Loss = 30.8783\n"
          ]
        },
        {
          "name": "stderr",
          "output_type": "stream",
          "text": [
            "Epoch 118/200: 100%|██████████| 782/782 [00:06<00:00, 126.45batch/s, batch_loss=32.3315]\n"
          ]
        },
        {
          "name": "stdout",
          "output_type": "stream",
          "text": [
            "Epoch 118/200: Train Loss = 30.5662, Test Loss = 30.6703\n"
          ]
        },
        {
          "name": "stderr",
          "output_type": "stream",
          "text": [
            "Epoch 119/200: 100%|██████████| 782/782 [00:06<00:00, 128.53batch/s, batch_loss=35.0038]\n"
          ]
        },
        {
          "name": "stdout",
          "output_type": "stream",
          "text": [
            "Epoch 119/200: Train Loss = 30.4656, Test Loss = 31.0493\n"
          ]
        },
        {
          "name": "stderr",
          "output_type": "stream",
          "text": [
            "Epoch 120/200: 100%|██████████| 782/782 [00:06<00:00, 127.24batch/s, batch_loss=26.2679]\n"
          ]
        },
        {
          "name": "stdout",
          "output_type": "stream",
          "text": [
            "Epoch 120/200: Train Loss = 30.5505, Test Loss = 31.1302\n"
          ]
        },
        {
          "name": "stderr",
          "output_type": "stream",
          "text": [
            "Epoch 121/200: 100%|██████████| 782/782 [00:06<00:00, 129.75batch/s, batch_loss=30.3179]\n"
          ]
        },
        {
          "name": "stdout",
          "output_type": "stream",
          "text": [
            "Epoch 121/200: Train Loss = 30.6976, Test Loss = 30.6157\n"
          ]
        },
        {
          "name": "stderr",
          "output_type": "stream",
          "text": [
            "Epoch 122/200: 100%|██████████| 782/782 [00:06<00:00, 129.01batch/s, batch_loss=35.4065]\n"
          ]
        },
        {
          "name": "stdout",
          "output_type": "stream",
          "text": [
            "Epoch 122/200: Train Loss = 30.4753, Test Loss = 31.0963\n"
          ]
        },
        {
          "name": "stderr",
          "output_type": "stream",
          "text": [
            "Epoch 123/200: 100%|██████████| 782/782 [00:06<00:00, 126.57batch/s, batch_loss=26.9938]\n"
          ]
        },
        {
          "name": "stdout",
          "output_type": "stream",
          "text": [
            "Epoch 123/200: Train Loss = 30.4182, Test Loss = 30.8841\n"
          ]
        },
        {
          "name": "stderr",
          "output_type": "stream",
          "text": [
            "Epoch 124/200: 100%|██████████| 782/782 [00:06<00:00, 127.31batch/s, batch_loss=35.1150]\n"
          ]
        },
        {
          "name": "stdout",
          "output_type": "stream",
          "text": [
            "Epoch 124/200: Train Loss = 30.6528, Test Loss = 31.0628\n"
          ]
        },
        {
          "name": "stderr",
          "output_type": "stream",
          "text": [
            "Epoch 125/200: 100%|██████████| 782/782 [00:06<00:00, 129.20batch/s, batch_loss=30.7890]\n"
          ]
        },
        {
          "name": "stdout",
          "output_type": "stream",
          "text": [
            "Epoch 125/200: Train Loss = 31.0406, Test Loss = 31.6074\n"
          ]
        },
        {
          "name": "stderr",
          "output_type": "stream",
          "text": [
            "Epoch 126/200: 100%|██████████| 782/782 [00:06<00:00, 128.36batch/s, batch_loss=31.5245]\n"
          ]
        },
        {
          "name": "stdout",
          "output_type": "stream",
          "text": [
            "Epoch 126/200: Train Loss = 31.1154, Test Loss = 31.2862\n"
          ]
        },
        {
          "name": "stderr",
          "output_type": "stream",
          "text": [
            "Epoch 127/200: 100%|██████████| 782/782 [00:06<00:00, 127.38batch/s, batch_loss=24.8634]\n"
          ]
        },
        {
          "name": "stdout",
          "output_type": "stream",
          "text": [
            "Epoch 127/200: Train Loss = 30.9446, Test Loss = 31.3225\n"
          ]
        },
        {
          "name": "stderr",
          "output_type": "stream",
          "text": [
            "Epoch 128/200: 100%|██████████| 782/782 [00:06<00:00, 129.51batch/s, batch_loss=29.5146]\n"
          ]
        },
        {
          "name": "stdout",
          "output_type": "stream",
          "text": [
            "Epoch 128/200: Train Loss = 31.1125, Test Loss = 31.3540\n"
          ]
        },
        {
          "name": "stderr",
          "output_type": "stream",
          "text": [
            "Epoch 129/200: 100%|██████████| 782/782 [00:05<00:00, 132.26batch/s, batch_loss=30.9154]\n"
          ]
        },
        {
          "name": "stdout",
          "output_type": "stream",
          "text": [
            "Epoch 129/200: Train Loss = 30.9443, Test Loss = 31.2915\n"
          ]
        },
        {
          "name": "stderr",
          "output_type": "stream",
          "text": [
            "Epoch 130/200: 100%|██████████| 782/782 [00:06<00:00, 127.98batch/s, batch_loss=31.9959]\n"
          ]
        },
        {
          "name": "stdout",
          "output_type": "stream",
          "text": [
            "Epoch 130/200: Train Loss = 31.0040, Test Loss = 31.0682\n"
          ]
        },
        {
          "name": "stderr",
          "output_type": "stream",
          "text": [
            "Epoch 131/200: 100%|██████████| 782/782 [00:06<00:00, 129.43batch/s, batch_loss=29.4016]\n"
          ]
        },
        {
          "name": "stdout",
          "output_type": "stream",
          "text": [
            "Epoch 131/200: Train Loss = 30.7967, Test Loss = 31.3079\n"
          ]
        },
        {
          "name": "stderr",
          "output_type": "stream",
          "text": [
            "Epoch 132/200: 100%|██████████| 782/782 [00:05<00:00, 130.93batch/s, batch_loss=30.8890]\n"
          ]
        },
        {
          "name": "stdout",
          "output_type": "stream",
          "text": [
            "Epoch 132/200: Train Loss = 30.9191, Test Loss = 31.0154\n"
          ]
        },
        {
          "name": "stderr",
          "output_type": "stream",
          "text": [
            "Epoch 133/200: 100%|██████████| 782/782 [00:06<00:00, 124.21batch/s, batch_loss=31.5187]\n"
          ]
        },
        {
          "name": "stdout",
          "output_type": "stream",
          "text": [
            "Epoch 133/200: Train Loss = 30.7593, Test Loss = 31.0968\n"
          ]
        },
        {
          "name": "stderr",
          "output_type": "stream",
          "text": [
            "Epoch 134/200: 100%|██████████| 782/782 [00:05<00:00, 131.64batch/s, batch_loss=37.8586]\n"
          ]
        },
        {
          "name": "stdout",
          "output_type": "stream",
          "text": [
            "Epoch 134/200: Train Loss = 30.8089, Test Loss = 31.2492\n"
          ]
        },
        {
          "name": "stderr",
          "output_type": "stream",
          "text": [
            "Epoch 135/200: 100%|██████████| 782/782 [00:05<00:00, 131.04batch/s, batch_loss=35.2728]\n"
          ]
        },
        {
          "name": "stdout",
          "output_type": "stream",
          "text": [
            "Epoch 135/200: Train Loss = 30.6760, Test Loss = 30.8299\n"
          ]
        },
        {
          "name": "stderr",
          "output_type": "stream",
          "text": [
            "Epoch 136/200: 100%|██████████| 782/782 [00:05<00:00, 133.13batch/s, batch_loss=29.0814]\n"
          ]
        },
        {
          "name": "stdout",
          "output_type": "stream",
          "text": [
            "Epoch 136/200: Train Loss = 30.7290, Test Loss = 30.9639\n"
          ]
        },
        {
          "name": "stderr",
          "output_type": "stream",
          "text": [
            "Epoch 137/200: 100%|██████████| 782/782 [00:05<00:00, 134.85batch/s, batch_loss=31.7105]\n"
          ]
        },
        {
          "name": "stdout",
          "output_type": "stream",
          "text": [
            "Epoch 137/200: Train Loss = 30.7510, Test Loss = 31.4820\n"
          ]
        },
        {
          "name": "stderr",
          "output_type": "stream",
          "text": [
            "Epoch 138/200: 100%|██████████| 782/782 [00:05<00:00, 130.62batch/s, batch_loss=26.7731]\n"
          ]
        },
        {
          "name": "stdout",
          "output_type": "stream",
          "text": [
            "Epoch 138/200: Train Loss = 30.7664, Test Loss = 30.9605\n"
          ]
        },
        {
          "name": "stderr",
          "output_type": "stream",
          "text": [
            "Epoch 139/200: 100%|██████████| 782/782 [00:06<00:00, 128.88batch/s, batch_loss=29.3846]\n"
          ]
        },
        {
          "name": "stdout",
          "output_type": "stream",
          "text": [
            "Epoch 139/200: Train Loss = 30.5936, Test Loss = 30.8354\n"
          ]
        },
        {
          "name": "stderr",
          "output_type": "stream",
          "text": [
            "Epoch 140/200: 100%|██████████| 782/782 [00:06<00:00, 129.04batch/s, batch_loss=27.5926]\n"
          ]
        },
        {
          "name": "stdout",
          "output_type": "stream",
          "text": [
            "Epoch 140/200: Train Loss = 30.5611, Test Loss = 31.0269\n"
          ]
        },
        {
          "name": "stderr",
          "output_type": "stream",
          "text": [
            "Epoch 141/200: 100%|██████████| 782/782 [00:05<00:00, 136.08batch/s, batch_loss=26.2294]\n"
          ]
        },
        {
          "name": "stdout",
          "output_type": "stream",
          "text": [
            "Epoch 141/200: Train Loss = 30.5372, Test Loss = 30.7319\n"
          ]
        },
        {
          "name": "stderr",
          "output_type": "stream",
          "text": [
            "Epoch 142/200: 100%|██████████| 782/782 [00:06<00:00, 128.16batch/s, batch_loss=33.5121]\n"
          ]
        },
        {
          "name": "stdout",
          "output_type": "stream",
          "text": [
            "Epoch 142/200: Train Loss = 30.5687, Test Loss = 30.9047\n"
          ]
        },
        {
          "name": "stderr",
          "output_type": "stream",
          "text": [
            "Epoch 143/200: 100%|██████████| 782/782 [00:05<00:00, 130.57batch/s, batch_loss=33.6645]\n"
          ]
        },
        {
          "name": "stdout",
          "output_type": "stream",
          "text": [
            "Epoch 143/200: Train Loss = 30.5453, Test Loss = 31.1717\n"
          ]
        },
        {
          "name": "stderr",
          "output_type": "stream",
          "text": [
            "Epoch 144/200: 100%|██████████| 782/782 [00:06<00:00, 129.89batch/s, batch_loss=28.7885]\n"
          ]
        },
        {
          "name": "stdout",
          "output_type": "stream",
          "text": [
            "Epoch 144/200: Train Loss = 30.5541, Test Loss = 31.0710\n"
          ]
        },
        {
          "name": "stderr",
          "output_type": "stream",
          "text": [
            "Epoch 145/200: 100%|██████████| 782/782 [00:05<00:00, 133.31batch/s, batch_loss=35.7483]\n"
          ]
        },
        {
          "name": "stdout",
          "output_type": "stream",
          "text": [
            "Epoch 145/200: Train Loss = 31.0439, Test Loss = 31.6790\n"
          ]
        },
        {
          "name": "stderr",
          "output_type": "stream",
          "text": [
            "Epoch 146/200: 100%|██████████| 782/782 [00:05<00:00, 133.02batch/s, batch_loss=32.6138]\n"
          ]
        },
        {
          "name": "stdout",
          "output_type": "stream",
          "text": [
            "Epoch 146/200: Train Loss = 31.8024, Test Loss = 32.0538\n"
          ]
        },
        {
          "name": "stderr",
          "output_type": "stream",
          "text": [
            "Epoch 147/200: 100%|██████████| 782/782 [00:05<00:00, 136.22batch/s, batch_loss=39.8861]\n"
          ]
        },
        {
          "name": "stdout",
          "output_type": "stream",
          "text": [
            "Epoch 147/200: Train Loss = 31.9217, Test Loss = 31.8195\n"
          ]
        },
        {
          "name": "stderr",
          "output_type": "stream",
          "text": [
            "Epoch 148/200: 100%|██████████| 782/782 [00:05<00:00, 137.56batch/s, batch_loss=29.4659]\n"
          ]
        },
        {
          "name": "stdout",
          "output_type": "stream",
          "text": [
            "Epoch 148/200: Train Loss = 31.3965, Test Loss = 31.3809\n"
          ]
        },
        {
          "name": "stderr",
          "output_type": "stream",
          "text": [
            "Epoch 149/200: 100%|██████████| 782/782 [00:05<00:00, 134.23batch/s, batch_loss=26.4839]\n"
          ]
        },
        {
          "name": "stdout",
          "output_type": "stream",
          "text": [
            "Epoch 149/200: Train Loss = 31.1774, Test Loss = 31.4871\n"
          ]
        },
        {
          "name": "stderr",
          "output_type": "stream",
          "text": [
            "Epoch 150/200: 100%|██████████| 782/782 [00:05<00:00, 135.37batch/s, batch_loss=31.7673]\n"
          ]
        },
        {
          "name": "stdout",
          "output_type": "stream",
          "text": [
            "Epoch 150/200: Train Loss = 31.0116, Test Loss = 31.3437\n"
          ]
        },
        {
          "name": "stderr",
          "output_type": "stream",
          "text": [
            "Epoch 151/200: 100%|██████████| 782/782 [00:05<00:00, 131.84batch/s, batch_loss=29.3127]\n"
          ]
        },
        {
          "name": "stdout",
          "output_type": "stream",
          "text": [
            "Epoch 151/200: Train Loss = 31.0461, Test Loss = 31.3007\n"
          ]
        },
        {
          "name": "stderr",
          "output_type": "stream",
          "text": [
            "Epoch 152/200: 100%|██████████| 782/782 [00:05<00:00, 133.80batch/s, batch_loss=31.2135]\n"
          ]
        },
        {
          "name": "stdout",
          "output_type": "stream",
          "text": [
            "Epoch 152/200: Train Loss = 31.2342, Test Loss = 31.5797\n"
          ]
        },
        {
          "name": "stderr",
          "output_type": "stream",
          "text": [
            "Epoch 153/200: 100%|██████████| 782/782 [00:05<00:00, 135.04batch/s, batch_loss=30.9976]\n"
          ]
        },
        {
          "name": "stdout",
          "output_type": "stream",
          "text": [
            "Epoch 153/200: Train Loss = 31.2007, Test Loss = 31.3365\n"
          ]
        },
        {
          "name": "stderr",
          "output_type": "stream",
          "text": [
            "Epoch 154/200: 100%|██████████| 782/782 [00:05<00:00, 134.71batch/s, batch_loss=33.4064]\n"
          ]
        },
        {
          "name": "stdout",
          "output_type": "stream",
          "text": [
            "Epoch 154/200: Train Loss = 31.0311, Test Loss = 31.4017\n"
          ]
        },
        {
          "name": "stderr",
          "output_type": "stream",
          "text": [
            "Epoch 155/200: 100%|██████████| 782/782 [00:05<00:00, 133.38batch/s, batch_loss=30.1944]\n"
          ]
        },
        {
          "name": "stdout",
          "output_type": "stream",
          "text": [
            "Epoch 155/200: Train Loss = 30.8883, Test Loss = 31.5531\n"
          ]
        },
        {
          "name": "stderr",
          "output_type": "stream",
          "text": [
            "Epoch 156/200: 100%|██████████| 782/782 [00:06<00:00, 127.36batch/s, batch_loss=31.4482]\n"
          ]
        },
        {
          "name": "stdout",
          "output_type": "stream",
          "text": [
            "Epoch 156/200: Train Loss = 31.0052, Test Loss = 31.0931\n"
          ]
        },
        {
          "name": "stderr",
          "output_type": "stream",
          "text": [
            "Epoch 157/200: 100%|██████████| 782/782 [00:05<00:00, 132.79batch/s, batch_loss=32.6710]\n"
          ]
        },
        {
          "name": "stdout",
          "output_type": "stream",
          "text": [
            "Epoch 157/200: Train Loss = 30.7551, Test Loss = 31.9440\n"
          ]
        },
        {
          "name": "stderr",
          "output_type": "stream",
          "text": [
            "Epoch 158/200: 100%|██████████| 782/782 [00:06<00:00, 125.62batch/s, batch_loss=28.1492]\n"
          ]
        },
        {
          "name": "stdout",
          "output_type": "stream",
          "text": [
            "Epoch 158/200: Train Loss = 30.8102, Test Loss = 31.3275\n"
          ]
        },
        {
          "name": "stderr",
          "output_type": "stream",
          "text": [
            "Epoch 159/200: 100%|██████████| 782/782 [00:05<00:00, 135.46batch/s, batch_loss=22.6409]\n"
          ]
        },
        {
          "name": "stdout",
          "output_type": "stream",
          "text": [
            "Epoch 159/200: Train Loss = 30.5151, Test Loss = 31.1031\n"
          ]
        },
        {
          "name": "stderr",
          "output_type": "stream",
          "text": [
            "Epoch 160/200: 100%|██████████| 782/782 [00:05<00:00, 135.56batch/s, batch_loss=28.1369]\n"
          ]
        },
        {
          "name": "stdout",
          "output_type": "stream",
          "text": [
            "Epoch 160/200: Train Loss = 30.4228, Test Loss = 30.7275\n"
          ]
        },
        {
          "name": "stderr",
          "output_type": "stream",
          "text": [
            "Epoch 161/200: 100%|██████████| 782/782 [00:05<00:00, 132.76batch/s, batch_loss=29.6558]\n"
          ]
        },
        {
          "name": "stdout",
          "output_type": "stream",
          "text": [
            "Epoch 161/200: Train Loss = 30.6295, Test Loss = 31.4377\n"
          ]
        },
        {
          "name": "stderr",
          "output_type": "stream",
          "text": [
            "Epoch 162/200: 100%|██████████| 782/782 [00:05<00:00, 136.36batch/s, batch_loss=27.3368]\n"
          ]
        },
        {
          "name": "stdout",
          "output_type": "stream",
          "text": [
            "Epoch 162/200: Train Loss = 30.4099, Test Loss = 31.1765\n"
          ]
        },
        {
          "name": "stderr",
          "output_type": "stream",
          "text": [
            "Epoch 163/200: 100%|██████████| 782/782 [00:05<00:00, 135.93batch/s, batch_loss=27.9543]\n"
          ]
        },
        {
          "name": "stdout",
          "output_type": "stream",
          "text": [
            "Epoch 163/200: Train Loss = 30.4764, Test Loss = 30.8882\n"
          ]
        },
        {
          "name": "stderr",
          "output_type": "stream",
          "text": [
            "Epoch 164/200: 100%|██████████| 782/782 [00:05<00:00, 133.36batch/s, batch_loss=31.0586]\n"
          ]
        },
        {
          "name": "stdout",
          "output_type": "stream",
          "text": [
            "Epoch 164/200: Train Loss = 30.6261, Test Loss = 31.1309\n"
          ]
        },
        {
          "name": "stderr",
          "output_type": "stream",
          "text": [
            "Epoch 165/200: 100%|██████████| 782/782 [00:05<00:00, 133.40batch/s, batch_loss=34.8932]\n"
          ]
        },
        {
          "name": "stdout",
          "output_type": "stream",
          "text": [
            "Epoch 165/200: Train Loss = 30.8010, Test Loss = 31.3850\n"
          ]
        },
        {
          "name": "stderr",
          "output_type": "stream",
          "text": [
            "Epoch 166/200: 100%|██████████| 782/782 [00:05<00:00, 134.72batch/s, batch_loss=29.9681]\n"
          ]
        },
        {
          "name": "stdout",
          "output_type": "stream",
          "text": [
            "Epoch 166/200: Train Loss = 30.4812, Test Loss = 30.7808\n"
          ]
        },
        {
          "name": "stderr",
          "output_type": "stream",
          "text": [
            "Epoch 167/200: 100%|██████████| 782/782 [00:05<00:00, 132.50batch/s, batch_loss=23.9792]\n"
          ]
        },
        {
          "name": "stdout",
          "output_type": "stream",
          "text": [
            "Epoch 167/200: Train Loss = 30.4682, Test Loss = 30.7413\n"
          ]
        },
        {
          "name": "stderr",
          "output_type": "stream",
          "text": [
            "Epoch 168/200: 100%|██████████| 782/782 [00:05<00:00, 132.08batch/s, batch_loss=24.2450]\n"
          ]
        },
        {
          "name": "stdout",
          "output_type": "stream",
          "text": [
            "Epoch 168/200: Train Loss = 30.3917, Test Loss = 30.7618\n"
          ]
        },
        {
          "name": "stderr",
          "output_type": "stream",
          "text": [
            "Epoch 169/200: 100%|██████████| 782/782 [00:05<00:00, 131.45batch/s, batch_loss=27.0919]\n"
          ]
        },
        {
          "name": "stdout",
          "output_type": "stream",
          "text": [
            "Epoch 169/200: Train Loss = 30.5979, Test Loss = 31.0696\n"
          ]
        },
        {
          "name": "stderr",
          "output_type": "stream",
          "text": [
            "Epoch 170/200: 100%|██████████| 782/782 [00:05<00:00, 136.09batch/s, batch_loss=25.8575]\n"
          ]
        },
        {
          "name": "stdout",
          "output_type": "stream",
          "text": [
            "Epoch 170/200: Train Loss = 30.3216, Test Loss = 30.6661\n"
          ]
        },
        {
          "name": "stderr",
          "output_type": "stream",
          "text": [
            "Epoch 171/200: 100%|██████████| 782/782 [00:05<00:00, 134.43batch/s, batch_loss=33.1108]\n"
          ]
        },
        {
          "name": "stdout",
          "output_type": "stream",
          "text": [
            "Epoch 171/200: Train Loss = 30.3642, Test Loss = 30.8166\n"
          ]
        },
        {
          "name": "stderr",
          "output_type": "stream",
          "text": [
            "Epoch 172/200: 100%|██████████| 782/782 [00:06<00:00, 129.16batch/s, batch_loss=27.8024]\n"
          ]
        },
        {
          "name": "stdout",
          "output_type": "stream",
          "text": [
            "Epoch 172/200: Train Loss = 30.3149, Test Loss = 30.5181\n"
          ]
        },
        {
          "name": "stderr",
          "output_type": "stream",
          "text": [
            "Epoch 173/200: 100%|██████████| 782/782 [00:05<00:00, 132.67batch/s, batch_loss=27.5533]\n"
          ]
        },
        {
          "name": "stdout",
          "output_type": "stream",
          "text": [
            "Epoch 173/200: Train Loss = 30.3754, Test Loss = 30.5796\n"
          ]
        },
        {
          "name": "stderr",
          "output_type": "stream",
          "text": [
            "Epoch 174/200: 100%|██████████| 782/782 [00:05<00:00, 136.43batch/s, batch_loss=27.4238]\n"
          ]
        },
        {
          "name": "stdout",
          "output_type": "stream",
          "text": [
            "Epoch 174/200: Train Loss = 30.2761, Test Loss = 30.7393\n"
          ]
        },
        {
          "name": "stderr",
          "output_type": "stream",
          "text": [
            "Epoch 175/200: 100%|██████████| 782/782 [00:05<00:00, 133.97batch/s, batch_loss=36.4606]\n"
          ]
        },
        {
          "name": "stdout",
          "output_type": "stream",
          "text": [
            "Epoch 175/200: Train Loss = 30.3319, Test Loss = 30.7333\n"
          ]
        },
        {
          "name": "stderr",
          "output_type": "stream",
          "text": [
            "Epoch 176/200: 100%|██████████| 782/782 [00:05<00:00, 133.27batch/s, batch_loss=32.6727]\n"
          ]
        },
        {
          "name": "stdout",
          "output_type": "stream",
          "text": [
            "Epoch 176/200: Train Loss = 30.1495, Test Loss = 30.6496\n"
          ]
        },
        {
          "name": "stderr",
          "output_type": "stream",
          "text": [
            "Epoch 177/200: 100%|██████████| 782/782 [00:05<00:00, 132.00batch/s, batch_loss=27.2818]\n"
          ]
        },
        {
          "name": "stdout",
          "output_type": "stream",
          "text": [
            "Epoch 177/200: Train Loss = 30.7643, Test Loss = 31.0945\n"
          ]
        },
        {
          "name": "stderr",
          "output_type": "stream",
          "text": [
            "Epoch 178/200: 100%|██████████| 782/782 [00:06<00:00, 130.24batch/s, batch_loss=36.7173]\n"
          ]
        },
        {
          "name": "stdout",
          "output_type": "stream",
          "text": [
            "Epoch 178/200: Train Loss = 30.7128, Test Loss = 30.6777\n"
          ]
        },
        {
          "name": "stderr",
          "output_type": "stream",
          "text": [
            "Epoch 179/200: 100%|██████████| 782/782 [00:05<00:00, 132.09batch/s, batch_loss=34.3013]\n"
          ]
        },
        {
          "name": "stdout",
          "output_type": "stream",
          "text": [
            "Epoch 179/200: Train Loss = 30.1919, Test Loss = 30.5988\n"
          ]
        },
        {
          "name": "stderr",
          "output_type": "stream",
          "text": [
            "Epoch 180/200: 100%|██████████| 782/782 [00:05<00:00, 134.94batch/s, batch_loss=28.0753]\n"
          ]
        },
        {
          "name": "stdout",
          "output_type": "stream",
          "text": [
            "Epoch 180/200: Train Loss = 30.5412, Test Loss = 31.5334\n"
          ]
        },
        {
          "name": "stderr",
          "output_type": "stream",
          "text": [
            "Epoch 181/200: 100%|██████████| 782/782 [00:05<00:00, 131.01batch/s, batch_loss=31.3222]\n"
          ]
        },
        {
          "name": "stdout",
          "output_type": "stream",
          "text": [
            "Epoch 181/200: Train Loss = 30.8478, Test Loss = 30.9024\n"
          ]
        },
        {
          "name": "stderr",
          "output_type": "stream",
          "text": [
            "Epoch 182/200: 100%|██████████| 782/782 [00:05<00:00, 130.81batch/s, batch_loss=27.3255]\n"
          ]
        },
        {
          "name": "stdout",
          "output_type": "stream",
          "text": [
            "Epoch 182/200: Train Loss = 30.5323, Test Loss = 31.4184\n"
          ]
        },
        {
          "name": "stderr",
          "output_type": "stream",
          "text": [
            "Epoch 183/200: 100%|██████████| 782/782 [00:05<00:00, 135.22batch/s, batch_loss=30.4909]\n"
          ]
        },
        {
          "name": "stdout",
          "output_type": "stream",
          "text": [
            "Epoch 183/200: Train Loss = 30.3459, Test Loss = 30.6360\n"
          ]
        },
        {
          "name": "stderr",
          "output_type": "stream",
          "text": [
            "Epoch 184/200: 100%|██████████| 782/782 [00:06<00:00, 129.89batch/s, batch_loss=31.4287]\n"
          ]
        },
        {
          "name": "stdout",
          "output_type": "stream",
          "text": [
            "Epoch 184/200: Train Loss = 30.2380, Test Loss = 30.7102\n"
          ]
        },
        {
          "name": "stderr",
          "output_type": "stream",
          "text": [
            "Epoch 185/200: 100%|██████████| 782/782 [00:06<00:00, 127.96batch/s, batch_loss=32.2395]\n"
          ]
        },
        {
          "name": "stdout",
          "output_type": "stream",
          "text": [
            "Epoch 185/200: Train Loss = 30.1776, Test Loss = 30.6972\n"
          ]
        },
        {
          "name": "stderr",
          "output_type": "stream",
          "text": [
            "Epoch 186/200: 100%|██████████| 782/782 [00:05<00:00, 137.21batch/s, batch_loss=28.1855]\n"
          ]
        },
        {
          "name": "stdout",
          "output_type": "stream",
          "text": [
            "Epoch 186/200: Train Loss = 30.2051, Test Loss = 30.5075\n"
          ]
        },
        {
          "name": "stderr",
          "output_type": "stream",
          "text": [
            "Epoch 187/200: 100%|██████████| 782/782 [00:05<00:00, 133.43batch/s, batch_loss=35.2606]\n"
          ]
        },
        {
          "name": "stdout",
          "output_type": "stream",
          "text": [
            "Epoch 187/200: Train Loss = 30.8478, Test Loss = 35.1914\n"
          ]
        },
        {
          "name": "stderr",
          "output_type": "stream",
          "text": [
            "Epoch 188/200: 100%|██████████| 782/782 [00:06<00:00, 127.52batch/s, batch_loss=27.6075]\n"
          ]
        },
        {
          "name": "stdout",
          "output_type": "stream",
          "text": [
            "Epoch 188/200: Train Loss = 30.4936, Test Loss = 30.7074\n"
          ]
        },
        {
          "name": "stderr",
          "output_type": "stream",
          "text": [
            "Epoch 189/200: 100%|██████████| 782/782 [00:05<00:00, 133.47batch/s, batch_loss=34.0289]\n"
          ]
        },
        {
          "name": "stdout",
          "output_type": "stream",
          "text": [
            "Epoch 189/200: Train Loss = 30.2039, Test Loss = 30.7401\n"
          ]
        },
        {
          "name": "stderr",
          "output_type": "stream",
          "text": [
            "Epoch 190/200: 100%|██████████| 782/782 [00:05<00:00, 134.97batch/s, batch_loss=30.9492]\n"
          ]
        },
        {
          "name": "stdout",
          "output_type": "stream",
          "text": [
            "Epoch 190/200: Train Loss = 30.2071, Test Loss = 30.4715\n"
          ]
        },
        {
          "name": "stderr",
          "output_type": "stream",
          "text": [
            "Epoch 191/200: 100%|██████████| 782/782 [00:05<00:00, 132.41batch/s, batch_loss=31.3152]\n"
          ]
        },
        {
          "name": "stdout",
          "output_type": "stream",
          "text": [
            "Epoch 191/200: Train Loss = 30.1058, Test Loss = 30.7282\n"
          ]
        },
        {
          "name": "stderr",
          "output_type": "stream",
          "text": [
            "Epoch 192/200: 100%|██████████| 782/782 [00:05<00:00, 134.16batch/s, batch_loss=34.9494]\n"
          ]
        },
        {
          "name": "stdout",
          "output_type": "stream",
          "text": [
            "Epoch 192/200: Train Loss = 30.1769, Test Loss = 31.3641\n"
          ]
        },
        {
          "name": "stderr",
          "output_type": "stream",
          "text": [
            "Epoch 193/200: 100%|██████████| 782/782 [00:06<00:00, 128.10batch/s, batch_loss=29.5213]\n"
          ]
        },
        {
          "name": "stdout",
          "output_type": "stream",
          "text": [
            "Epoch 193/200: Train Loss = 30.1161, Test Loss = 30.3239\n"
          ]
        },
        {
          "name": "stderr",
          "output_type": "stream",
          "text": [
            "Epoch 194/200: 100%|██████████| 782/782 [00:05<00:00, 130.55batch/s, batch_loss=27.1001]\n"
          ]
        },
        {
          "name": "stdout",
          "output_type": "stream",
          "text": [
            "Epoch 194/200: Train Loss = 30.0518, Test Loss = 30.5598\n"
          ]
        },
        {
          "name": "stderr",
          "output_type": "stream",
          "text": [
            "Epoch 195/200: 100%|██████████| 782/782 [00:06<00:00, 130.12batch/s, batch_loss=31.7028]\n"
          ]
        },
        {
          "name": "stdout",
          "output_type": "stream",
          "text": [
            "Epoch 195/200: Train Loss = 30.0368, Test Loss = 30.8067\n"
          ]
        },
        {
          "name": "stderr",
          "output_type": "stream",
          "text": [
            "Epoch 196/200: 100%|██████████| 782/782 [00:05<00:00, 133.30batch/s, batch_loss=29.9232]\n"
          ]
        },
        {
          "name": "stdout",
          "output_type": "stream",
          "text": [
            "Epoch 196/200: Train Loss = 30.2080, Test Loss = 30.3936\n"
          ]
        },
        {
          "name": "stderr",
          "output_type": "stream",
          "text": [
            "Epoch 197/200: 100%|██████████| 782/782 [00:06<00:00, 127.60batch/s, batch_loss=25.1979]\n"
          ]
        },
        {
          "name": "stdout",
          "output_type": "stream",
          "text": [
            "Epoch 197/200: Train Loss = 30.0416, Test Loss = 30.4552\n"
          ]
        },
        {
          "name": "stderr",
          "output_type": "stream",
          "text": [
            "Epoch 198/200: 100%|██████████| 782/782 [00:05<00:00, 131.49batch/s, batch_loss=26.1149]\n"
          ]
        },
        {
          "name": "stdout",
          "output_type": "stream",
          "text": [
            "Epoch 198/200: Train Loss = 30.2020, Test Loss = 30.7259\n"
          ]
        },
        {
          "name": "stderr",
          "output_type": "stream",
          "text": [
            "Epoch 199/200: 100%|██████████| 782/782 [00:05<00:00, 135.18batch/s, batch_loss=29.6467]\n"
          ]
        },
        {
          "name": "stdout",
          "output_type": "stream",
          "text": [
            "Epoch 199/200: Train Loss = 30.1651, Test Loss = 30.9581\n"
          ]
        },
        {
          "name": "stderr",
          "output_type": "stream",
          "text": [
            "Epoch 200/200: 100%|██████████| 782/782 [00:05<00:00, 134.06batch/s, batch_loss=33.7081]\n"
          ]
        },
        {
          "name": "stdout",
          "output_type": "stream",
          "text": [
            "Epoch 200/200: Train Loss = 30.5661, Test Loss = 31.2140\n",
            "\n",
            "Total Training Time: 1370.20 seconds\n"
          ]
        },
        {
          "data": {
            "image/png": "[encoded data removed]",
            "text/plain": [
              "<Figure size 1000x600 with 1 Axes>"
            ]
          },
          "metadata": {},
          "output_type": "display_data"
        }
      ],
      "source": [
        "print(\"Begin training\")\n",
        "trained_model = train(model, train_loader, test_loader, optim, NUM_EPOCHS, BATCH_SIZE)"
      ]
    },
    {
      "cell_type": "markdown",
      "metadata": {
        "id": "DnUFW-btnBCc"
      },
      "source": [
        "### Part B\n",
        "\n",
        "Pick the first five digits in the test set and plot the original and reconstructed images.\n",
        "\n",
        "**Answer:**"
      ]
    },
    {
      "cell_type": "code",
      "execution_count": 35,
      "metadata": {
        "id": "VU8W-3DHnBCc"
      },
      "outputs": [
        {
          "data": {
            "image/png": "[encoded data removed]",
            "text/plain": [
              "<Figure size 1500x600 with 10 Axes>"
            ]
          },
          "metadata": {},
          "output_type": "display_data"
        }
      ],
      "source": [
        "# your code here\n",
        "\n",
        "# Define a function to plot the original and reconstructed images\n",
        "def plot_original_and_reconstructed(model, test_loader):\n",
        "    test_iter = iter(test_loader)\n",
        "    x, _ = next(test_iter)  \n",
        "    x = x[:5].numpy()       \n",
        "    x_flat = x.reshape(x.shape[0], -1)  \n",
        "\n",
        "    # Reconstruct the images\n",
        "    model = eqx.nn.inference_mode(model, value=True)\n",
        "    x_recon = vmap(model)(x_flat).reshape(-1, 28, 28) \n",
        "\n",
        "\n",
        "    fig, axes = plt.subplots(2, 5, figsize=(15, 6))\n",
        "\n",
        "    for i in range(5):\n",
        "        # Original images\n",
        "        axes[0, i].imshow(x[i, 0], cmap=\"gray\")\n",
        "        axes[0, i].axis(\"off\")\n",
        "        axes[0, i].set_title(\"Original\")\n",
        "\n",
        "        # Reconstructed images\n",
        "        axes[1, i].imshow(x_recon[i], cmap=\"gray\")\n",
        "        axes[1, i].axis(\"off\")\n",
        "        axes[1, i].set_title(\"Reconstructed\")\n",
        "    plt.tight_layout()\n",
        "    plt.show()\n",
        "\n",
        "# Call the function\n",
        "plot_original_and_reconstructed(trained_model, test_loader)"
      ]
    },
    {
      "cell_type": "markdown",
      "metadata": {
        "id": "koTR8IornBCc"
      },
      "source": [
        "### Part C\n",
        "\n",
        "Plot the projections of the digits in the latent space (training and test).\n",
        "\n",
        "**Answer:**"
      ]
    },
    {
      "cell_type": "code",
      "execution_count": 36,
      "metadata": {
        "id": "1usGHub2nBCc"
      },
      "outputs": [
        {
          "data": {
            "image/png": "[encoded data removed]",
            "text/plain": [
              "<Figure size 600x400 with 2 Axes>"
            ]
          },
          "metadata": {},
          "output_type": "display_data"
        },
        {
          "data": {
            "image/png": "[encoded data removed]",
            "text/plain": [
              "<Figure size 600x400 with 2 Axes>"
            ]
          },
          "metadata": {},
          "output_type": "display_data"
        }
      ],
      "source": [
        "# your code here\n",
        "\n",
        "def plot_latent_space_projections(model, loader, title):\n",
        "    # Encode all images in the loader into the latent space\n",
        "    latent_space = []\n",
        "    labels = []\n",
        "\n",
        "    for x, y in loader:\n",
        "        x = x.numpy().reshape(x.shape[0], -1)\n",
        "        latent_space.append(jax.vmap(model.encoder)(x))\n",
        "        labels.append(y.numpy())\n",
        "               \n",
        "    # labels = jnp.hstack(labels)\n",
        "    # latent_space = jnp.vstack(latent_space)\n",
        "    latent_space = jnp.concatenate(latent_space, axis=0)\n",
        "    labels = jnp.concatenate(labels, axis=0)\n",
        "\n",
        "    plt.figure(figsize=(6, 4))\n",
        "    scatter = plt.scatter(latent_space[:, 0], latent_space[:, 1], c=labels, cmap=\"tab10\", s=10, alpha=0.8)\n",
        "    plt.colorbar(scatter, label=\"Label\")\n",
        "    plt.title(f\"Latent Space Projections ({title})\")\n",
        "    plt.xlabel(\"Latent Dimension 1\")\n",
        "    plt.ylabel(\"Latent Dimension 2\")\n",
        "    plt.grid(True)\n",
        "    plt.show()\n",
        "\n",
        "# Plot projections for training and test data\n",
        "plot_latent_space_projections(trained_model, train_loader, title=\"Training Data\")\n",
        "plot_latent_space_projections(trained_model, test_loader, title=\"Test Data\")"
      ]
    },
    {
      "cell_type": "markdown",
      "metadata": {
        "id": "ZQihmU6JnBCc"
      },
      "source": [
        "### Part D\n",
        "\n",
        "Use `scikitlearn` to fit a mixture of Gaussians to the latent space. Use 10 components.\n",
        "Then sample five times from the fitted mixture of Gaussians, reconstruct the samples, and plot the reconstructed images.\n",
        "\n",
        "**Answer:**"
      ]
    },
    {
      "cell_type": "code",
      "execution_count": 37,
      "metadata": {},
      "outputs": [
        {
          "data": {
            "image/png": "[encoded data removed]",
            "text/plain": [
              "<Figure size 1000x200 with 5 Axes>"
            ]
          },
          "metadata": {},
          "output_type": "display_data"
        }
      ],
      "source": [
        "# Function to fit a Gaussian Mixture Model (GMM) to the latent space and reconstruct images\n",
        "def fit_gmm_and_reconstruct(loader, model, num_components=10, num_samples=5, random_state= None):\n",
        "\n",
        "    # same code snippet from previous block \n",
        "    latent_space = []\n",
        "    labels = []\n",
        "\n",
        "    for x, y in loader:\n",
        "        x = x.numpy().reshape(x.shape[0], -1)\n",
        "        latent_space.append(jax.vmap(model.encoder)(x))\n",
        "        labels.append(y.numpy())\n",
        "               \n",
        "    labels = jnp.hstack(labels)\n",
        "    latent_space = jnp.vstack(latent_space)\n",
        "\n",
        "    # Fit a Gaussian Mixture Model (GMM) with specified components\n",
        "    gmm = GaussianMixture(n_components=num_components, random_state=random_state)\n",
        "    gmm.fit(np.array(latent_space))\n",
        "\n",
        "    # Sample from the GMM and reconstruct the images\n",
        "    samples, _ = gmm.sample(num_samples)\n",
        "    \n",
        "    # Decode and plot\n",
        "    reconstructed_images = jax.vmap(model.decoder)(jnp.array(samples))\n",
        "    plt.figure(figsize=(10, 2))\n",
        "    for i, img in enumerate(reconstructed_images):\n",
        "        plt.subplot(1, num_samples, i + 1)\n",
        "        plt.imshow(img.reshape(28, 28), cmap='gray')\n",
        "        plt.axis('off')\n",
        "    plt.suptitle(f\"Reconstructed Images from {num_samples} GMM Samples\")\n",
        "    plt.show()\n",
        "\n",
        "# Call the function\n",
        "fit_gmm_and_reconstruct(train_loader, trained_model, num_components=10, num_samples=5, random_state=SEED)"
      ]
    }
  ],
  "metadata": {
    "colab": {
      "provenance": []
    },
    "kernelspec": {
      "display_name": "base",
      "language": "python",
      "name": "python3"
    },
    "language_info": {
      "codemirror_mode": {
        "name": "ipython",
        "version": 3
      },
      "file_extension": ".py",
      "mimetype": "text/x-python",
      "name": "python",
      "nbconvert_exporter": "python",
      "pygments_lexer": "ipython3",
      "version": "3.12.2"
    }
  },
  "nbformat": 4,
  "nbformat_minor": 0
}
