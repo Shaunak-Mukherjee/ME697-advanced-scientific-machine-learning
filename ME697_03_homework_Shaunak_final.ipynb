{
  "cells": [
    {
      "cell_type": "code",
      "execution_count": 1,
      "metadata": {
        "id": "zbi_W1Btz8jL",
        "tags": [
          "hide-input",
          "hide-output"
        ]
      },
      "outputs": [
        {
          "name": "stdout",
          "output_type": "stream",
          "text": [
            "Requirement already satisfied: orthojax in /opt/anaconda3/envs/controlnet/lib/python3.10/site-packages (0.1.5)\n",
            "Requirement already satisfied: jax>=0.4.19 in /opt/anaconda3/envs/controlnet/lib/python3.10/site-packages (from orthojax) (0.5.0)\n",
            "Requirement already satisfied: numpy in /opt/anaconda3/envs/controlnet/lib/python3.10/site-packages (from orthojax) (1.26.4)\n",
            "Requirement already satisfied: equinox>=0.11.2 in /opt/anaconda3/envs/controlnet/lib/python3.10/site-packages (from orthojax) (0.11.11)\n",
            "Requirement already satisfied: jaxtyping>=0.2.20 in /opt/anaconda3/envs/controlnet/lib/python3.10/site-packages (from equinox>=0.11.2->orthojax) (0.2.37)\n",
            "Requirement already satisfied: typing-extensions>=4.5.0 in /opt/anaconda3/envs/controlnet/lib/python3.10/site-packages (from equinox>=0.11.2->orthojax) (4.12.2)\n",
            "Requirement already satisfied: jaxlib<=0.5.0,>=0.5.0 in /opt/anaconda3/envs/controlnet/lib/python3.10/site-packages (from jax>=0.4.19->orthojax) (0.5.0)\n",
            "Requirement already satisfied: ml_dtypes>=0.4.0 in /opt/anaconda3/envs/controlnet/lib/python3.10/site-packages (from jax>=0.4.19->orthojax) (0.5.1)\n",
            "Requirement already satisfied: opt_einsum in /opt/anaconda3/envs/controlnet/lib/python3.10/site-packages (from jax>=0.4.19->orthojax) (3.4.0)\n",
            "Requirement already satisfied: scipy>=1.11.1 in /opt/anaconda3/envs/controlnet/lib/python3.10/site-packages (from jax>=0.4.19->orthojax) (1.14.1)\n",
            "Requirement already satisfied: wadler-lindig>=0.1.3 in /opt/anaconda3/envs/controlnet/lib/python3.10/site-packages (from jaxtyping>=0.2.20->equinox>=0.11.2->orthojax) (0.1.3)\n",
            "Requirement already satisfied: py-design in /opt/anaconda3/envs/controlnet/lib/python3.10/site-packages (2.1)\n",
            "Requirement already satisfied: numpy in /opt/anaconda3/envs/controlnet/lib/python3.10/site-packages (from py-design) (1.26.4)\n",
            "Requirement already satisfied: orthojax in /opt/anaconda3/envs/controlnet/lib/python3.10/site-packages (0.1.5)\n",
            "Requirement already satisfied: jax>=0.4.19 in /opt/anaconda3/envs/controlnet/lib/python3.10/site-packages (from orthojax) (0.5.0)\n",
            "Requirement already satisfied: numpy in /opt/anaconda3/envs/controlnet/lib/python3.10/site-packages (from orthojax) (1.26.4)\n",
            "Requirement already satisfied: equinox>=0.11.2 in /opt/anaconda3/envs/controlnet/lib/python3.10/site-packages (from orthojax) (0.11.11)\n",
            "Requirement already satisfied: jaxtyping>=0.2.20 in /opt/anaconda3/envs/controlnet/lib/python3.10/site-packages (from equinox>=0.11.2->orthojax) (0.2.37)\n",
            "Requirement already satisfied: typing-extensions>=4.5.0 in /opt/anaconda3/envs/controlnet/lib/python3.10/site-packages (from equinox>=0.11.2->orthojax) (4.12.2)\n",
            "Requirement already satisfied: jaxlib<=0.5.0,>=0.5.0 in /opt/anaconda3/envs/controlnet/lib/python3.10/site-packages (from jax>=0.4.19->orthojax) (0.5.0)\n",
            "Requirement already satisfied: ml_dtypes>=0.4.0 in /opt/anaconda3/envs/controlnet/lib/python3.10/site-packages (from jax>=0.4.19->orthojax) (0.5.1)\n",
            "Requirement already satisfied: opt_einsum in /opt/anaconda3/envs/controlnet/lib/python3.10/site-packages (from jax>=0.4.19->orthojax) (3.4.0)\n",
            "Requirement already satisfied: scipy>=1.11.1 in /opt/anaconda3/envs/controlnet/lib/python3.10/site-packages (from jax>=0.4.19->orthojax) (1.14.1)\n",
            "Requirement already satisfied: wadler-lindig>=0.1.3 in /opt/anaconda3/envs/controlnet/lib/python3.10/site-packages (from jaxtyping>=0.2.20->equinox>=0.11.2->orthojax) (0.1.3)\n",
            "Collecting git+https://github.com/PredictiveScienceLab/py-design\n",
            "  Cloning https://github.com/PredictiveScienceLab/py-design to /private/var/folders/hp/yxh9pspn4sj9pm14j55cdxlr0000gp/T/pip-req-build-3mkmh9uz\n",
            "  Running command git clone --filter=blob:none --quiet https://github.com/PredictiveScienceLab/py-design /private/var/folders/hp/yxh9pspn4sj9pm14j55cdxlr0000gp/T/pip-req-build-3mkmh9uz\n",
            "  Resolved https://github.com/PredictiveScienceLab/py-design to commit 7233a686cfed9c325fe168e02d71317003b4a9a2\n",
            "  Installing build dependencies ... \u001b[?25ldone\n",
            "\u001b[?25h  Getting requirements to build wheel ... \u001b[?25ldone\n",
            "\u001b[?25h  Installing backend dependencies ... \u001b[?25ldone\n",
            "\u001b[?25h  Preparing metadata (pyproject.toml) ... \u001b[?25ldone\n",
            "\u001b[?25hRequirement already satisfied: numpy in /opt/anaconda3/envs/controlnet/lib/python3.10/site-packages (from py-design==2.1) (1.26.4)\n",
            "Requirement already satisfied: diffrax in /opt/anaconda3/envs/controlnet/lib/python3.10/site-packages (0.6.2)\n",
            "Requirement already satisfied: equinox>=0.11.10 in /opt/anaconda3/envs/controlnet/lib/python3.10/site-packages (from diffrax) (0.11.11)\n",
            "Requirement already satisfied: jax>=0.4.38 in /opt/anaconda3/envs/controlnet/lib/python3.10/site-packages (from diffrax) (0.5.0)\n",
            "Requirement already satisfied: jaxtyping>=0.2.24 in /opt/anaconda3/envs/controlnet/lib/python3.10/site-packages (from diffrax) (0.2.37)\n",
            "Requirement already satisfied: lineax>=0.0.5 in /opt/anaconda3/envs/controlnet/lib/python3.10/site-packages (from diffrax) (0.0.7)\n",
            "Requirement already satisfied: optimistix>=0.0.7 in /opt/anaconda3/envs/controlnet/lib/python3.10/site-packages (from diffrax) (0.0.10)\n",
            "Requirement already satisfied: typeguard==2.13.3 in /opt/anaconda3/envs/controlnet/lib/python3.10/site-packages (from diffrax) (2.13.3)\n",
            "Requirement already satisfied: typing-extensions>=4.5.0 in /opt/anaconda3/envs/controlnet/lib/python3.10/site-packages (from diffrax) (4.12.2)\n",
            "Requirement already satisfied: jaxlib<=0.5.0,>=0.5.0 in /opt/anaconda3/envs/controlnet/lib/python3.10/site-packages (from jax>=0.4.38->diffrax) (0.5.0)\n",
            "Requirement already satisfied: ml_dtypes>=0.4.0 in /opt/anaconda3/envs/controlnet/lib/python3.10/site-packages (from jax>=0.4.38->diffrax) (0.5.1)\n",
            "Requirement already satisfied: numpy>=1.25 in /opt/anaconda3/envs/controlnet/lib/python3.10/site-packages (from jax>=0.4.38->diffrax) (1.26.4)\n",
            "Requirement already satisfied: opt_einsum in /opt/anaconda3/envs/controlnet/lib/python3.10/site-packages (from jax>=0.4.38->diffrax) (3.4.0)\n",
            "Requirement already satisfied: scipy>=1.11.1 in /opt/anaconda3/envs/controlnet/lib/python3.10/site-packages (from jax>=0.4.38->diffrax) (1.14.1)\n",
            "Requirement already satisfied: wadler-lindig>=0.1.3 in /opt/anaconda3/envs/controlnet/lib/python3.10/site-packages (from jaxtyping>=0.2.24->diffrax) (0.1.3)\n"
          ]
        }
      ],
      "source": [
        "import matplotlib.pyplot as plt\n",
        "%matplotlib inline\n",
        "import matplotlib_inline\n",
        "matplotlib_inline.backend_inline.set_matplotlib_formats('png')\n",
        "import seaborn as sns\n",
        "sns.set_context(\"paper\")\n",
        "sns.set_style(\"ticks\");\n",
        "\n",
        "\n",
        "!pip install orthojax --upgrade\n",
        "!pip install py-design --upgrade\n",
        "!pip install orthojax --upgrade\n",
        "!pip install git+https://github.com/PredictiveScienceLab/py-design\n",
        "!pip install diffrax\n",
        "import numpy as np\n",
        "import jax.numpy as jnp\n",
        "import jax.random as jr\n",
        "import orthojax as ojax\n",
        "import jax.numpy as jnp\n",
        "from jax import jit, vmap\n",
        "from collections import namedtuple\n",
        "import design\n",
        "import jax\n",
        "import orthojax as ojax\n",
        "from scipy.integrate import solve_ivp\n",
        "import matplotlib.pyplot as plt\n",
        "from matplotlib.animation import FuncAnimation #to make animation \n",
        "from functools import partial\n",
        "\n",
        "from jax.scipy import stats as jstats\n",
        "from functools import partial\n",
        "from diffrax import diffeqsolve, Tsit5, SaveAt, ODETerm"
      ]
    },
    {
      "cell_type": "markdown",
      "metadata": {
        "id": "ozEcb78Fz8jN"
      },
      "source": [
        "# Homework 3\n",
        "\n",
        "## References\n",
        "\n",
        "+ Module 3: Uncertainty Propagation Through Scientific Models\n",
        "    - Polynomial chaos\n",
        "\n",
        "## Instructions\n",
        "\n",
        "+ Type your name and email in the \"Student details\" section below.\n",
        "+ Develop the code and generate the figures you need to solve the problems using this notebook.\n",
        "+ For the answers that require a mathematical proof or derivation you should type them using latex. If you have never written latex before and you find it exceedingly difficult, we will likely accept handwritten solutions.\n",
        "+ The total homework points are 100. Please note that the problems are not weighed equally.\n",
        "\n",
        "## Student details\n",
        "\n",
        "+ **First Name: Shaunak**\n",
        "+ **Last Name: Mukherjee**\n",
        "+ **Email: mukher86@purdue.edu**\n",
        "+ **Used generative AI to complete this assignment (Yes/No): Yes**\n",
        "+ **Which generative AI tool did you use (if applicable)?: I leveraged the algorithmic cognitive augmentation of ChatGPT to demystify the arcane convolution of abstruse mathematical problematics, disentangling the grandiloquent lexicon and hermetically sealed conceptual opacity enshrined within the labyrinthine complexities of my assigned computational inquiries**"
      ]
    },
    {
      "cell_type": "markdown",
      "metadata": {
        "id": "GNzMkehMz8jO"
      },
      "source": [
        "# Problem 1 - The Pythagorean theorem on Hilbert Spaces\n",
        "\n",
        "Let $H$ be a Hilbert space with inner product $\\langle \\cdot, \\cdot \\rangle$ and norm $\\| \\cdot \\|$. Let $x, y \\in H$.\n",
        "\n",
        "## Part A\n",
        "Prove that if $x$ and $y$ are orthogonal, then the Pythagorean theorem holds, i.e.,\n",
        "\n",
        "$$\n",
        "\\| x + y \\|^2 = \\| x \\|^2 + \\| y \\|^2.\n",
        "$$\n",
        "\n",
        "*Hint:* Use the fact that $\\| x + y \\|^2 = \\langle x + y, x + y \\rangle$.\n",
        "\n",
        "**Answer:**"
      ]
    },
    {
      "cell_type": "markdown",
      "metadata": {
        "id": "lgYeCjSRz8jO"
      },
      "source": [
        "We start with the hint:\n",
        "\\begin{equation}\n",
        "\\| x + y \\|^2 = \\langle x + y, x + y \\rangle. \\quad \\text{(1)}\n",
        "\\end{equation}\n",
        "\n",
        "Expanding the right-hand side of equation (1) using properties of the inner product:\n",
        "\\begin{align*}\n",
        "\\langle x + y, x + y \\rangle &= \\langle x, x \\rangle + \\langle x, y \\rangle + \\langle y, x \\rangle + \\langle y, y \\rangle.\n",
        "\\end{align*}\n",
        "\n",
        "Since the inner product is conjugate symmetric, we have $\\langle y, x \\rangle = \\overline{\\langle x, y \\rangle}$.\n",
        "Also, since $x, y \\in H$ are orthogonal, $\\langle x, y \\rangle = 0$.\n",
        "\n",
        "This simplifies equation (1) to:\n",
        "\\begin{align*}\n",
        "\\langle x + y, x + y \\rangle = \\langle x, x \\rangle + 0 + 0 + \\langle y, y \\rangle.\n",
        "\\end{align*}\n",
        "\n",
        "By definition, $\\| x \\| = \\sqrt{\\langle x, x \\rangle}$, so equation (1) becomes:\n",
        "\\begin{align*}\n",
        "\\| x + y \\|^2 = \\| x \\|^2 + \\| y \\|^2.\n",
        "\\end{align*}\n",
        "\n",
        "Thus, the Pythagorean theorem holds:\n",
        "\\begin{align*}\n",
        "\\| x + y \\|^2 = \\| x \\|^2 + \\| y \\|^2.\n",
        "\\end{align*}\n",
        "\n",
        "Q.E.D."
      ]
    },
    {
      "cell_type": "markdown",
      "metadata": {
        "id": "BhbCSFn_z8jP"
      },
      "source": [
        "## Part B\n",
        "\n",
        "Prove the following generalization of the Pythagorean theorem.\n",
        "Let $x_1,x_2,\\dots,x_n \\in H$ be pairwise orthogonal, i.e., $\\langle x_i, x_j \\rangle = 0$ for all $i \\neq j$. Then,\n",
        "\n",
        "$$\n",
        "\\| x_1 + x_2 + \\dots + x_n \\|^2 = \\| x_1 \\|^2 + \\| x_2 \\|^2 + \\dots + \\| x_n \\|^2.\n",
        "$$\n",
        "\n",
        "*Hint:* Use induction and the result from Part A.\n",
        "\n",
        "**Answer:**"
      ]
    },
    {
      "cell_type": "markdown",
      "metadata": {
        "id": "uhrgFbyxz8jP"
      },
      "source": [
        "Let's assume that the result holds for $(n = i)$, i.e., so for $i$ pairwise orthogonal vectors $(x_1, x_2, \\dots, x_i)$, we are assumung results from Part A holds: $\n",
        "\\| x_1 + x_2 + \\dots + x_i \\|^2 = \\| x_1 \\|^2 + \\| x_2 \\|^2 + \\dots + \\| x_i \\|^2.$\n",
        "\n",
        "We need to prove that the result holds for $(n = i+1)$ vector, i.e., for any set of $(i+1)$ pairwise orthogonal vectors $(x_1, x_2, \\dots, x_{i+1})$, we have:\n",
        "\n",
        "$\\| x_1 + x_2 + \\dots + x_{i+1} \\|^2 = \\| x_1 \\|^2 + \\| x_2 \\|^2 + \\dots + \\| x_{i+1} \\|^2.$\n",
        "\n",
        "The sum $x_1 + x_2 + \\dots + x_{i+1}$ can be written as: $x_1 + x_2 + \\dots + x_{i+1} = (x_1 + x_2 + \\dots + x_k) + x_{i+1}.$\n",
        "\n",
        "$\n",
        "\\text{Vectors } x_1, x_2, \\dots, x_i \\text{ are pairwise orthogonal, so they are orthogonal to } x_{i+1}.\n",
        "\\$\n",
        "\n",
        "This implies that:\n",
        "$\n",
        "\\langle x_i, x_{i+1} \\rangle = 0 \\quad \\forall i = 1, 2, \\dots, i.$\n",
        "\n",
        "Thus, $(x_1 + x_2 + \\dots + x_i)$ and $x_{i+1}$ are orthogonal. Now, applying the result from Part A, we have:\n",
        "\n",
        "$\n",
        "\\| (x_1 + x_2 + \\dots + x_i) + x_{i+1} \\|^2 = \\| x_1 + x_2 + \\dots + x_i \\|^2 + \\| x_{i+1} \\|^2.$\n",
        "\n",
        "By the induction hypothesis, we know that:\n",
        "\n",
        "$\n",
        "\\| x_1 + x_2 + \\dots + x_k \\|^2 = \\| x_1 \\|^2 + \\| x_2 \\|^2 + \\dots + \\| x_i \\|^2.\n",
        "$\n",
        "\n",
        "Thus, we get:\n",
        "$\n",
        "\\| x_1 + x_2 + \\dots + x_{i+1} \\|^2 = \\left( \\| x_1 \\|^2 + \\| x_2 \\|^2 + \\dots + \\| x_i \\|^2 \\right) + \\| x_{i+1} \\|^2.\n",
        "$\n",
        "Therefore, the result holds for $(n = k+1)$.\n",
        "\n",
        "Q.E.D"
      ]
    },
    {
      "cell_type": "markdown",
      "metadata": {
        "id": "KIEfZ2BKz8jQ"
      },
      "source": [
        "By Parseval's identity, for any $x \\in H$ and any orthonormal basis $\\{e_i\\}_{i=1}^\\infty$ of $H$, we have:\n",
        "\n",
        "$$\n",
        "\\|x\\|^2 = \\sum_{i=1}^\\infty |\\langle x, e_i \\rangle|^2.\n",
        "$$\n",
        "\n",
        "Since $x \\in H$, its norm $\\|x\\|$ is well-defined and finite.  Therefore, the sum on the right-hand side must also be finite:\n",
        "\n",
        "$$\n",
        "\\sum_{i=1}^\\infty |\\langle x, e_i \\rangle|^2 = \\|x\\|^2 < \\infty.\n",
        "$$\n",
        "\n",
        "This shows that the sequence $(\\langle x, e_1 \\rangle, \\langle x, e_2 \\rangle, \\dots)$ is square-summable, and thus belongs to $\\ell^2$.  Therefore, $T(x) \\in \\ell^2$ for all $x \\in H$. Q.E.D"
      ]
    },
    {
      "cell_type": "markdown",
      "metadata": {
        "id": "MC9OXhj2z8jP"
      },
      "source": [
        "# Problem 2 - All infinite dimensional separable Hilbert spaces are isomorphic to $\\ell^2$\n",
        "\n",
        "An infinite dimensional Hilbert space $H$ are isomorphic to $\\ell^2$, the space of square summable sequences of real numbers. In this problem we will prove this result.\n",
        "Intuitively, this means that we can think of vectors in $H$ as infinite dimensional vectors in $\\ell^2$.\n",
        "It is as if the space $H$ is a relabeling of the space $\\ell^2$.\n",
        "First, recall that\n",
        "\n",
        "$$\n",
        "\\ell^2 = \\left\\{ a = (a_1, a_2, \\dots) \\mid \\sum_{i=1}^\\infty |a_i|^2 < \\infty \\right\\}.\n",
        "$$\n",
        "\n",
        "The innner product in $\\ell^2$ is given by\n",
        "\n",
        "$$\n",
        "\\langle a, b \\rangle_{\\ell^2} = \\sum_{i=1}^\\infty a_i b_i,\n",
        "$$\n",
        "\n",
        "for all $a, b \\in \\ell^2$.\n",
        "\n",
        "To show that two spaces are isomorphic, we need to show that there exists a bijective linear map between them which keeps the inner product intact.\n",
        "Bijection means that the map is one-to-one and onto.\n",
        "So, we need to find an invertible, linear map:\n",
        "\n",
        "$$\n",
        "T: H \\to \\ell^2.\n",
        "$$\n",
        "\n",
        "To keep the inner product intact, we need to show that for all $x, y \\in H$,\n",
        "\n",
        "$$\n",
        "\\langle x, y \\rangle = \\langle T(x), T(y) \\rangle_{\\ell^2}.\n",
        "$$\n",
        "\n",
        "Here, on the left we have the inner product in $H$ and on the right we have the inner product in $\\ell^2$.\n",
        "If the inner products are intact, orthogonality is preserved by $T$.\n",
        "And also norms are preserved, since $\\| x \\| = \\sqrt{\\langle x, x \\rangle}$.\n",
        "\n",
        "Okay, this is what you will have to do.\n",
        "I will give you the right $T$ and you will have to show that it is linear, invertible, and keeps the inner product intact.\n",
        "\n",
        "Recall that since $H$ is separable, it has a countable orthonormal basis $\\{ e_1, e_2, \\dots \\}$.\n",
        "This means that every vector $x \\in H$ can be written as\n",
        "\n",
        "$$\n",
        "    x = \\sum_{i=1}^\\infty \\langle x, e_i \\rangle e_i.\n",
        "$$\n",
        "\n",
        "The idea is to use the Fourier coefficients $\\langle x, e_i \\rangle$ as the entries of the vector $T(x)$, i.e., we define:\n",
        "\n",
        "$$\n",
        "T(x) = ( \\langle x, e_1 \\rangle, \\langle x, e_2 \\rangle, \\dots ).\n",
        "$$\n",
        "\n",
        "## Part A\n",
        "\n",
        "Show that $T(x)$ is indeed in $\\ell^2$ for all $x \\in H$. That is, show that $\\sum_{i=1}^\\infty |\\langle x, e_i \\rangle|^2 < \\infty$.\n",
        "\n",
        "*Hint:* Use Parseval's identity.\n",
        "\n",
        "**Answer:**"
      ]
    },
    {
      "cell_type": "markdown",
      "metadata": {
        "id": "wAMwzjA-z8jQ"
      },
      "source": [
        "## Part B\n",
        "\n",
        "Show that $T$ is a linear map, i.e., show that for all $x, y \\in H$ and $\\alpha, \\beta \\in \\mathbb{R}$,\n",
        "\n",
        "$$\n",
        "T(\\alpha x + \\beta y) = \\alpha T(x) + \\beta T(y).\n",
        "$$\n",
        "\n",
        "**Answer:**"
      ]
    },
    {
      "cell_type": "markdown",
      "metadata": {},
      "source": [
        "Let $x, y \\in H$ and $\\alpha, \\beta \\in \\mathbb{R}$.  Then,\n",
        "\n",
        "\\begin{align*}\n",
        "T(\\alpha x + \\beta y) &= (\\langle \\alpha x + \\beta y, e_1 \\rangle, \\langle \\alpha x + \\beta y, e_2 \\rangle, \\dots) \\\\\n",
        "&= (\\alpha \\langle x, e_1 \\rangle + \\beta \\langle y, e_1 \\rangle, \\alpha \\langle x, e_2 \\rangle + \\beta \\langle y, e_2 \\rangle, \\dots) \\\\\n",
        "&= (\\alpha \\langle x, e_1 \\rangle, \\alpha \\langle x, e_2 \\rangle, \\dots) + (\\beta \\langle y, e_1 \\rangle, \\beta \\langle y, e_2 \\rangle, \\dots) \\\\\n",
        "&= \\alpha (\\langle x, e_1 \\rangle, \\langle x, e_2 \\rangle, \\dots) + \\beta (\\langle y, e_1 \\rangle, \\langle y, e_2 \\rangle, \\dots) \\\\\n",
        "&= \\alpha T(x) + \\beta T(y).\n",
        "\\end{align*}\n",
        "\n",
        "Thus, $T(\\alpha x + \\beta y) = \\alpha T(x) + \\beta T(y)$, which proves that $T$ is a linear map. Q.E.D"
      ]
    },
    {
      "cell_type": "markdown",
      "metadata": {
        "id": "UitrSocIz8jR"
      },
      "source": [
        "## Part C\n",
        "\n",
        "Show that $T$ is onto.\n",
        "\n",
        "*Hint:* Take a vector $a \\in \\ell^2$ and show that there exists a vector $x \\in H$ such that $T(x) = a$. Just try to write down the vector $x$ in terms of $a$ and the orthonormal basis $\\{ e_1, e_2, \\dots \\}$.\n",
        "\n",
        "**Answer:**"
      ]
    },
    {
      "cell_type": "markdown",
      "metadata": {
        "id": "dCTxKBrLz8jR"
      },
      "source": [
        "Let $a = (a_1, a_2, \\dots) \\in \\ell^2$. Since $a \\in \\ell^2$, we know that $\\sum_{i=1}^\\infty |a_i|^2 < \\infty$.  We want to find an $x \\in H$ such that $T(x) = a$, which means we need to find an $x$ such that $\\langle x, e_i \\rangle = a_i$ for all $i$.\n",
        "\n",
        "We can construct such an $x$ using the orthonormal basis $\\{e_1, e_2, \\dots\\}$:\n",
        "\n",
        "$$\n",
        "x = \\sum_{i=1}^\\infty a_i e_i.\n",
        "$$\n",
        "\n",
        "Since $\\sum_{i=1}^\\infty |a_i|^2 < \\infty$ and $\\{e_i\\}$ is an orthonormal basis, this series converges in $H$.  Now, let's check if $T(x) = a$:\n",
        "\n",
        "\\begin{align*}\n",
        "T(x) &= (\\langle x, e_1 \\rangle, \\langle x, e_2 \\rangle, \\dots) \\\\\n",
        "&= \\left( \\left\\langle \\sum_{j=1}^\\infty a_j e_j, e_1 \\right\\rangle, \\left\\langle \\sum_{j=1}^\\infty a_j e_j, e_2 \\right\\rangle, \\dots \\right) \\\\\n",
        "&= (a_1, a_2, \\dots) \\\\\n",
        "&= a.\n",
        "\\end{align*}\n",
        "\n",
        "Thus, for any $a \\in \\ell^2$, we have found an $x \\in H$ such that $T(x) = a$. This shows that $T$ is onto."
      ]
    },
    {
      "cell_type": "markdown",
      "metadata": {
        "id": "BHH1xUh2z8jR"
      },
      "source": [
        "## Part D\n",
        "\n",
        "Show that $T$ is one-to-one.\n",
        "\n",
        "*Hint:* Take two vectors $x, y \\in H$ and show that if $T(x) = T(y)$, then $x = y$.\n",
        "\n",
        "**Answer:**"
      ]
    },
    {
      "cell_type": "markdown",
      "metadata": {
        "id": "rasvXiKQz8jS"
      },
      "source": [
        "Suppose $T(x) = T(y)$ for some $x, y \\in H$.  This means that:\n",
        "\n",
        "$$\n",
        "(\\langle x, e_1 \\rangle, \\langle x, e_2 \\rangle, \\dots) = (\\langle y, e_1 \\rangle, \\langle y, e_2 \\rangle, \\dots).\n",
        "$$\n",
        "\n",
        "Therefore, $\\langle x, e_i \\rangle = \\langle y, e_i \\rangle$ for all $i = 1, 2, \\dots$.  This implies that $\\langle x - y, e_i \\rangle = 0$ for all $i$.\n",
        "\n",
        "Now, consider the vector $x - y$.  We can write it as:\n",
        "\n",
        "$$\n",
        "x - y = \\sum_{i=1}^\\infty \\langle x - y, e_i \\rangle e_i.\n",
        "$$\n",
        "\n",
        "Since $\\langle x - y, e_i \\rangle = 0$ for all $i$, we have:\n",
        "\n",
        "$$\n",
        "x - y = \\sum_{i=1}^\\infty 0 \\cdot e_i = 0.\n",
        "$$\n",
        "\n",
        "Thus, $x - y = 0$, which means $x = y$.  Therefore, $T$ is one-to-one."
      ]
    },
    {
      "cell_type": "markdown",
      "metadata": {
        "id": "mEGRMPwcz8jS"
      },
      "source": [
        "## Part E\n",
        "\n",
        "Show that $T$ keeps the inner product intact. That is, show that for all $x, y \\in H$,\n",
        "\n",
        "$$\n",
        "\\langle x, y \\rangle = \\langle T(x), T(y) \\rangle_{\\ell^2}.\n",
        "$$\n",
        "\n",
        "*Hint:* Use the fact that $T$ is linear and the definition of $T$. The inner product of two vectors in $\\ell^2$ is defined as $\\langle a, b \\rangle_{\\ell^2} = \\sum_{i=1}^\\infty a_i b_i$.\n",
        "\n",
        "**Answer:**"
      ]
    },
    {
      "cell_type": "markdown",
      "metadata": {
        "id": "BiugENg0z8jS"
      },
      "source": [
        "We need to show that $T$ preserves the inner product. That is, for all $x, y \\in H$, we need to show that $\\langle x, y \\rangle = \\langle T(x), T(y) \\rangle_{\\ell^2}$.\n",
        "\n",
        "Let $x, y \\in H$.  Then,\n",
        "\n",
        "\\begin{align*}\n",
        "\\langle T(x), T(y) \\rangle_{\\ell^2} &= \\left\\langle (\\langle x, e_1 \\rangle, \\langle x, e_2 \\rangle, \\dots), (\\langle y, e_1 \\rangle, \\langle y, e_2 \\rangle, \\dots) \\right\\rangle_{\\ell^2} \\\\\n",
        "&= \\sum_{i=1}^\\infty \\langle x, e_i \\rangle \\langle y, e_i \\rangle.\n",
        "\\end{align*}\n",
        "\n",
        "We know that we can express $x$ as $x = \\sum_{i=1}^\\infty \\langle x, e_i \\rangle e_i$ and $y$ as $y = \\sum_{j=1}^\\infty \\langle y, e_j \\rangle e_j$.  Therefore,\n",
        "\n",
        "\\begin{align*}\n",
        "\\langle x, y \\rangle &= \\left\\langle \\sum_{i=1}^\\infty \\langle x, e_i \\rangle e_i, \\sum_{j=1}^\\infty \\langle y, e_j \\rangle e_j \\right\\rangle \\\\\n",
        "&= \\sum_{i=1}^\\infty \\sum_{j=1}^\\infty \\langle x, e_i \\rangle \\langle y, e_j \\rangle \\langle e_i, e_j \\rangle.\n",
        "\\end{align*}\n",
        "\n",
        "Since $\\{e_i\\}$ is an orthonormal basis, $\\langle e_i, e_j \\rangle = \\delta_{ij}$, where $\\delta_{ij}$ is the Kronecker delta (1 if $i=j$, 0 otherwise).  Thus,\n",
        "\n",
        "\\begin{align*}\n",
        "\\langle x, y \\rangle &= \\sum_{i=1}^\\infty \\sum_{j=1}^\\infty \\langle x, e_i \\rangle \\langle y, e_j \\rangle \\delta_{ij} \\\\\n",
        "&= \\sum_{i=1}^\\infty \\langle x, e_i \\rangle \\langle y, e_i \\rangle \\\\\n",
        "&= \\langle T(x), T(y) \\rangle_{\\ell^2}.\n",
        "\\end{align*}\n",
        "\n",
        "Therefore, $T$ preserves the inner product."
      ]
    },
    {
      "cell_type": "markdown",
      "metadata": {
        "id": "Voe9uiuyz8jS"
      },
      "source": [
        "# Problem 3 - Numerical Construction of Polynomial Chaos\n",
        "\n",
        "Through this problem, you are going to construct orthogonal polynomials for the exponential distribution and test a few things with them.\n",
        "You need to familiarize yourself with [this hands-on-activity](https://predictivesciencelab.github.io/advanced-scientific-machine-learning/up/polynomial_chaos/04_orthpol_demo.html) before you proceed.\n",
        "\n",
        "## Part A\n",
        "\n",
        "Consider the random variable:\n",
        "\n",
        "$$\n",
        "\\Xi \\sim \\exp(1).\n",
        "$$\n",
        "\n",
        "The exponential distribution has the following probability density function:\n",
        "\n",
        "$$\n",
        "f_\\Xi(\\xi) = \\begin{cases}\n",
        "e^{-\\xi} & \\xi \\geq 0 \\\\\n",
        "0 & \\xi < 0\n",
        "\\end{cases}.\n",
        "$$\n",
        "\n",
        "Use the `orthojax` package to construct the first 5 orthogonal polynomials for $\\Xi$.\n",
        "Plot them on the same figure for $\\xi \\in [0, 5]$."
      ]
    },
    {
      "cell_type": "code",
      "execution_count": null,
      "metadata": {
        "colab": {
          "base_uri": "https://localhost:8080/",
          "height": 453
        },
        "id": "_t6NmVUOz8jS",
        "outputId": "6c22c610-ef62-4eb5-a773-60afd1181177"
      },
      "outputs": [
        {
          "data": {
            "image/png": "[encoded data removed]",
            "text/plain": [
              "<Figure size 640x480 with 1 Axes>"
            ]
          },
          "metadata": {},
          "output_type": "display_data"
        },
        {
          "ename": "",
          "evalue": "",
          "output_type": "error",
          "traceback": [
            "\u001b[1;31mnotebook controller is DISPOSED. \n",
            "\u001b[1;31mView Jupyter <a href='command:jupyter.viewOutput'>log</a> for further details."
          ]
        },
        {
          "ename": "",
          "evalue": "",
          "output_type": "error",
          "traceback": [
            "\u001b[1;31mnotebook controller is DISPOSED. \n",
            "\u001b[1;31mView Jupyter <a href='command:jupyter.viewOutput'>log</a> for further details."
          ]
        }
      ],
      "source": [
        "# your code here\n",
        "# Hint: You can use the function orthojax.make_orthogonal_polynomial\n",
        "# but you need to pass the argument right=jnp.inf to indicate that\n",
        "# the right endpoint is infinity.\n",
        "\n",
        "\n",
        "\n",
        "# Define polynomial degree and weight function\n",
        "degree = 5\n",
        "pdf = lambda xi: jnp.where(xi >= 0, jnp.exp(-xi), 0)\n",
        "\n",
        "# Generate xi values\n",
        "xis = jnp.linspace(0.0, 5.0, 200)\n",
        "\n",
        "# Create polynomial\n",
        "poly = ojax.make_orthogonal_polynomial(degree, left=0.0, right=jnp.inf, wf=pdf)\n",
        "phi = poly(xis)\n",
        "\n",
        "# Create plot\n",
        "fig, ax = plt.subplots()\n",
        "for i in range(degree + 1):\n",
        "  phi_i = phi[:,i]\n",
        "  # print(phi_i.shape)\n",
        "  ax.plot(xis, phi_i, label=f\"$\\phi_{{{i}}}(\\\\xi)$\")\n",
        "\n",
        "ax.legend()\n",
        "ax.set(xlabel=r\"$\\xi$\", ylabel=r\"$\\phi_i(\\xi)$\")\n",
        "\n",
        "sns.despine(trim=True)\n",
        "plt.show()\n"
      ]
    },
    {
      "cell_type": "markdown",
      "metadata": {
        "id": "0OQAXYMsz8jT"
      },
      "source": [
        "## Part B\n",
        "\n",
        "Project the function:\n",
        "\n",
        "$$\n",
        "f(\\xi) = \\sin(x)\n",
        "$$\n",
        "\n",
        "onto the first 5 orthogonal polynomials for $\\Xi$. Plot the function $f$ and its projection on the same figure for $\\xi \\in [0, 5]$.\n",
        "\n",
        "*Hint:* Do exactly what I do in the activity. You need to extract from `poly` the quadrature rule so that you can do the inner product."
      ]
    },
    {
      "cell_type": "code",
      "execution_count": null,
      "metadata": {
        "id": "FCGClhefz8jT"
      },
      "outputs": [
        {
          "name": "stdout",
          "output_type": "stream",
          "text": [
            "(100,) (100,)\n"
          ]
        },
        {
          "data": {
            "image/png": "[encoded data removed]",
            "text/plain": [
              "<Figure size 640x480 with 1 Axes>"
            ]
          },
          "metadata": {},
          "output_type": "display_data"
        },
        {
          "ename": "",
          "evalue": "",
          "output_type": "error",
          "traceback": [
            "\u001b[1;31mnotebook controller is DISPOSED. \n",
            "\u001b[1;31mView Jupyter <a href='command:jupyter.viewOutput'>log</a> for further details."
          ]
        },
        {
          "ename": "",
          "evalue": "",
          "output_type": "error",
          "traceback": [
            "\u001b[1;31mnotebook controller is DISPOSED. \n",
            "\u001b[1;31mView Jupyter <a href='command:jupyter.viewOutput'>log</a> for further details."
          ]
        }
      ],
      "source": [
        "# Define function to be projected\n",
        "f = lambda xi: jnp.sin(xi)\n",
        "\n",
        "# Extract quadrature\n",
        "x, w = poly.quad\n",
        "print(x.shape, w.shape)\n",
        "\n",
        "# Evaluate function and polynomials \n",
        "f_nodes = f(x)\n",
        "phi_nodes = poly(x)\n",
        "\n",
        "# Compute projection coefficients\n",
        "coeffs = jnp.einsum(\"i, ij->j\", w * f_nodes, phi_nodes)\n",
        "\n",
        "# Construct the projection\n",
        "f_proj = jnp.dot(phi, coeffs)\n",
        "\n",
        "# Plot\n",
        "plt.plot(xis, f(xis), label=r\"$\\sin(\\xi)$\", color='blue')\n",
        "plt.plot(xis, f_proj, label=\"Projection onto Orthogonal Polynomials\", linestyle='--', color='red')\n",
        "plt.xlabel(r\"$\\xi$\")\n",
        "plt.ylabel(r\"$f(\\xi)$\")\n",
        "plt.legend()\n",
        "plt.grid(False)\n",
        "sns.despine(trim=True)"
      ]
    },
    {
      "cell_type": "markdown",
      "metadata": {
        "id": "HRf-50liz8jT"
      },
      "source": [
        "## Part C\n",
        "\n",
        "Use the polynomial projection to calculate the mean and variance of the random variable\n",
        "\n",
        "$$\n",
        "Y = f(\\Xi) = \\sin(\\Xi).\n",
        "$$\n",
        "\n",
        "Compare to Monte Carlo estimates or the exact values."
      ]
    },
    {
      "cell_type": "code",
      "execution_count": null,
      "metadata": {
        "id": "qnxkRIAhz8jT"
      },
      "outputs": [
        {
          "name": "stdout",
          "output_type": "stream",
          "text": [
            "Mean (PC): 0.500000, Mean (MC): 0.500555, Mean (Exact): 0.500000\n",
            "Variance (PC): 0.140594, Variance (MC): 0.149755, Variance (Exact): 0.250000\n"
          ]
        },
        {
          "ename": "",
          "evalue": "",
          "output_type": "error",
          "traceback": [
            "\u001b[1;31mnotebook controller is DISPOSED. \n",
            "\u001b[1;31mView Jupyter <a href='command:jupyter.viewOutput'>log</a> for further details."
          ]
        },
        {
          "ename": "",
          "evalue": "",
          "output_type": "error",
          "traceback": [
            "\u001b[1;31mnotebook controller is DISPOSED. \n",
            "\u001b[1;31mView Jupyter <a href='command:jupyter.viewOutput'>log</a> for further details."
          ]
        }
      ],
      "source": [
        "# Your code here\n",
        "\n",
        "# Compute mean and variance using polynomial projection\n",
        "mean_pc = coeffs[0] \n",
        "poly_norms = jnp.einsum(\"i,ij,ik->j\", w, phi_nodes, phi_nodes)   \n",
        "variance_pce = jnp.einsum(\"j,j->\", coeffs[1:]**2, poly_norms[1:])   \n",
        "\n",
        "# Monte Carlo estimates\n",
        "key = jr.PRNGKey(42)\n",
        "M = 100000  # Number of MC samples\n",
        "\n",
        "xi_samples = jr.exponential(key, shape=(M,))  \n",
        "y_samples = jnp.sin(xi_samples)\n",
        "mean_mc = jnp.mean(y_samples)\n",
        "variance_mc = jnp.var(y_samples)\n",
        "\n",
        "# Exact mean and variance \n",
        "exact_mean = 1 / (1 + 1**2)  \n",
        "exact_var = 0.5 - exact_mean**2  \n",
        "# Print results\n",
        "print(f\"Mean (PC): {mean_pc:.6f}, Mean (MC): {mean_mc:.6f}, Mean (Exact): {exact_mean:.6f}\")\n",
        "print(f\"Variance (PC): {variance_pce:.6f}, Variance (MC): {variance_mc:.6f}, Variance (Exact): {exact_var:.6f}\")\n"
      ]
    },
    {
      "cell_type": "markdown",
      "metadata": {
        "id": "X58435Onz8jV"
      },
      "source": [
        "# Problem 4 - Uncertainty Propagation with Polynomial Chaos\n",
        "\n",
        "Consider the Lorenz system:\n",
        "\n",
        "$$\n",
        "\\begin{align*}\n",
        "\\dot{x} &= \\sigma(y-x),\\\\\n",
        "\\dot{y} &= x(\\rho-z)-y,\\\\\n",
        "\\dot{z} &= xy-\\beta z,\n",
        "\\end{align*}\n",
        "$$\n",
        "\n",
        "with parameters $\\sigma=10$, $\\beta=8/3$, and $\\rho=28$.\n",
        "Take the initial conditions to be random:\n",
        "\n",
        "$$\n",
        "\\begin{align*}\n",
        "x(0) &\\sim \\mathcal{N}(0, 0.01),\\\\\n",
        "y(0) &\\sim \\mathcal{N}(0, 0.01),\\\\\n",
        "z(0) &\\sim \\mathcal{N}(0, 0.01).\n",
        "\\end{align*}\n",
        "$$\n",
        "\n",
        "Use may reuse code from [this hands-on activity](https://predictivesciencelab.github.io/advanced-scientific-machine-learning/up/polynomial_chaos/07_pce_dynamical_system.html).\n",
        "\n",
        "## Part A - Build a Polynomial Chaos Surrogate\n",
        "\n",
        "Build a polynomial chaos surrogate. Calculate the mean and the variance as a function of time. Compare the result to Monte Carlo estimates."
      ]
    },
    {
      "cell_type": "code",
      "execution_count": null,
      "metadata": {},
      "outputs": [
        {
          "ename": "",
          "evalue": "",
          "output_type": "error",
          "traceback": [
            "\u001b[1;31mnotebook controller is DISPOSED. \n",
            "\u001b[1;31mView Jupyter <a href='command:jupyter.viewOutput'>log</a> for further details."
          ]
        },
        {
          "ename": "",
          "evalue": "",
          "output_type": "error",
          "traceback": [
            "\u001b[1;31mnotebook controller is DISPOSED. \n",
            "\u001b[1;31mView Jupyter <a href='command:jupyter.viewOutput'>log</a> for further details."
          ]
        }
      ],
      "source": [
        "# Your code here\n",
        "# Sparse grid and polynomial basis generation functions\n",
        "\n",
        "def make_sparse_grid(dim, level): \n",
        "\n",
        "    \"\"\"Make a sparse grid of dimension dim and a given level.\n",
        "    We do it for the uniform cube [-1, 1]^d.\n",
        "\n",
        "    Params:\n",
        "        dim: The dimension of the sparse grid\n",
        "        level: The level of the sparse grid\n",
        "    \"\"\"\n",
        "    x, w = design.sparse_grid(dim, level, 'F2') # F2 is the Clenshaw-Curtis rule\n",
        "    w = w / (2 ** dim) # Adjust weights for the cube [-1, 1]^d\n",
        "    x = jnp.array(x, dtype=jnp.float32) # Convert to JAX array\n",
        "    w = jnp.array(w, dtype=jnp.float32) # Convert to JAX array\n",
        "    return ojax.QuadratureRule(x, w) # Return the quadrature rule\n",
        "\n",
        "# Polynomial Chaos Problem Setup \n",
        "PCProblem = namedtuple(\"PCProblem\", [\"poly\", \"quad\", \"f\", \"x0\", \"phis\", \"y0\", \"rhs\"]) \n",
        "\n",
        "def make_pc_problem(poly, quad, f, x0):    \n",
        "    \"\"\"Make the PC dynamical system problem.\n",
        "\n",
        "    Params:\n",
        "        poly: The polynomial basis\n",
        "        quad: The quadrature rule used to compute inner products\n",
        "        f: The function defining the right hand side of the ODE (function of x, t and xi) to R^n\n",
        "        x0: The initial condition (function of xi, from R^d -> R^n)\n",
        "        theta: The parameters of the ODE\n",
        "    \"\"\"\n",
        "    xis, ws = quad\n",
        "    phis = poly(xis)\n",
        "    x0s = jit(vmap(x0))(xis)\n",
        "    y0 = jnp.einsum(\"m,mp,mn->np\", ws, phis, x0s)\n",
        "    \n",
        "    # Adjusted fv mapping (now passes x, y, z)\n",
        "    fv = vmap(f, in_axes=(None, 0, None))  # Map over the quadrature points\n",
        "    \n",
        "    @jit\n",
        "    def rhs(t, y, phis):\n",
        "        \"\"\"Right-hand side of the polynomial chaos system.\n",
        "        Params:\n",
        "            t: Time\n",
        "            y: The current state of the system\n",
        "            phis: The polynomial basis evaluated at the quadrature points\n",
        "        \"\"\"\n",
        "        xs = jnp.einsum(\"np,mp->mn\", y, phis)\n",
        "        # Unpack xs into x, y, z\n",
        "        x, y, z = xs[:, 0], xs[:, 1], xs[:, 2]\n",
        "        fs = fv(t, xs, params)  # Pass x, y, z to lorenz\n",
        "        return jnp.einsum(\"m,mn,mp->np\", ws, fs, phis)\n",
        "    \n",
        "    return PCProblem(poly, quad, f, x0, phis, y0, rhs)\n",
        "\n",
        "\n",
        "NormalDistribution = namedtuple(\"NormalDistribution\", [\"mu\", \"sigma\"])\n",
        "Parameters = namedtuple(\"Parameters\", [\"sigma\", \"beta\", \"rho\"])\n",
        "# InitialCondition = namedtuple(\"InitialCondition\", [\"x0\", \"y0\",\"z0\"])\n",
        "Lorentz = namedtuple(\"Lorentz\", [\"params\", \"X\", \"Y\", \"Z\"])\n",
        "\n",
        "X = NormalDistribution(0.00, 0.01)\n",
        "Y = NormalDistribution(0.00, 0.01)\n",
        "Z = NormalDistribution(0.00, 0.01)\n",
        "\n",
        "params = Parameters(10.0, 8.0/3.0, 28.0)\n",
        "\n",
        "lorentz = Lorentz(params, X, Y, Z)\n",
        "# print(lorentz)\n",
        "\n",
        "# Trabsform a normal distribution to a [-1, 1]\n",
        "@jit\n",
        "def to_normal(xi : float, dist : NormalDistribution) -> float:\n",
        "    \"\"\"Transforms a [-1, 1] to a normal distribution.\"\"\"\n",
        "    return dist.mu + dist.sigma * jstats.norm.ppf(0.5 * (xi + 1))\n",
        "\n",
        "# Initial condition for the Lorenz system\n",
        "@jit\n",
        "def x0(xi, lorentz : Lorentz):\n",
        "    \"\"\"Initial condition for the position.\"\"\"\n",
        "    return jnp.array(\n",
        "        [to_normal(xi[0], lorentz.X), to_normal(xi[1], lorentz.Y), to_normal(xi[2], lorentz.Z)]   \n",
        "    )\n",
        "\n",
        "@jit\n",
        "def vector_field(t, y, params):\n",
        "    \"\"\"Vector field for the Lorenz system.\"\"\"\n",
        "    x, y, z = jnp.split(y, 3)\n",
        "    x, y, z = x.squeeze(), y.squeeze(), z.squeeze()  # Ensure scalars\n",
        "\n",
        "    sigma = params.sigma\n",
        "    beta = params.beta\n",
        "    rho = params.rho\n",
        "    dxdt = sigma * (y - x)\n",
        "    dydt = x * (rho - z) - y\n",
        "    dzdt = x * y - beta * z\n",
        "    return jnp.array([dxdt, dydt, dzdt])\n",
        "\n",
        "@jit\n",
        "def solve_lorentz(xi, lorentz : Lorentz):\n",
        "    \n",
        "    \"\"\"Solve the Lorenz system for a given xi.\"\"\"\n",
        "    solver = Tsit5()\n",
        "    saveat = SaveAt(ts=jnp.linspace(0, 10, 2000))\n",
        "    term = ODETerm(vector_field)\n",
        "    sol = diffeqsolve(\n",
        "        term, \n",
        "        solver, \n",
        "        t0=0,\n",
        "        t1=10,\n",
        "        dt0=0.01,\n",
        "        y0=x0(xi, lorentz),\n",
        "        args=lorentz.params,\n",
        "        saveat=saveat\n",
        "    )\n",
        "    return sol.ys\n",
        "\n",
        "solve_lorentz = jit(vmap(solve_lorentz, in_axes=(0, None)))\n",
        "\n",
        "\n",
        "# Define Monte Carlo ground truth\n",
        "num_samples = 100\n",
        "xis = 2 * np.random.uniform(size =(num_samples, 3)) - 1\n",
        "samples = solve_lorentz(xis, lorentz)\n",
        "mc_mean = jnp.mean(samples, axis=0)\n",
        "mc_var = jnp.var(samples, axis=0)\n",
        "\n",
        "# Define the polynomial chaos problem\n",
        "total_degree = 30\n",
        "degrees = (10, 10, 10)\n",
        "poly = ojax.TensorProduct(\n",
        "    total_degree,\n",
        "    [ojax.make_legendre_polynomial(d) for d in degrees])\n",
        "level = 10\n",
        "quad = make_sparse_grid(3, level)\n",
        "\n",
        "new_vector_field = lambda t, x, xi: vector_field(t, x, lorentz.params)\n",
        "new_x0 = lambda xi: x0(xi, lorentz)\n",
        "pc_problem = make_pc_problem(poly, quad, new_vector_field, new_x0)\n",
        "\n",
        "@jit\n",
        "@partial(vmap, in_axes=(0, None))\n",
        "def solve_lorentz_pc(lorentz, poly = poly, quad = quad):\n",
        "    \"\"\"Solve the Lorenz system using polynomial chaos.\"\"\"\n",
        "    new_vector_field = lambda t, x, xi: vector_field(t, x, lorentz. params)\n",
        "    new_x0 = lambda xi: x0(xi, lorentz)\n",
        "    pc_problem = make_pc_problem(poly, quad, new_vector_field, new_x0)\n",
        "    sol = diffeqsolve(\n",
        "        ODETerm(pc_problem.rhs),\n",
        "        Tsit5(),\n",
        "        t0=0,\n",
        "        t1=10,\n",
        "        dt0=0.1,\n",
        "        y0=pc_problem.y0,\n",
        "        args=pc_problem.phis,\n",
        "        saveat = SaveAt(ts=jnp.linspace(0, 10, 2000))\n",
        "        )          \n",
        "    return sol\n",
        "\n",
        "pc_sol = solve_lorentz_pc(lorentz)\n",
        "pc_mean = pc_sol.ys[:,:,0]\n",
        "pc_variance = np.sum(pc_sol.ys[:,:,1:]**2, axis=2)\n",
        "\n",
        "fig, ax = plt.subplots()\n",
        "ax.plot(pc_sol.ts, pc_mean, label=\"PC mean\")\n",
        "ax.plot(pc_sol.ts, mc_mean, '--', label=\"MC mean\")\n",
        "ax.legend(loc=\"best\")\n",
        "sns.despine(trim=True);\n",
        "\n",
        "ig, ax = plt.subplots()\n",
        "ax.plot(pc_sol.ts, pc_variance, label=\"PC variance\")\n",
        "ax.plot(pc_sol.ts, mc_var, '--', label=\"MC variance\")\n",
        "ax.legend(loc=\"best\")\n",
        "sns.despine(trim=True);\n",
        "\n",
        "%timeit solve_lorentz_pc(lorentz)\n",
        "%timeit solve_lorentz(xis, lorentz)\n",
        "\n",
        "@jit\n",
        "def surrogate(xis, pc_coeff = pc_sol.ys, poly = poly):\n",
        "    \"\"\"Surrogate model for the Lorenz system.\"\"\"\n",
        "    phis = poly(xis)\n",
        "    ys = jnp.einsum(\"tip,mp->mti\", pc_coeff, phis)\n",
        "    # ys = jnp.einsum(\"tm, bm -> tb\", pc_coeff, phis)\n",
        "    return ys\n",
        "\n",
        "num_test = 2\n",
        "xi_test = 2 * np.random.uniform(size=(num_test, 3)) - 1\n",
        "preds = surrogate(xi_test)\n",
        "true = solve_lorentz(xi_test, lorentz)\n",
        "\n",
        "names = [\"x\", \"y\", \"z\"]\n",
        "fig, ax = plt.subplots(1, 2)\n",
        "for i in range(num_test):\n",
        "    for k in range(2):\n",
        "        ax[k].plot(pc_sol.ts, preds[i, :, k], label=f\"PC {i+1} {names[k]}\")\n",
        "        ax[k].plot(pc_sol.ts, true[i, :, k], '--', label=f\"True {i+1} {names[k]}\")\n",
        "        ax[k].legend(loc=\"best\")\n",
        "        ax[k].set_xlabel(\"$t$\")\n",
        "        ax[k].set_ylabel(\"$\" + names[k] + \"$\")\n",
        "    plt.legend(loc=\"best\")\n",
        "sns.despine(trim=True);"
      ]
    },
    {
      "cell_type": "markdown",
      "metadata": {
        "id": "9DBw6lPuz8jW"
      },
      "source": [
        "## Part B - Predictions\n",
        "\n",
        "Generate three random initial conditions and propagate them forward in time using the surrogate. Plot only $x$ as a function of time for each initial condition. Compare to the ground truth."
      ]
    },
    {
      "cell_type": "code",
      "execution_count": null,
      "metadata": {
        "id": "cyiwxS1zz8jW"
      },
      "outputs": [
        {
          "ename": "",
          "evalue": "",
          "output_type": "error",
          "traceback": [
            "\u001b[1;31mnotebook controller is DISPOSED. \n",
            "\u001b[1;31mView Jupyter <a href='command:jupyter.viewOutput'>log</a> for further details."
          ]
        },
        {
          "ename": "",
          "evalue": "",
          "output_type": "error",
          "traceback": [
            "\u001b[1;31mnotebook controller is DISPOSED. \n",
            "\u001b[1;31mView Jupyter <a href='command:jupyter.viewOutput'>log</a> for further details."
          ]
        }
      ],
      "source": [
        "# # Your code here\n",
        "# # Generate three random initial conditions\n",
        "# num_test = 3\n",
        "# xi_test = 2 * np.random.uniform(size=(num_test, 3)) - 1\n",
        "\n",
        "# # Compute predictions using the surrogate model\n",
        "# preds = surrogate(xi_test)\n",
        "\n",
        "# # Compute ground truth using the full numerical solver\n",
        "# true = solve_lorentz(xi_test, lorentz)\n",
        "\n",
        "# # Plot x-component as a function of time\n",
        "# fig, ax = plt.subplots()\n",
        "# for i in range(num_test):\n",
        "#     ax.plot(pc_sol.ts, preds[i, :, 0], label=f\"PC Prediction {i+1}\")\n",
        "#     ax.plot(pc_sol.ts, true[i, :, 0], '--', label=f\"Ground Truth {i+1}\")\n",
        "\n",
        "# ax.set_xlabel(\"$t$\")\n",
        "# ax.set_ylabel(\"$x$\")\n",
        "# ax.legend(loc=\"best\")\n",
        "# sns.despine(trim=True)\n",
        "# plt.show()\n"
      ]
    },
    {
      "cell_type": "markdown",
      "metadata": {
        "id": "7kHn4sfNz8jW"
      },
      "source": [
        "## Part C - Probability Density Function\n",
        "\n",
        "Use your surrogate to estimate the probability density function of $x$ at $t=1, 2, 5,$ and $10$.\n",
        "Use different plots for each case.\n",
        "You can do this, by generating $100,000$ initial conditions, propagating them forward through the surrogate and then plotting a histogram of the results.\n",
        "Compare to Monte Carlo PDFs. Use transparency in your plots."
      ]
    },
    {
      "cell_type": "code",
      "execution_count": null,
      "metadata": {
        "id": "gEtvZHE9z8jW"
      },
      "outputs": [
        {
          "ename": "",
          "evalue": "",
          "output_type": "error",
          "traceback": [
            "\u001b[1;31mnotebook controller is DISPOSED. \n",
            "\u001b[1;31mView Jupyter <a href='command:jupyter.viewOutput'>log</a> for further details."
          ]
        },
        {
          "ename": "",
          "evalue": "",
          "output_type": "error",
          "traceback": [
            "\u001b[1;31mnotebook controller is DISPOSED. \n",
            "\u001b[1;31mView Jupyter <a href='command:jupyter.viewOutput'>log</a> for further details."
          ]
        }
      ],
      "source": [
        "# Your code here"
      ]
    }
  ],
  "metadata": {
    "colab": {
      "provenance": []
    },
    "kernelspec": {
      "display_name": "controlnet",
      "language": "python",
      "name": "python3"
    },
    "language_info": {
      "codemirror_mode": {
        "name": "ipython",
        "version": 3
      },
      "file_extension": ".py",
      "mimetype": "text/x-python",
      "name": "python",
      "nbconvert_exporter": "python",
      "pygments_lexer": "ipython3",
      "version": "3.10.15"
    }
  },
  "nbformat": 4,
  "nbformat_minor": 0
}
